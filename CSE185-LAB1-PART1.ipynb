{
 "cells": [
  {
   "cell_type": "markdown",
   "metadata": {
    "deletable": false,
    "editable": false,
    "nbgrader": {
     "cell_type": "markdown",
     "checksum": "2fd1c351bb5857708203f4617f81464b",
     "grade": false,
     "grade_id": "text-lab1-part1",
     "locked": true,
     "schema_version": 3,
     "solution": false
    }
   },
   "source": [
    "# Lab 1: next generation sequencing and mutation hunting\n",
    "\n",
    "## Part 1 (30 pts total)\n",
    "\n",
    "Skills covered: basic UNIX navigation, intro to NGS, sequence alignment and variant calling, python plotting\n",
    "\n",
    "\n",
    "### Intro\n",
    "A patient arrives in your clinic with a rare disorder. You expect the condition is genetic (i.e. due to a mutation in her genome). However since the condition is not observed in any family members, you suspect it could be due to a *de novo* mutation that occurred in the germline (egg or sperm cells) of one of her parents.\n",
    "\n",
    "To look for potential disease-causing mutations, you perform whole genome sequencing on the patient and her parents (which together we call a \"trio\").\n",
    "\n",
    "This week, we will learn some key basics for processing next generation sequencing (NGS) data, including sequence alignment, variant calling, and standard file formats (FASTQ/BAM/VCF). For this week's assignment, many commands and template code are provided to you. In future labs, you'll be doing more of this set up on your own.\n",
    "\n",
    "Today, we'll get familiar with the datasets and align our reads to the reference genome. In part 2, we'll dive deeper and go look for candidate mutations."
   ]
  },
  {
   "cell_type": "markdown",
   "metadata": {
    "deletable": false,
    "editable": false,
    "nbgrader": {
     "cell_type": "markdown",
     "checksum": "da15f1de19f42762358bf05304dbac99",
     "grade": false,
     "grade_id": "text-inspect",
     "locked": true,
     "schema_version": 3,
     "solution": false
    }
   },
   "source": [
    "## 1. Inspect raw data manually\n",
    "\n",
    "For this part, open up a separate window running a terminal where you can run the commands.\n",
    "\n",
    "Before running any analysis, it's a good practice to look manually at the data to make sure all the files are what you think they are. First, you should look at the sequence files to verify the format is correct. You don’t want to open the entire files, you will just do a quick inspection of the first few reads. Use the `head` command to look at the first 20 lines in the first fastq file for the child genome (`NA12878_child_1.fq`). Replace [file.format] below with the actual path to this file. Recall from the excercises that the data files specific to this week's assignment can be found in the `~/public/lab1` directory.\n",
    "\n",
    "```shell\n",
    "head -n 20 [file.format]\n",
    "```\n",
    "\n",
    "Take a look at each file. Each read has 4 lines of information, and then the next read starts on the\n",
    "following line. The first line starts with the \"@\" symbol, and contains identifiers and information about\n",
    "this read. The next line contains the actual sequence, then on line three there is a \"+\", which may\n",
    "sometimes have the identifier and info repeated. \n",
    "\n",
    "Line 4 contains the quality string, where ASCII characters encode the quality score for each base.\n",
    "The quality score ranges from 0 to about 40; the higher the number, the greater the confidence of the\n",
    "base call. To get the actual quality score, you need to figure out the value of the symbol, then subtract\n",
    "33 (this is called \"Sanger\" scaling type, because it's the same scaling that people use with traditional\n",
    "Sanger sequencing). With some older Illumina data (pre version 1.8), you subtract other numbers, like\n",
    "64, for more info, see: \n",
    "\n",
    "http://drive5.com/usearch/manual/quality_score.html\n",
    "\n",
    "Also take a look at the second file, containing the second read in each read pair. Notice the reads are in the same order in each file. e.g. the first reads in `NA12878_child_1.fq` and in `NA12878_child_2.fq` are paired. They have identical read identifiers, with the exception of the suffix `<read id>/1` vs. `<read id>/2`."
   ]
  },
  {
   "cell_type": "markdown",
   "metadata": {
    "deletable": false,
    "editable": false,
    "nbgrader": {
     "cell_type": "markdown",
     "checksum": "ced3830f63181d77b620c0ec39dd6dc0",
     "grade": false,
     "grade_id": "inspect-reads",
     "locked": true,
     "schema_version": 3,
     "solution": false
    }
   },
   "source": [
    "**Question 1 (3 pts)**: Look at the beginning of the `NA12878_child_1.fq` file, and find the third read. What is the read identifier? What is the quality symbol for the read's first base? Look up the value associated with this ASCII symbol online. What is the probability that this base is an error?\n",
    "\n",
    "Set the variables `readid`, `qual`, and `p_error` to your answers below."
   ]
  },
  {
   "cell_type": "code",
   "execution_count": 1,
   "metadata": {
    "deletable": false,
    "nbgrader": {
     "cell_type": "code",
     "checksum": "1c7306ce1c7f287d0cb791b634ff6f13",
     "grade": false,
     "grade_id": "inspect-reads-answer",
     "locked": false,
     "schema_version": 3,
     "solution": true
    }
   },
   "outputs": [],
   "source": [
    "# Set the variables below to your answers\n",
    "readid = ''\n",
    "qual = ''\n",
    "p_error = 0\n",
    "\n",
    "# your code here\n",
    "readid = 'HSQ1004:134:C0D8DACXX:1:1101:1529:183767/1'\n",
    "qual = 'C'\n",
    "p_error = 10**(-3.4)\n",
    "\n",
    "# raise NotImplementedError"
   ]
  },
  {
   "cell_type": "code",
   "execution_count": 2,
   "metadata": {
    "deletable": false,
    "editable": false,
    "nbgrader": {
     "cell_type": "code",
     "checksum": "a26fa104fccc32e1d2a69c130881f28f",
     "grade": true,
     "grade_id": "inspect-reads-test-readid",
     "locked": true,
     "points": 1,
     "schema_version": 3,
     "solution": false
    }
   },
   "outputs": [],
   "source": [
    "# Make sure the answers are in the right format.\n",
    "assert(len(readid)==42) # should be 42 characters long\n",
    "assert(type(readid)==str) # should be a string type\n",
    "assert(readid.startswith('HSQ')) # should start with 'HSQ'\n",
    "assert(readid.endswith('/1')) # should end with '/`'\n",
    "assert(readid.count(':')==6) # should have 6 colons in it\n",
    "\n",
    "# Hidden tests check the actual answers"
   ]
  },
  {
   "cell_type": "code",
   "execution_count": 3,
   "metadata": {
    "deletable": false,
    "editable": false,
    "nbgrader": {
     "cell_type": "code",
     "checksum": "7a443a80c9c2cd8cdff8872b301de728",
     "grade": true,
     "grade_id": "inspect-reads-test-qual",
     "locked": true,
     "points": 1,
     "schema_version": 3,
     "solution": false
    }
   },
   "outputs": [],
   "source": [
    "# Make sure the answers are in the right format.\n",
    "assert(len(qual)==1) # should be 1 character\n",
    "assert(qual in ''.join(chr(x) for x in range(128))) # should be a valid ascii characer\n",
    "\n",
    "# Hidden tests check the actual answers"
   ]
  },
  {
   "cell_type": "code",
   "execution_count": 4,
   "metadata": {
    "deletable": false,
    "editable": false,
    "nbgrader": {
     "cell_type": "code",
     "checksum": "6ee17da98d9d730d395063e666b96724",
     "grade": true,
     "grade_id": "inspect-reads-test-perror",
     "locked": true,
     "points": 1,
     "schema_version": 3,
     "solution": false
    }
   },
   "outputs": [],
   "source": [
    "# Make sure the answers are in the right format.\n",
    "assert(type(p_error)==float)\n",
    "assert(p_error>0 and p_error<1)\n",
    "assert(abs(10**(-1*(ord(qual)-33)/10)-p_error)<0.0001) # reported qual score should match reported p_error\n",
    "\n",
    "# Hidden tests check the actual answers"
   ]
  },
  {
   "cell_type": "markdown",
   "metadata": {
    "deletable": false,
    "editable": false,
    "nbgrader": {
     "cell_type": "markdown",
     "checksum": "33b20fabd741d8e312fec620efd93239",
     "grade": false,
     "grade_id": "text-head-tail",
     "locked": true,
     "schema_version": 3,
     "solution": false
    }
   },
   "source": [
    "Now let's take a look at the human reference genome, which is stored in `~/public/genomes/hg19.fa`, and introduce a new UNIX command. We can use the `cat` command to print the contents of a file to the screen. (Note: FYI the reference genome file was obtained from here: https://hgdownload.soe.ucsc.edu/goldenPath/hg19/bigZips/)\n",
    "\n",
    "The reference genome is a pretty big file (~3GB GB) so we don't want to look at the whole thing at once. Instead, we'll use a UNIX trick of \"piping\" (using the `|` symbol) which allows us to take the output of one command and use it as input to the next:\n",
    "\n",
    "```shell\n",
    "cat hg19.fa | head -n 10\n",
    "```\n",
    "\n",
    "This command first ran `cat` to print the file to the screen (which we call \"standard output\"). Then the command `head` used the output of `cat` as its input rather than specifying a file directly as we did above. We refer to this as \"standard input\".\n",
    "\n",
    "<blockquote>\n",
    "**UNIX TIP**: If you accidently open (e.g. cat) a huge file and just see characters flying down your screen, or if you think a process you are running may be stuck, you can press control+c to cancel the last command.\n",
    "</blockquote>\n",
    "\n",
    "We can string together a bunch of commands using pipes, which can be pretty flexible. e.g. if you want to look further down the file at lines 9991 through 10,000 you can do:\n",
    "\n",
    "```shell\n",
    "cat hg19.fa | head -n 10000 | tail -n 10\n",
    "```\n",
    "\n",
    "which prints the reference genome, takes the top (`head`) 10,000 lines, then the last (`tail`) 10 lines of that."
   ]
  },
  {
   "cell_type": "markdown",
   "metadata": {
    "deletable": false,
    "editable": false,
    "nbgrader": {
     "cell_type": "markdown",
     "checksum": "4fd00b71ca355627ef10890d918f5771",
     "grade": false,
     "grade_id": "inspect-ref",
     "locked": true,
     "schema_version": 3,
     "solution": false
    }
   },
   "source": [
    "**Question 2 (1 pt)**: What is the name of the first chromosome listed in the reference genome? Set the variable `first_chrom` to your answer below."
   ]
  },
  {
   "cell_type": "code",
   "execution_count": 5,
   "metadata": {
    "deletable": false,
    "nbgrader": {
     "cell_type": "code",
     "checksum": "4a8f8034b10cc03022581b0b09766245",
     "grade": false,
     "grade_id": "inspect-ref-answer",
     "locked": false,
     "schema_version": 3,
     "solution": true
    }
   },
   "outputs": [],
   "source": [
    "first_chrom = '' # Set to the name of the first chromosome\n",
    "\n",
    "# your code here\n",
    "first_chrom = 'chr1'\n",
    "\n",
    "# raise NotImplementedError"
   ]
  },
  {
   "cell_type": "code",
   "execution_count": 6,
   "metadata": {
    "deletable": false,
    "editable": false,
    "nbgrader": {
     "cell_type": "code",
     "checksum": "70c4445a912ec4343efc71671b22266a",
     "grade": true,
     "grade_id": "inspect-ref-test",
     "locked": true,
     "points": 1,
     "schema_version": 3,
     "solution": false
    }
   },
   "outputs": [],
   "source": [
    "# Make sure the answer makes sense\n",
    "assert(type(first_chrom)==str)\n",
    "assert(len(first_chrom)==4)\n",
    "assert(\"chr\" in first_chrom)\n",
    "assert(first_chrom.startswith(\"chr\"))\n",
    "\n",
    "# Hidden tests check the actual answer"
   ]
  },
  {
   "cell_type": "markdown",
   "metadata": {
    "deletable": false,
    "editable": false,
    "nbgrader": {
     "cell_type": "markdown",
     "checksum": "91f23863a207e53c26320d24e545f7c5",
     "grade": false,
     "grade_id": "oneliner",
     "locked": true,
     "schema_version": 3,
     "solution": false
    }
   },
   "source": [
    "**Question 3 (2 pts)**: Write a one-line UNIX command to print out the line containing the read ID of the 100th read (and nothing else) from the file `NA12878_child_1.fq`. (Hint: remember each read takes up 4 lines). \n",
    "\n",
    "Test your command in the terminal. Then paste the entire command into the variable `question3_cmd` below. The autograder tests will make sure your command runs and produces a reasonable output.\n",
    "\n",
    "Note, if you see a message `cat: write error: Broken pipe`, you can ignore this. It is just a warning."
   ]
  },
  {
   "cell_type": "code",
   "execution_count": 7,
   "metadata": {
    "deletable": false,
    "nbgrader": {
     "cell_type": "code",
     "checksum": "f6c8cbbabeae2b5e62c8001736d15f61",
     "grade": false,
     "grade_id": "oneliner-answer",
     "locked": false,
     "schema_version": 3,
     "solution": true
    }
   },
   "outputs": [],
   "source": [
    "# Edit this command to print the line with the read ID of the 100th read.\n",
    "# The provided command prints the the line with read ID of the 1st read.\n",
    "# Use absolute path to make sure the command runs correctly from the notebook\n",
    "question3_cmd = 'cat ~/public/lab1/NA12878_child_1.fq | head -n 1' \n",
    "\n",
    "# your code here\n",
    "question3_cmd = 'cat ~/public/lab1/NA12878_child_1.fq | head -n 400 | tail -n 4 | head -n 1' \n",
    "\n",
    "# raise NotImplementedError"
   ]
  },
  {
   "cell_type": "code",
   "execution_count": 8,
   "metadata": {
    "deletable": false,
    "editable": false,
    "nbgrader": {
     "cell_type": "code",
     "checksum": "fe721e00a9441262e2d9c9f98c3a802f",
     "grade": true,
     "grade_id": "oneliner-test",
     "locked": true,
     "points": 2,
     "schema_version": 3,
     "solution": false
    }
   },
   "outputs": [],
   "source": [
    "# Load libraries to run tests\n",
    "from subprocess import Popen, PIPE\n",
    "p = Popen(question3_cmd, shell=True, stdout=PIPE, stderr=PIPE)\n",
    "out, err = p.communicate()\n",
    "\n",
    "# Check that the command runs correctly\n",
    "assert(p.returncode == 0)\n",
    "\n",
    "# Check output\n",
    "output = out.decode(\"utf-8\") # convert stdout output to a string\n",
    "assert(output.startswith(\"@HSQ\"))\n",
    "assert(output.strip().endswith(\"/1\"))\n",
    "assert(output.strip() != \"@HSQ1004:134:C0D8DACXX:1:1101:1427:17913/1\") # This is the result if the command is unedited\n",
    "\n",
    "# Hidden tests check the actual answer"
   ]
  },
  {
   "cell_type": "markdown",
   "metadata": {
    "deletable": false,
    "editable": false,
    "nbgrader": {
     "cell_type": "markdown",
     "checksum": "0ae5ff6d08b2290c313c55b3588ff574",
     "grade": false,
     "grade_id": "text-wc",
     "locked": true,
     "schema_version": 3,
     "solution": false
    }
   },
   "source": [
    "We'll introduce one more helpful UNIX command before moving on. The tool `wc` includes a helpful option to count the number of lines in a file:\n",
    "\n",
    "```\n",
    "wc -l [filename]\n",
    "```\n",
    "\n",
    "<blockquote>\n",
    "If you want more details about a UNIX tool, you can try looking at the manual using `man`, e.g. `man wc`.\n",
    "</blockquote>"
   ]
  },
  {
   "cell_type": "markdown",
   "metadata": {
    "deletable": false,
    "editable": false,
    "nbgrader": {
     "cell_type": "markdown",
     "checksum": "75f25b7f0adfcff18c1922aadf3a4bf7",
     "grade": false,
     "grade_id": "readcount",
     "locked": true,
     "schema_version": 3,
     "solution": false
    }
   },
   "source": [
    "**Question 4 (2 pts)**: Using `wc -l`, determine how many read pairs we have for each of the three samples (child, mother, and father). Set the variables `numpairs_child`, `numpairs_father`, and `numpairs_mother` below to your answers."
   ]
  },
  {
   "cell_type": "code",
   "execution_count": 9,
   "metadata": {
    "deletable": false,
    "nbgrader": {
     "cell_type": "code",
     "checksum": "5cd46f15272992aeabd1f43a2c4b1ce7",
     "grade": false,
     "grade_id": "readcount-answer",
     "locked": false,
     "schema_version": 3,
     "solution": true
    }
   },
   "outputs": [],
   "source": [
    "numpairs_child = 0\n",
    "numpairs_father = 0\n",
    "numpairs_mother = 0\n",
    "\n",
    "# your code here\n",
    "numpairs_child = 208148/4\n",
    "numpairs_father = 211088/4\n",
    "numpairs_mother = 223596/4\n",
    "\n",
    "# raise NotImplementedError"
   ]
  },
  {
   "cell_type": "code",
   "execution_count": 10,
   "metadata": {
    "deletable": false,
    "editable": false,
    "nbgrader": {
     "cell_type": "code",
     "checksum": "31eb71f5fd15de6dfa61a6dd1df8884a",
     "grade": true,
     "grade_id": "readcount-test",
     "locked": true,
     "points": 2,
     "schema_version": 3,
     "solution": false
    }
   },
   "outputs": [],
   "source": [
    "# The below should pass if the numpairs were set corretly\n",
    "assert(numpairs_child > 0 and numpairs_child < 100000)\n",
    "assert((numpairs_child+numpairs_mother+numpairs_father) == 160708)\n",
    "assert((numpairs_child+numpairs_mother) == 107936)\n",
    "\n",
    "# Hidden tests check actual values"
   ]
  },
  {
   "cell_type": "markdown",
   "metadata": {
    "deletable": false,
    "editable": false,
    "nbgrader": {
     "cell_type": "markdown",
     "checksum": "bf37af3683393c1f7882318c89d0adb0",
     "grade": false,
     "grade_id": "cell-16a33ce9a46f9bff",
     "locked": true,
     "schema_version": 3,
     "solution": false
    }
   },
   "source": [
    "## 2.  Inspect raw sequencing data with fastqc\n",
    "\n",
    "In the terminal, `cd` into your home directory. Make a new directory `lab1` using the `mkdir` command (which just makes a new directory). Use `ls` to confirm the `lab1` directory is there, and `cd` into it.\n",
    "\n",
    "```shell\n",
    "cd\n",
    "mkdir lab1\n",
    "ls\n",
    "cd lab1\n",
    "```\n",
    "\n",
    "This is where you will be working for the rest of the week.\n",
    "\n",
    "Now you are ready to run `fastqc`, a simple fastq statistics analysis program. First, make sure the program is working and properly installed by typing the command below. You should see the manual page. Please ask a TA if this is not working.\n",
    "\n",
    "```shell\n",
    "fastqc -h\n",
    "```\n",
    "\n",
    "Run the program fastqc on the fastq files. You will have to specify the path to the `~/public/lab1/` folder, since you should leave the files there. You also have to use the `-o` argument to tell `fastqc` to output the files to the current directory, which you can indicate with a `.` The command to do all this is below, but you have to specify the full root path to each fastq file.\n",
    "\n",
    "```shell\n",
    "fastqc -o . NA12878_child_1.fq NA12878_child_2.fq \\\n",
    "    NA12891_father_1.fq NA12891_father_2.fq \\\n",
    "    NA12892_mother_1.fq NA12892_mother_2.fq\n",
    "```\n",
    "\n",
    "Note, in the above command, we use '\\\\' to enable us to write commands that span multiple lines. This is optional, but can make commands more readable compared to if we had just one long line of text.\n",
    "\n",
    "Check with `ls` that this generated some files. The html files contain the whole report. You can view them by going to the notebook view, navigating to your `lab1` directory, and clicking on the files.\n",
    "\n",
    "Open one of the files and take a look. Do the basic statistics match what you calculated for the number of reads? On the left, you’ll see a navigation window with green (normal), yellow (slightly abnormal), and red (very unusual) circles for several kinds of analyses. If you have any red circles, take note, and read the fastqc documentation on the analysis modules to try to learn what they mean.\n",
    "\n",
    "http://www.bioinformatics.babraham.ac.uk/projects/fastqc/Help/\n",
    "\n",
    "Our sequencing datasets are of high quality and nothing should be flagged in red, indicating we're ready to move on to sequence alignment."
   ]
  },
  {
   "cell_type": "markdown",
   "metadata": {
    "deletable": false,
    "editable": false,
    "nbgrader": {
     "cell_type": "markdown",
     "checksum": "3e187f45948c025fd4e378a7c222f337",
     "grade": false,
     "grade_id": "fastqc",
     "locked": true,
     "schema_version": 3,
     "solution": false
    }
   },
   "source": [
    "**Question 5 (2 pts)**: Look at the \"Per base sequence quality\" section of the `fastqc` output for one of the files. \n",
    "Ignore the first 12 cycles or so, which are often used to calibrate the run. Starting around cycle 13, what happens to the quality scores as you get toward the end of the read? Propose an explanation for why. Set the variable `answer_q5` below to your answer.\n",
    "\n",
    "Options:\n",
    "\n",
    "A. Quality scores increase across the read. This is because the sequencer adjusts its base calling algorithm as it goes, so reads higher quality data at the end of reads.\n",
    "\n",
    "B. Quality scores decrease across the read. This is because as you read more and more bases, the copies of the DNA in each cluster on the flow cell get out of sync, making the calls more uncertain.\n",
    "\n",
    "C. Quality scores decrease across the read. This is because the DNA starts degrading during sequencing.\n",
    "\n",
    "D. Both B and C are correct."
   ]
  },
  {
   "cell_type": "code",
   "execution_count": 11,
   "metadata": {
    "deletable": false,
    "nbgrader": {
     "cell_type": "code",
     "checksum": "6208e2454695d8dbc255754494d960c9",
     "grade": false,
     "grade_id": "fastqc-answer",
     "locked": false,
     "schema_version": 3,
     "solution": true
    }
   },
   "outputs": [],
   "source": [
    "answer_q5 = '' # Set to A, B, C, or D\n",
    "\n",
    "# your code here\n",
    "\n",
    "answer_q5 = 'D'"
   ]
  },
  {
   "cell_type": "code",
   "execution_count": 12,
   "metadata": {
    "deletable": false,
    "editable": false,
    "nbgrader": {
     "cell_type": "code",
     "checksum": "129035a8db19e1a8b8c3f2bb2622e753",
     "grade": true,
     "grade_id": "fastqc-test",
     "locked": true,
     "points": 2,
     "schema_version": 3,
     "solution": false
    }
   },
   "outputs": [],
   "source": [
    "# Check that an answer is given\n",
    "assert(answer_q5 in ['A','B','C','D'])\n",
    "\n",
    "# Hidden tests check the actual answer"
   ]
  },
  {
   "cell_type": "markdown",
   "metadata": {
    "deletable": false,
    "editable": false,
    "nbgrader": {
     "cell_type": "markdown",
     "checksum": "817b8699ca2fe38bdbe29e463725895b",
     "grade": false,
     "grade_id": "text-alignment",
     "locked": true,
     "schema_version": 3,
     "solution": false
    }
   },
   "source": [
    "## 3. Aligning sequences to the reference genome\n",
    "\n",
    "To make sense out of these small sequences of DNA, we will map them to our reference sequence. Mapping works by taking each read and trying to find the closest matching sequence in the reference genome. \n",
    "\n",
    "There are many alignment programs (\"aligners\") available. The earliest alignment algorithms (Smith Waterman and Needleman-Wunsch) are still used today to compare small pieces of DNA one-by-one, but the computing power needed to map millions of short reads to genomes that are millions to billions of basepairs long requires special algorithms to speed up the process.\n",
    "\n",
    "Today we will use an aligner called BWA-MEM, which makes use of the Burrows-Wheeler transform for reversible data compression (the reference is summarized with a special reversible index, the index makes it faster to search). BWA-MEM is optimized for ‘long’ next-generation sequencing reads of 100bp or more, which may contain several mutations, insertions, or deletions, as it works by finding the ‘maximum exact match’ within a read to the reference, rather than forcing the entire read to match.\n",
    "\n",
    "First we need to index the reference file. This step takes a while, so **it has already been done for you**. We created the BWA-MEM index by running:\n",
    "\n",
    "```shell\n",
    "bwa index hg19.fa # don't run this!\n",
    "```\n",
    "\n",
    "This created several index files the program uses to rapidly search the genome. Do:\n",
    "\n",
    "```shell\n",
    "ls ~/public/genomes/hg19.fa*\n",
    "```\n",
    "\n",
    "to see a list of those index files. Notice the `*` in the command above. This is a wildcard. We are telling `ls` to list all files that start with `~/public/genomes/hg19.fa*`.\n",
    "\n",
    "Now we're ready to perform the alignment. We'll first look at the usage message for the tool to see how to run it. Simply type the name of the command.\n",
    "\n",
    "```shell\n",
    "bwa mem\n",
    "```\n",
    "\n",
    "Note the line at the top that says: \n",
    "\n",
    "```shell\n",
    "Usage: bwa mem [options] <idxbase> <in1.fq> [in2.fq]\n",
    "```\n",
    "\n",
    "This tells us what we need to run. The alignment command takes inputs in this order: first, specify the path to the fasta reference genome file used to create the index. Then specify the data files in fastq format. If the data is paired end, specify both of the fastq files. (Things in square brackets are optional.)\n",
    "\n",
    "BWA MEM outputs alignments to standard output. We can use the `>` operator to redirect the output to a file. e.g.:\n",
    "\n",
    "```shell\n",
    "bwa mem [options] <idxbase> <file1.fq> <file2.fq> > output.sam\n",
    "```"
   ]
  },
  {
   "cell_type": "markdown",
   "metadata": {
    "deletable": false,
    "editable": false,
    "nbgrader": {
     "cell_type": "markdown",
     "checksum": "1b63fe9611dace0cda35a6752bed42e3",
     "grade": false,
     "grade_id": "align-commands",
     "locked": true,
     "schema_version": 3,
     "solution": false
    }
   },
   "source": [
    "**Question 6 (9 pts)**: Based on the usage information above, align all three samples to the hg19 reference genome and output the alignments for each to a SAM file with names `NA12878_child.sam`, `NA12891_father.sam`, and `NA12892_mother.sam` in your home directory.\n",
    "\n",
    "To check that the command ran successfully and created the correct output, we'll check the file size of the output sam file (in bytes). You can use:\n",
    "\n",
    "```\n",
    "ls -l NA12878_child.sam # should return ~35389919\n",
    "```\n",
    "\n",
    "to get the size of the output file. \n",
    "\n",
    "(**Note:** we've found that small differences in bwa mem commands, e.g. using absolute vs. relative paths, can result in small differences. Don't worry if you got a slightly different number for the above. The autograder allows some wiggle room).\n",
    "\n",
    "Below, complete the following:\n",
    "\n",
    "* Question 6.1 (3 pts): Set the variable `bwa_cmd` to the commands you used to run `bwa` on the three samples. You can put each command on a separate line.\n",
    "* Question 6.2 (2 pts each, 6 pts total): Fill in the variables `size_child`, `size_father`, and `size_mother` to the file sizes for the files `NA12878_child.sam`, `NA12891_father.sam`, and `NA12892_mother.sam` respectively. (Note, the answer for the child is already given in the example above)."
   ]
  },
  {
   "cell_type": "code",
   "execution_count": 13,
   "metadata": {
    "deletable": false,
    "nbgrader": {
     "cell_type": "code",
     "checksum": "d67000a2f682273a1f1942df69e9514d",
     "grade": false,
     "grade_id": "align-commands-answer",
     "locked": false,
     "schema_version": 3,
     "solution": true
    }
   },
   "outputs": [],
   "source": [
    "# Replace text below with the alignment commands you used\n",
    "# This is an example of a multi-line Python string, denoted by triple quotes\n",
    "bwa_cmd = \"\"\"\n",
    "command1\n",
    "command2\n",
    "command3\n",
    "\"\"\"\n",
    "\n",
    "# Set to file size of each sam file\n",
    "size_child = -1\n",
    "size_father = -1\n",
    "size_mother = -1\n",
    "\n",
    "# your code here\n",
    "\n",
    "bwa_cmd = \"\"\"\n",
    "bwa mem ~/public/genomes/hg19.fa ~/public/lab1/NA12878_child_1.fq ~/public/lab1/NA12878_child_2.fq > NA12878_child.sam\n",
    "bwa mem ~/public/genomes/hg19.fa ~/public/lab1/NA12891_father_1.fq ~/public/lab1/NA12891_father_2.fq > NA12891_father.sam\n",
    "bwa mem ~/public/genomes/hg19.fa ~/public/lab1/NA12892_mother_1.fq ~/public/lab1/NA12892_mother_2.fq > NA12892_mother.sam\n",
    "\"\"\"\n",
    "\n",
    "size_child = 35389895\n",
    "size_father = 35819800\n",
    "size_mother = 37937480\n",
    "\n",
    "# raise NotImplementedError"
   ]
  },
  {
   "cell_type": "code",
   "execution_count": 14,
   "metadata": {
    "deletable": false,
    "editable": false,
    "nbgrader": {
     "cell_type": "code",
     "checksum": "d661d4645ba3682e7348aba081d429e3",
     "grade": true,
     "grade_id": "align-commands-test-1",
     "locked": true,
     "points": 3,
     "schema_version": 3,
     "solution": false
    }
   },
   "outputs": [],
   "source": [
    "# Test answers are reasonable\n",
    "assert(\"bwa mem\" in bwa_cmd)\n",
    "\n",
    "# Hidden tests check actual values\n",
    "assert(\">\" in bwa_cmd)\n",
    "assert(\"_1.fq\" in bwa_cmd)\n",
    "assert(\"_2.fq\" in bwa_cmd)\n",
    "assert(\"NA12878\" in bwa_cmd)\n",
    "assert(\"NA12891\" in bwa_cmd)\n",
    "assert(\"NA12892\" in bwa_cmd)"
   ]
  },
  {
   "cell_type": "code",
   "execution_count": 15,
   "metadata": {
    "deletable": false,
    "editable": false,
    "nbgrader": {
     "cell_type": "code",
     "checksum": "03bdb3f62be2a417a2acd95c32aa6f78",
     "grade": true,
     "grade_id": "align-commands-test-child",
     "locked": true,
     "points": 2,
     "schema_version": 3,
     "solution": false
    }
   },
   "outputs": [],
   "source": [
    "assert(size_child > 30000000 and size_child < 40000000)\n",
    "# Hidden tests check actual values"
   ]
  },
  {
   "cell_type": "code",
   "execution_count": 16,
   "metadata": {
    "deletable": false,
    "editable": false,
    "nbgrader": {
     "cell_type": "code",
     "checksum": "b7f60840204156582e95e13a51168f87",
     "grade": true,
     "grade_id": "align-commands-test-father",
     "locked": true,
     "points": 2,
     "schema_version": 3,
     "solution": false
    }
   },
   "outputs": [],
   "source": [
    "assert(size_father > 30000000 and size_father < 40000000)\n",
    "# Hidden tests check actual values"
   ]
  },
  {
   "cell_type": "code",
   "execution_count": 17,
   "metadata": {
    "deletable": false,
    "editable": false,
    "nbgrader": {
     "cell_type": "code",
     "checksum": "17c339827dc9e290e0917059f6f12ded",
     "grade": true,
     "grade_id": "align-commands-test-mother",
     "locked": true,
     "points": 2,
     "schema_version": 3,
     "solution": false
    }
   },
   "outputs": [],
   "source": [
    "assert(size_mother > 30000000 and size_mother < 40000000)\n",
    "# Hidden tests check actual values"
   ]
  },
  {
   "cell_type": "markdown",
   "metadata": {
    "deletable": false,
    "editable": false,
    "nbgrader": {
     "cell_type": "markdown",
     "checksum": "dfc92659d8d95104929cd27270c954fb",
     "grade": false,
     "grade_id": "text-sam",
     "locked": true,
     "schema_version": 3,
     "solution": false
    }
   },
   "source": [
    "**Alignment may take a few minutes, in the mean time, read about \"sam\":** BWA outputs data in the \"SAM\" format. We'll explore the data below, but to learn more, check out: https://samtools.github.io/hts-specs/SAMv1.pdf"
   ]
  },
  {
   "cell_type": "markdown",
   "metadata": {
    "deletable": false,
    "editable": false,
    "nbgrader": {
     "cell_type": "markdown",
     "checksum": "32c4d7c1cd960fee74fe042e13511413",
     "grade": false,
     "grade_id": "text-saminspect",
     "locked": true,
     "schema_version": 3,
     "solution": false
    }
   },
   "source": [
    "## 4. Meet SAM, inspect the alignment\n",
    "\n",
    "Look at first five lines of the child alignment of your new sam file with head:\n",
    "\n",
    "```shell\n",
    "head -n 50 NA12878_child.sam\n",
    "```\n",
    "\n",
    "<blockquote>\n",
    "**UNIX TIP**: If lines are really long, the above command will result in output that is hard to read in the terminal, since it will \"wrap\" the lines. You can pipe output to less -S to make things more readable, and to allow you to scroll horizontally.\n",
    "</blockquote>\n",
    "\n",
    "```shell\n",
    "head -n 50 NA12878_child.sam | less -S # easier to read\n",
    "```\n",
    "\n",
    "The first chunk of lines beginning with `@` are part of the header. After that comes the actual alignments.\n",
    "\n",
    "Not all reads will be successfully aligned to the reference. The SAM file contains all reads, whether they successfully aligned or not. It's important to know what fraction of your reads aligned. If there are a lot reads that failed to align, that could indicate that your DNA was contaminated with some other source, or that something went wrong with the alignment.\n",
    "\n",
    "In the SAM format, each line (after the headers) starts with a unique read ID in the first \"field\". Fields are delimited (separated) regions of data, similar to columns on a spreadsheet. SAM files use tabs as the delimiters. In later classes we will get into what some of the different fields mean (you should be able to recognize the quality string and the base string).\n",
    "\n",
    "For now we are going to use the built in utilities of `samtools`, a program designed to read and parse SAM files, to decode the files for us. Run the commands below to get some basis statistics.\n",
    "\n",
    "```shell\n",
    "samtools flagstat NA12878_child.sam\n",
    "samtools flagstat NA12891_father.sam\n",
    "samtools flagstat NA12892_mother.sam\n",
    "```\n",
    "\n",
    "Does the \"in total\" match the read count you computed earlier? You'll notice a slight discrepancy. Some reads will have multiple mappings (listed as secondary or supplementary) and for a couple reads only one read in the pair could be mapped. But the numbers should be pretty close."
   ]
  },
  {
   "cell_type": "markdown",
   "metadata": {
    "deletable": false,
    "editable": false,
    "nbgrader": {
     "cell_type": "markdown",
     "checksum": "2c817f9ca0483f366b6c8d0c2cf8a694",
     "grade": false,
     "grade_id": "flagstat",
     "locked": true,
     "schema_version": 3,
     "solution": false
    }
   },
   "source": [
    "**Question 7 (2 pts)**: What percentage of reads are mapped for each sample? Set the variables `perc_aligned_child`, `perc_aligned_father`, and `perc_aligned_mother` below to your answers."
   ]
  },
  {
   "cell_type": "code",
   "execution_count": 18,
   "metadata": {
    "deletable": false,
    "nbgrader": {
     "cell_type": "code",
     "checksum": "b2fd7cf2f699d7b15b533d54365abaa5",
     "grade": false,
     "grade_id": "flagstat-answer",
     "locked": false,
     "schema_version": 3,
     "solution": true
    }
   },
   "outputs": [],
   "source": [
    "perc_aligned_child = 99.81 # this one is done for you\n",
    "perc_aligned_father = -1 \n",
    "perc_aligned_mother = -1\n",
    "\n",
    "# your code here\n",
    "perc_aligned_child = 99.81\n",
    "perc_aligned_father = 99.91 \n",
    "perc_aligned_mother = 99.88\n",
    "\n",
    "#raise NotImplementedError"
   ]
  },
  {
   "cell_type": "code",
   "execution_count": 19,
   "metadata": {
    "deletable": false,
    "editable": false,
    "nbgrader": {
     "cell_type": "code",
     "checksum": "1eb3cf685f9a53252a99e0f2bc0de41a",
     "grade": true,
     "grade_id": "flagstat-test",
     "locked": true,
     "points": 2,
     "schema_version": 3,
     "solution": false
    }
   },
   "outputs": [],
   "source": [
    "assert(perc_aligned_child==99.81)\n",
    "assert(perc_aligned_father > 0 and perc_aligned_father < 100 and round(perc_aligned_father, 2)==perc_aligned_father)\n",
    "assert(perc_aligned_mother > 0 and perc_aligned_mother < 100 and round(perc_aligned_mother, 2)==perc_aligned_mother)\n",
    "\n",
    "# Hidden tests check actual values"
   ]
  },
  {
   "cell_type": "markdown",
   "metadata": {
    "deletable": false,
    "editable": false,
    "nbgrader": {
     "cell_type": "markdown",
     "checksum": "4669a0df7c08c02b3c996db4468c289b",
     "grade": false,
     "grade_id": "text-view",
     "locked": true,
     "schema_version": 3,
     "solution": false
    }
   },
   "source": [
    "Next, you need to compress and sort the SAM files with the commands below. A compressed SAM file is called a BAM file. Like the reference, BAM files need to be indexed. This gets the data ready for some of the next commands we will use.\n",
    "\n",
    "```shell\n",
    "samtools view -S -b NA12878_child.sam > NA12878_child.bam\n",
    "samtools sort NA12878_child.bam > NA12878_child.sorted.bam\n",
    "samtools index NA12878_child.sorted.bam\n",
    "```\n",
    "\n",
    "The index command will generate a file `NA12878_child.sorted.bam.bai`. Use `ls` to check that it's there."
   ]
  },
  {
   "cell_type": "markdown",
   "metadata": {
    "deletable": false,
    "editable": false,
    "nbgrader": {
     "cell_type": "markdown",
     "checksum": "c87ee5a4aa4591e9db3217b342113c65",
     "grade": false,
     "grade_id": "sort",
     "locked": true,
     "schema_version": 3,
     "solution": false
    }
   },
   "source": [
    "**Question 8 (6 pts)**: Using the above as a guide, generate sorted and indexed BAM files for each family member. Make sure to use the same file name conventions as we have used above. \n",
    "\n",
    "* Question 8.1 (3 pts): Paste the commands you used to convert to BAM, sort, and index the alignments for each family member in the variable `sort_index_cmd` below.\n",
    "* Question 8.2 (1 pt each, 3 pts total): Use the `ls -l` command to get file sizes (in bytes) for the index files `NA12878_child.sorted.bam.bai`, `NA12891_father.sorted.bam.bai`, and `NA12892_mother.sorted.bam.bai`. Set the variables `size_child_index`, `size_father_index`, and `size_mother_index` below."
   ]
  },
  {
   "cell_type": "code",
   "execution_count": 20,
   "metadata": {
    "deletable": false,
    "nbgrader": {
     "cell_type": "code",
     "checksum": "caaacc9e8dc8b077a50201696ead961c",
     "grade": false,
     "grade_id": "sort-answer",
     "locked": false,
     "schema_version": 3,
     "solution": true
    }
   },
   "outputs": [],
   "source": [
    "# Replace text below with the commands you used to sort and index your alignments for each sample.\n",
    "# You will likely have more than 3 commands\n",
    "sort_index_cmd = \"\"\"\n",
    "command1\n",
    "command2\n",
    "command3\n",
    "...\n",
    "\"\"\"\n",
    "\n",
    "# Set to file sizes of each index file\n",
    "size_child_index = -1\n",
    "size_father_index = -1\n",
    "size_mother_index = -1\n",
    "\n",
    "# your code here\n",
    "\n",
    "sort_index_cmd = \"\"\"\n",
    "samtools view -S -b NA12878_child.sam > NA12878_child.bam\n",
    "samtools sort NA12878_child.bam > NA12878_child.sorted.bam\n",
    "samtools index NA12878_child.sorted.bam\n",
    "samtools view -S -b NA12891_father.sam > NA12891_father.bam\n",
    "samtools sort NA12891_father.bam > NA12891_father.sorted.bam\n",
    "samtools index NA12891_father.sorted.bam\n",
    "samtools view -S -b NA12892_mother.sam > NA12892_mother.bam\n",
    "samtools sort NA12892_mother.bam > NA12892_mother.sorted.bam\n",
    "samtools index NA12892_mother.sorted.bam\n",
    "\"\"\"\n",
    "\n",
    "size_child_index = 1304880\n",
    "size_father_index = 1219872\n",
    "size_mother_index = 1230432\n",
    "\n",
    "# raise NotImplementedError"
   ]
  },
  {
   "cell_type": "code",
   "execution_count": 21,
   "metadata": {
    "deletable": false,
    "editable": false,
    "nbgrader": {
     "cell_type": "code",
     "checksum": "ca3e53ad4e0ff1efeb6e826a44680ca5",
     "grade": true,
     "grade_id": "sort-answer-test-1",
     "locked": true,
     "points": 3,
     "schema_version": 3,
     "solution": false
    }
   },
   "outputs": [],
   "source": [
    "# Test answers are reasonable\n",
    "assert(\"samtools\" in sort_index_cmd)\n",
    "assert(\"view\" in sort_index_cmd)\n",
    "assert(\"index\" in sort_index_cmd)\n",
    "\n",
    "# Hidden tests check actual values"
   ]
  },
  {
   "cell_type": "code",
   "execution_count": 22,
   "metadata": {
    "deletable": false,
    "editable": false,
    "nbgrader": {
     "cell_type": "code",
     "checksum": "f670104863db554b1b5129f987314c86",
     "grade": true,
     "grade_id": "sort-answer-test-child",
     "locked": true,
     "points": 1,
     "schema_version": 3,
     "solution": false
    }
   },
   "outputs": [],
   "source": [
    "assert(size_child_index > 1300000 and size_child_index < 1400000)\n",
    "# Hidden tests check actual values"
   ]
  },
  {
   "cell_type": "code",
   "execution_count": 23,
   "metadata": {
    "deletable": false,
    "editable": false,
    "nbgrader": {
     "cell_type": "code",
     "checksum": "daa76c86d0d0ce26f597904750f81243",
     "grade": true,
     "grade_id": "sort-answer-test-father",
     "locked": true,
     "points": 1,
     "schema_version": 3,
     "solution": false
    }
   },
   "outputs": [],
   "source": [
    "assert(size_father_index > 1200000 and size_father_index < 1400000)\n",
    "# Hidden tests check actual values"
   ]
  },
  {
   "cell_type": "code",
   "execution_count": 24,
   "metadata": {
    "deletable": false,
    "editable": false,
    "nbgrader": {
     "cell_type": "code",
     "checksum": "ed0468a27182c8d45e1f0bdca2185a82",
     "grade": true,
     "grade_id": "sort-answer-test-mother",
     "locked": true,
     "points": 1,
     "schema_version": 3,
     "solution": false
    }
   },
   "outputs": [],
   "source": [
    "assert(size_mother_index > 1200000 and size_mother_index < 1400000)\n",
    "# Hidden tests check actual values"
   ]
  },
  {
   "cell_type": "markdown",
   "metadata": {
    "deletable": false,
    "editable": false,
    "nbgrader": {
     "cell_type": "markdown",
     "checksum": "7fa17bd4098d57fd0744c5eeb2c49a26",
     "grade": false,
     "grade_id": "text-tlen",
     "locked": true,
     "schema_version": 3,
     "solution": false
    }
   },
   "source": [
    "## 5. Inspecting the template length distribution \n",
    "\n",
    "It is a good idea to do some basic quality checks on our BAM file.\n",
    "\n",
    "Since our data is paired end, reads should be aligned in pairs, where each pair of reads aligns pretty close to each other. The distance between paired reads allows us to infer the size of the fragment that was sequenced. Here we will inspect the distribution of fragment lengths in our data.\n",
    "\n",
    "First, we'll introduce a new UNIX command, `cut`. This command can extract different columns from a text file. e.g.:\n",
    "\n",
    "```\n",
    "cut -f 3,5 file.txt\n",
    "```\n",
    "\n",
    "will extract the 3rd and 5th columns of a tab-delimited file.\n",
    "\n",
    "If you look back to the SAM specification, you'll see the 9th column gives the observed template length. This will be equal to 0 for reads that are not properly paired."
   ]
  },
  {
   "cell_type": "markdown",
   "metadata": {
    "deletable": false,
    "editable": false,
    "nbgrader": {
     "cell_type": "markdown",
     "checksum": "a5095d904889dd3ad6c48fd91afe6a68",
     "grade": false,
     "grade_id": "tlen",
     "locked": true,
     "schema_version": 3,
     "solution": false
    }
   },
   "source": [
    "**Question 9 (3 pts)**: For the child genome, write and execute a one line UNIX command to extract a list of template lengths from the region chr6:128405804-128605805 to a file named `child_template_lengths.txt`. Your command should not change the order of reads from their order in the BAM file. Be sure to use the sorted BAM file for this part (`NA12878_child.sorted.bam`).\n",
    "\n",
    "* Question 9.1 (1 pt): Set the variable `tlen_cmd` below to the command you used. Make sure your command is only one line.\n",
    "* Question 9.2 (2 pts): Look at the first 5 values in the file you output, `child_template_lengths.txt`. Replace the values in `tlen_first5` below with those values. \n",
    "\n",
    "Hints:\n",
    "* A command of the format `samtools view file.bam chr:start-end` will print out all reads falling in a certain region. This only works on BAM files that are sorted and indexed.\n",
    "* You can pipe together a `samtools view` and `cut` command and use `>` to direct output to a file.\n",
    "\n",
    "Note the variable `tlen_first5` is an example of a Python list. To read more about Python lists, see here: https://www.w3schools.com/python/python_lists.asp"
   ]
  },
  {
   "cell_type": "code",
   "execution_count": 25,
   "metadata": {
    "deletable": false,
    "nbgrader": {
     "cell_type": "code",
     "checksum": "0b7862e484fa0856a1dc25edb3383153",
     "grade": false,
     "grade_id": "tlen-answer",
     "locked": false,
     "schema_version": 3,
     "solution": true
    }
   },
   "outputs": [],
   "source": [
    "tlen_cmd = \"\" # Set to your one-liner command here\n",
    "tlen_first5 = [304, 316, 0, 0, 0] # Set to the first 5 template lengths. The first 2 are done for you.\n",
    "\n",
    "# your code here\n",
    "tlen_cmd = \"samtools view NA12878_child.sorted.bam chr6:128405804-128605805 | cut -f 9 > child_template_lengths.txt\"\n",
    "tlen_first5 = [304, 316, 256, 337, 221]\n",
    "# raise NotImplementedError"
   ]
  },
  {
   "cell_type": "code",
   "execution_count": 26,
   "metadata": {
    "deletable": false,
    "editable": false,
    "nbgrader": {
     "cell_type": "code",
     "checksum": "b208ce8dffca245ea8c28375eb7bcb32",
     "grade": true,
     "grade_id": "tlen-test-1",
     "locked": true,
     "points": 1,
     "schema_version": 3,
     "solution": false
    }
   },
   "outputs": [],
   "source": [
    "# Test the command is reasonable\n",
    "assert(\"samtools\" in tlen_cmd)\n",
    "assert(\"view\" in tlen_cmd)\n",
    "assert(\">\" in tlen_cmd)\n",
    "assert(\"chr6:128405804-128605805\" in tlen_cmd)\n"
   ]
  },
  {
   "cell_type": "code",
   "execution_count": 27,
   "metadata": {
    "deletable": false,
    "editable": false,
    "nbgrader": {
     "cell_type": "code",
     "checksum": "836815de25ade558531093d2ec011074",
     "grade": true,
     "grade_id": "tlen-test-vals",
     "locked": true,
     "points": 2,
     "schema_version": 3,
     "solution": false
    }
   },
   "outputs": [],
   "source": [
    "# Check the answer is in the right format\n",
    "assert(type(tlen_first5)==list)\n",
    "assert(tlen_first5[0]==304)\n",
    "assert(tlen_first5[1]==316)\n",
    "assert(len(tlen_first5)==5)\n",
    "assert([int(item)==item for item in tlen_first5])\n",
    "\n",
    "# Hidden tests check actual values"
   ]
  },
  {
   "cell_type": "markdown",
   "metadata": {
    "deletable": false,
    "editable": false,
    "nbgrader": {
     "cell_type": "markdown",
     "checksum": "c5681b06bde1895c7f0706d9e6e5c5f7",
     "grade": false,
     "grade_id": "text-vis",
     "locked": true,
     "schema_version": 3,
     "solution": false
    }
   },
   "source": [
    "Finally, we'd like to visualize the distribution of template lengths. We can do this using python. This time, we have written the plotting code for you. Study the commands below. We will draw on this to make similar plots in future labs. We'll also talk more about plotting in class.\n",
    "\n",
    "But before we move on to the plotting, we ask that you copy the file you created above, `child_template_lengths.txt` to the same directory as this notebook to make sure the autograder can find it. To do so, we'll introduce another Jupyter notebook trick. You can actually execute bash commands directly in notebooks, by simply putting a `!` before the command. See https://jakevdp.github.io/PythonDataScienceHandbook/01.05-ipython-and-shell-commands.html \"Shell Commands in IPython\" for some more examples. Execute the cell below to print the path to current directory of this notebook. Then, in the terminal, use the command `cp ~/lab1/child_template_lengths.txt [current directory of notebook output below]` to copy the file over.\n",
    "\n",
    "**Note: if you do not follow these instructions, the `PlotTlenDist` function below will throw an error.**"
   ]
  },
  {
   "cell_type": "code",
   "execution_count": 28,
   "metadata": {
    "deletable": false,
    "editable": false,
    "nbgrader": {
     "cell_type": "code",
     "checksum": "583967f0e182e775bc7af41917b3f20c",
     "grade": false,
     "grade_id": "text-cp-example",
     "locked": true,
     "schema_version": 3,
     "solution": false,
     "task": false
    }
   },
   "outputs": [
    {
     "name": "stdout",
     "output_type": "stream",
     "text": [
      "/home/l1joseph/lab1-spring24\r\n"
     ]
    }
   ],
   "source": [
    "!pwd"
   ]
  },
  {
   "cell_type": "markdown",
   "metadata": {
    "deletable": false,
    "editable": false,
    "nbgrader": {
     "cell_type": "markdown",
     "checksum": "464f7adaa12f2e4664ba5dd99f6e4530",
     "grade": false,
     "grade_id": "text-plot",
     "locked": true,
     "schema_version": 3,
     "solution": false,
     "task": false
    }
   },
   "source": [
    "After copying the file over, run the code below. This should produce a histogram with a bell-shaped curve.\n",
    "\n",
    "Run the code in the cell below to generate a histogram of template lengths and compute the mean and median template lengths after removing 0's (indicating improperly paired reads). \n",
    "\n",
    "**Challenge problem (no points)**: Modify the code below to also show the best fit normal distribution. You can find an example of how to do this here: https://stackoverflow.com/questions/20011122/fitting-a-normal-distribution-to-1d-data/20012350."
   ]
  },
  {
   "cell_type": "code",
   "execution_count": 29,
   "metadata": {},
   "outputs": [
    {
     "name": "stdout",
     "output_type": "stream",
     "text": [
      "Populating the interactive namespace from numpy and matplotlib\n",
      "Mean template length: 317\n",
      "Median template length: 317\n"
     ]
    },
    {
     "data": {
      "text/plain": [
       "(317.0, 317.1514420281428)"
      ]
     },
     "execution_count": 29,
     "metadata": {},
     "output_type": "execute_result"
    },
    {
     "data": {
      "image/png": "[encoded data removed]",
      "text/plain": [
       "<Figure size 432x288 with 1 Axes>"
      ]
     },
     "metadata": {
      "needs_background": "light"
     },
     "output_type": "display_data"
    }
   ],
   "source": [
    "%pylab inline\n",
    "import os\n",
    "import numpy as np\n",
    "\n",
    "def PlotTlenDist(plot=False):\n",
    "    median_tlen = 0\n",
    "    mean_tlen = 0\n",
    "    \n",
    "    # Read template lengths into a list (don't modify this path!!)\n",
    "    tlens = open(\"child_template_lengths.txt\").readlines()\n",
    "    # Convert items in tlens list to integers\n",
    "    tlens = [abs(int(item.strip())) for item in tlens]\n",
    "    # Remove \"0\"\n",
    "    tlens = [item for item in tlens if item > 0]\n",
    "    \n",
    "    # Compute median and mean of tlens below\n",
    "    mean_tlen = np.mean(tlens)\n",
    "    median_tlen = np.median(tlens)\n",
    "    \n",
    "    # Plot. See https://matplotlib.org/api/_as_gen/matplotlib.pyplot.hist.html\n",
    "    print(\"Mean template length: %d\"%mean_tlen)\n",
    "    print(\"Median template length: %d\"%median_tlen)\n",
    "\n",
    "    if plot:\n",
    "        plt.hist(tlens, bins=25, color=\"lightblue\")\n",
    "        plt.xlabel(\"Fragment length\", size=15)\n",
    "        plt.ylabel(\"Number of fragments\", size=15);\n",
    "        plt.axvline(x=mean_tlen, color=\"red\");\n",
    "        \n",
    "    # Return stats    \n",
    "    return median_tlen, mean_tlen\n",
    "\n",
    "PlotTlenDist(plot=True)"
   ]
  },
  {
   "cell_type": "markdown",
   "metadata": {
    "deletable": false,
    "editable": false,
    "nbgrader": {
     "cell_type": "markdown",
     "checksum": "0d8f1c88bd84def83c8d376d95a424cf",
     "grade": false,
     "grade_id": "text-part1-conclusion",
     "locked": true,
     "schema_version": 3,
     "solution": false
    }
   },
   "source": [
    "**That's it for part 1!** Don't forget to press the \"Validate\" button at the top to make sure everything has been answered and answers are in the correct format. (While validation does not guarantee your answers are correct, it is unlikely that the notebook will validate if your answers are incorrect.)"
   ]
  }
 ],
 "metadata": {
  "kernelspec": {
   "display_name": "Python 3 (ipykernel)",
   "language": "python",
   "name": "python3"
  },
  "language_info": {
   "codemirror_mode": {
    "name": "ipython",
    "version": 3
   },
   "file_extension": ".py",
   "mimetype": "text/x-python",
   "name": "python",
   "nbconvert_exporter": "python",
   "pygments_lexer": "ipython3",
   "version": "3.9.5"
  }
 },
 "nbformat": 4,
 "nbformat_minor": 2
}
