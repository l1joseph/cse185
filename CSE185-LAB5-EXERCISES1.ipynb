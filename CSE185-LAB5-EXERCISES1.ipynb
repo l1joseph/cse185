{
 "cells": [
  {
   "cell_type": "markdown",
   "metadata": {
    "deletable": false,
    "editable": false,
    "nbgrader": {
     "cell_type": "markdown",
     "checksum": "a8d4a65fa6c3e8deca37a315079eacce",
     "grade": false,
     "grade_id": "text-intro-ex1",
     "locked": true,
     "schema_version": 3,
     "solution": false
    }
   },
   "source": [
    "# Lab 5\n",
    "\n",
    "## Exercises - Part 1 (10 pts)\n",
    "\n",
    "This first exercise covers characterizing and identifying motifs using position weight matrics (PWMs). In the second exercise (in a separate notebook) we will further explore how to determine which motifs are enriched in a set of sequences (e.g. binding sites for our favorite transcription factor).\n",
    "\n",
    "You performed ChIP-sequencing for a transcription factor and used the resulting dataset to find \"peaks\" (predicted binding sites) of the factor along the genome. You identified 8 peaks of length 14, recorded the sequence corresponding to each peak, and got the following list."
   ]
  },
  {
   "cell_type": "code",
   "execution_count": 1,
   "metadata": {
    "deletable": false,
    "editable": false,
    "nbgrader": {
     "cell_type": "code",
     "checksum": "5f30e42caeea1c651fed4e45ee4cb8b8",
     "grade": false,
     "grade_id": "example-binding-sites",
     "locked": true,
     "schema_version": 3,
     "solution": false
    }
   },
   "outputs": [],
   "source": [
    "binding_sites = [\n",
    "    \"GACCAAATAAGGCA\",\n",
    "    \"GACCAAATAAGGCA\",\n",
    "    \"TGACTATAAAAGGA\",\n",
    "    \"TGACTATAAAAGGA\",\n",
    "    \"TGCCAAAAGTGGTC\",\n",
    "    \"CAACTATCTTGGGC\",\n",
    "    \"CAACTATCTTGGGC\",\n",
    "    \"CTCCTTACATGGGC\"\n",
    "]"
   ]
  },
  {
   "cell_type": "markdown",
   "metadata": {
    "deletable": false,
    "editable": false,
    "nbgrader": {
     "cell_type": "markdown",
     "checksum": "3e43e48561e956a6ae3ae4f99a5f10d5",
     "grade": false,
     "grade_id": "text-pfm",
     "locked": true,
     "schema_version": 3,
     "solution": false
    }
   },
   "source": [
    "## 1. Intro to position weight matrices\n",
    "\n",
    "Just looking at these sequences, it looks like they are kind of similar to each other. We'd like to quantify the \"motif\" that describes the type of sequences this factor is binding to. First, we can construct a **position frequency matrix**, which simply provides the count of each nucleotide at each position. This matrix will have dimension 4 by $n$, where $n$ is the number of positions in the motif, and 4 is the number of potential nucleotides. e.g., we can partially fill in a PFM for the sequences above by noting that for the last position, half are \"A\" and half are \"C\".\n",
    "\n",
    "$$\n",
    "PFM = \\begin{array}{| c | c |c |c| c| c |c |c |c |c |c |c |c |c |c |c |}\n",
    "\\hline\n",
    "& 1 & 2 & 3 & 4 & 5 & 6 & 7 & 8 & 9 & 10 & 11 & 12 & 13 & 14 \\\\\n",
    "\\hline\n",
    "A & & & & & & & & & & & & & & 4 \\\\\n",
    "C & & & & & & & & & & & & & & 4 \\\\\n",
    "G & & & & & & & & & & & & & & 0 \\\\\n",
    "T & & & & & & & & & & & & & & 0 \\\\\n",
    "\\hline\n",
    "\\end{array}\n",
    "$$\n",
    "\n",
    "where $PFM[i,j]$ gives the number of times we saw nucleotide $i$ at position $j$.\n",
    "\n",
    "\n",
    "**Question 1 (2pts)**: Complete the function `GetPFM` below to compute a position frequency matrix. You should return a 2-dimensional array with your answer and ensure it passes the autograder test before moving on. Use row indices A=0, C=1, G=2, T=3."
   ]
  },
  {
   "cell_type": "code",
   "execution_count": 2,
   "metadata": {
    "deletable": false,
    "nbgrader": {
     "cell_type": "code",
     "checksum": "a0fa9fb0d642075f04074d90c1f010f7",
     "grade": false,
     "grade_id": "q1-answer",
     "locked": false,
     "schema_version": 3,
     "solution": true
    }
   },
   "outputs": [
    {
     "data": {
      "text/plain": [
       "array([[0., 4., 4., 0., 3., 7., 4., 3., 5., 4., 2., 0., 0., 4.],\n",
       "       [3., 0., 4., 8., 0., 0., 0., 3., 0., 0., 0., 0., 2., 4.],\n",
       "       [2., 3., 0., 0., 0., 0., 0., 0., 1., 0., 6., 8., 5., 0.],\n",
       "       [3., 1., 0., 0., 5., 1., 4., 2., 2., 4., 0., 0., 1., 0.]])"
      ]
     },
     "execution_count": 2,
     "metadata": {},
     "output_type": "execute_result"
    }
   ],
   "source": [
    "import numpy as np\n",
    "nucs = {\"A\": 0, \"C\": 1, \"G\": 2, \"T\": 3} # this might be helpful\n",
    "\n",
    "def GetPFM(sequences):\n",
    "    \"\"\" Compute the PFM for a set of sequences\n",
    "    \n",
    "    Parameters\n",
    "    ----------\n",
    "    sequences : list of str\n",
    "        List of sequences (e.g. binding_sites)\n",
    "    \n",
    "    Returns\n",
    "    -------\n",
    "        pfm : 2d np.array\n",
    "        \n",
    "    Assumes all sequences have the same length\n",
    "    \"\"\"\n",
    "    pfm = np.zeros((4, len(sequences[0])))\n",
    "    # Fill in pfm below. Note: pfm[i,j] can be used to \n",
    "    # access and set the value for position j at nucleotide i\n",
    "    # your code here\n",
    "    for s in sequences:\n",
    "        for i in range(len(s)):\n",
    "            pfm[nucs[s[i]], i] +=1\n",
    "#     raise NotImplementedError\n",
    "    return pfm\n",
    "\n",
    "binding_sites = [\n",
    "    \"GACCAAATAAGGCA\",\n",
    "    \"GACCAAATAAGGCA\",\n",
    "    \"TGACTATAAAAGGA\",\n",
    "    \"TGACTATAAAAGGA\",\n",
    "    \"TGCCAAAAGTGGTC\",\n",
    "    \"CAACTATCTTGGGC\",\n",
    "    \"CAACTATCTTGGGC\",\n",
    "    \"CTCCTTACATGGGC\"\n",
    "]\n",
    "pfm = GetPFM(binding_sites)\n",
    "pfm"
   ]
  },
  {
   "cell_type": "code",
   "execution_count": 3,
   "metadata": {
    "deletable": false,
    "editable": false,
    "nbgrader": {
     "cell_type": "code",
     "checksum": "df9edb2f14683845e87c91f70c682e1a",
     "grade": true,
     "grade_id": "pfm-check",
     "locked": true,
     "points": 2,
     "schema_version": 3,
     "solution": false
    }
   },
   "outputs": [],
   "source": [
    "\"\"\"Check GetPFM output\"\"\"\n",
    "binding_sites = [\n",
    "    \"GACCAAATAAGGCA\",\n",
    "    \"GACCAAATAAGGCA\",\n",
    "    \"TGACTATAAAAGGA\",\n",
    "    \"TGACTATAAAAGGA\",\n",
    "    \"TGCCAAAAGTGGTC\",\n",
    "    \"CAACTATCTTGGGC\",\n",
    "    \"CAACTATCTTGGGC\",\n",
    "    \"CTCCTTACATGGGC\"\n",
    "]\n",
    "pfm = GetPFM(binding_sites)\n",
    "res = [0.0, 4.0, 4.0, 0.0, 3.0, 7.0, 4.0, 3.0, 5.0, 4.0, 2.0, 0.0, 0.0, 4.0, 3.0, 0.0, 4.0, 8.0, 0.0, 0.0, 0.0, 3.0, 0.0, 0.0, 0.0, 0.0, 2.0, 4.0, 2.0, 3.0, 0.0, 0.0, 0.0, 0.0, 0.0, 0.0, 1.0, 0.0, 6.0, 8.0, 5.0, 0.0, 3.0, 1.0, 0.0, 0.0, 5.0, 1.0, 4.0, 2.0, 2.0, 4.0, 0.0, 0.0, 1.0, 0.0]\n",
    "output = pfm.flatten()\n",
    "for i in range(len(pfm.flatten())):\n",
    "    assert(int(output[i]) == int(res[i]))       "
   ]
  },
  {
   "cell_type": "markdown",
   "metadata": {
    "deletable": false,
    "editable": false,
    "nbgrader": {
     "cell_type": "markdown",
     "checksum": "31c28a226e65d147acf2b1ccf87eb02e",
     "grade": false,
     "grade_id": "text-pwm",
     "locked": true,
     "schema_version": 3,
     "solution": false
    }
   },
   "source": [
    "A **position weight matrix** (PWM) is the most commonly used representation of motifs. PWMs are related to PFMs, but also take into account the background frequency of nucleotides.\n",
    "\n",
    "Let $p(i,j)$ be the probability to see base $i$ at position $j$ in our bound sequences and $p(i)$ be the probability to see base $i$ in a random genomic sequence. Then we can compute the weights for our PWM as follows:\n",
    "\n",
    "$$ PWM[i,j] = log_2 \\frac{p(i,j)}{p(i)}$$\n",
    "\n",
    "In the simplest case, we can assume in random sequences we will see a nucleotide frequency of 25% for each nucleotide (this is not always true for real genomes.) \n",
    "\n",
    "So for example, if the probability to see a particular base at a certain position is about the same as the probability to see that base in random sequence, the PWM score will be 0. On the other hand, if we are much more likely to see a specific base at a position than we are at random, the PWM score will be positive and high. If a specific base is highly unlikely to be seen at a position in a bound sequence, it will have a negative weight in the PWM.\n",
    "\n",
    "**Question 2 (2 pts)**: Complete the function `GetPWM` below to compute a position **weight** matrix (as a 2D array, the same format as your PFM). This will call your `GetPFM` function defined above so make sure you have run that cell so the function is defined.\n",
    "\n",
    "Note, to avoid 0's which will result in log2 values of infinite, we have added a \"pseudocount\" of 0.1 to each cell. Do not change this, since it will change the answers to some of the questions below."
   ]
  },
  {
   "cell_type": "code",
   "execution_count": 7,
   "metadata": {
    "deletable": false,
    "nbgrader": {
     "cell_type": "code",
     "checksum": "29e11a836c232e60661133bcdb7aaa75",
     "grade": false,
     "grade_id": "q2-answer",
     "locked": false,
     "schema_version": 3,
     "solution": true
    }
   },
   "outputs": [
    {
     "data": {
      "text/plain": [
       "array([[-7.65105169,  0.99640674,  0.99640674, -7.65105169,  0.58256799,\n",
       "         1.80221894,  0.99640674,  0.58256799,  1.3176151 ,  0.99640674,\n",
       "         0.        , -7.65105169, -7.65105169,  0.99640674],\n",
       "       [ 0.58256799, -7.65105169,  0.99640674,  1.99460674, -7.65105169,\n",
       "        -7.65105169, -7.65105169,  0.58256799, -7.65105169, -7.65105169,\n",
       "        -7.65105169, -7.65105169,  0.        ,  0.99640674],\n",
       "       [ 0.        ,  0.58256799, -7.65105169, -7.65105169, -7.65105169,\n",
       "        -7.65105169, -7.65105169, -7.65105169, -0.99284021, -7.65105169,\n",
       "         1.58016949,  1.99460674,  1.3176151 , -7.65105169],\n",
       "       [ 0.58256799, -0.99284021, -7.65105169, -7.65105169,  1.3176151 ,\n",
       "        -0.99284021,  0.99640674,  0.        ,  0.        ,  0.99640674,\n",
       "        -7.65105169, -7.65105169, -0.99284021, -7.65105169]])"
      ]
     },
     "execution_count": 7,
     "metadata": {},
     "output_type": "execute_result"
    }
   ],
   "source": [
    "def GetPWM(binding_sites, background_freqs=[0.25, 0.25, 0.25, 0.25]):\n",
    "    \"\"\" Compute the PWM for a set of binding sites\n",
    "    \n",
    "    Parameters\n",
    "    ----------\n",
    "    binding_sites : list of str\n",
    "        List of sequences \n",
    "    background_freqs: list of float\n",
    "        Background frequency of A, C, G, T\n",
    "    \n",
    "    Returns\n",
    "    -------\n",
    "        pwm : 2d np.array\n",
    "        \n",
    "    Assumes all sequences have the same length\n",
    "    \"\"\"\n",
    "    pwm = np.zeros((4, len(binding_sites[0])))\n",
    "    pfm = GetPFM(binding_sites)\n",
    "    pfm = pfm + 0.01 # Add pseudocount. Don't change this!\n",
    "    # Compute pwm below\n",
    "    # Note: np.sum(pfm[:,j]) will give the sum of counts for column j\n",
    "    # Note: pfm[i,j]/np.sum(pfm[:,j]) gives p(i,j) (frequency of nucleotide i at position j)\n",
    "    # your code here\n",
    "    for j in range(len(binding_sites[0])):\n",
    "        for i in range(4):\n",
    "            pwm[i, j] = np.log2((pfm[i, j]/np.sum(pfm[:, j]))/(background_freqs[i]))\n",
    "#     raise NotImplementedError\n",
    "    return pwm\n",
    "    \n",
    "pwm = GetPWM(binding_sites)\n",
    "pwm"
   ]
  },
  {
   "cell_type": "code",
   "execution_count": 8,
   "metadata": {
    "deletable": false,
    "editable": false,
    "nbgrader": {
     "cell_type": "code",
     "checksum": "00f173a450187b5e3f3157ac5b77ce60",
     "grade": true,
     "grade_id": "q2-check",
     "locked": true,
     "points": 2,
     "schema_version": 3,
     "solution": false
    }
   },
   "outputs": [],
   "source": [
    "\"\"\"Check GetPFM output\"\"\"\n",
    "binding_sites = [\n",
    "    \"GACCAAATAAGGCA\",\n",
    "    \"GACCAAATAAGGCA\",\n",
    "    \"TGACTATAAAAGGA\",\n",
    "    \"TGACTATAAAAGGA\",\n",
    "    \"TGCCAAAAGTGGTC\",\n",
    "    \"CAACTATCTTGGGC\",\n",
    "    \"CAACTATCTTGGGC\",\n",
    "    \"CTCCTTACATGGGC\"\n",
    "]\n",
    "pwm = GetPWM(binding_sites)\n",
    "out = pwm.flatten()\n",
    "res = [-7.6510516911789281, 0.99640673527599177, 0.99640673527599177, -7.6510516911789281, 0.58256798558077338, 1.8022189428316946, 0.99640673527599177, 0.58256798558077338, 1.3176151020162801, 0.99640673527599177, 0.0, -7.6510516911789281, -7.6510516911789281, 0.99640673527599177, 0.58256798558077338, -7.6510516911789281, 0.99640673527599177, 1.9946067412297817, -7.6510516911789281, -7.6510516911789281, -7.6510516911789281, 0.58256798558077338, -7.6510516911789281, -7.6510516911789281, -7.6510516911789281, -7.6510516911789281, 0.0, 0.99640673527599177, 0.0, 0.58256798558077338, -7.6510516911789281, -7.6510516911789281, -7.6510516911789281, -7.6510516911789281, -7.6510516911789281, -7.6510516911789281, -0.99284020842713372, -7.6510516911789281, 1.5801694895322569, 1.9946067412297817, 1.3176151020162801, -7.6510516911789281, 0.58256798558077338, -0.99284020842713372, -7.6510516911789281, -7.6510516911789281, 1.3176151020162801, -0.99284020842713372, 0.99640673527599177, 0.0, 0.0, 0.99640673527599177, -7.6510516911789281, -7.6510516911789281, -0.99284020842713372, -7.6510516911789281]\n",
    "for i in range(len(res)):\n",
    "    assert(round(res[i], 2)==round(out[i], 2))"
   ]
  },
  {
   "cell_type": "markdown",
   "metadata": {
    "deletable": false,
    "editable": false,
    "nbgrader": {
     "cell_type": "markdown",
     "checksum": "dcfcb68376124bc29f2e8731f53bc85d",
     "grade": false,
     "grade_id": "text-seqlogo",
     "locked": true,
     "schema_version": 3,
     "solution": false
    }
   },
   "source": [
    "## 2. Visualizing PWMs (seqlogo) \n",
    "\n",
    "Sequence logos (seqlogos) are a useful tool for visualizing the motif associated with a PWM. Seqlogos show the information content associated with each nucleotide.\n",
    "\n",
    "Intuitively, at each position there are 4 possible nucleotides. If the nucleotide at a certain position is fixed, that gives 2 bits of information (since we know the nucleotide there can be only one out of $2^2$ possibilities). On the other hand, if a certain position in the PWM is essentially random, that doesn't give us any information.\n",
    "\n",
    "The cell below shows how to use the `seqlogo` package to plot the PWM you computed above. You'll have to uncomment the code to make it run. You will see these seqlogos again when you perform motif finding in the lab."
   ]
  },
  {
   "cell_type": "code",
   "execution_count": 10,
   "metadata": {},
   "outputs": [
    {
     "data": {
      "image/png": "[encoded data removed]",
      "text/plain": [
       "<IPython.core.display.Image object>"
      ]
     },
     "execution_count": 10,
     "metadata": {},
     "output_type": "execute_result"
    }
   ],
   "source": [
    "import seqlogo\n",
    "# make seqlogo PWM object\n",
    "seq_pwm = seqlogo.Pwm(pwm)\n",
    "# Convert to ppm needed for plotting\n",
    "seq_ppm = seqlogo.Ppm(seqlogo.pwm2ppm(seq_pwm))\n",
    "seqlogo.seqlogo(seq_ppm, ic_scale = True, format = 'png', size = 'medium')"
   ]
  },
  {
   "cell_type": "markdown",
   "metadata": {
    "deletable": false,
    "editable": false,
    "nbgrader": {
     "cell_type": "markdown",
     "checksum": "da9af1df00e4ed7095f64633b1468bfb",
     "grade": false,
     "grade_id": "text-motif",
     "locked": true,
     "schema_version": 3,
     "solution": false
    }
   },
   "source": [
    "## 3. Using PWMs for scoring motif matches\n",
    "\n",
    "Now that we have our PWM, we can use it to score a new sequence to see how well it matches our given motif. We can compute the score of a sequence $s$ as:\n",
    "\n",
    "$$ Score(s) = \\sum_{i=1}^n PWM[s_i,i] $$\n",
    "\n",
    "where $s_i$ is the nucleotide in sequence $s$ at position $i$ (which we are encoding here as A=0, C=1, G=2, T=3).\n",
    "\n",
    "This score is equivalent to:\n",
    "$$ Score(s) = \\sum_{i=1}^n log_2 \\frac{p(s_i,i)}{p(s_i)} = log_2 \\left( \\frac{p(s_0,0)p(s_1,1) ... p(s_n,n)}{p(s_1)p(s_2)...p(s_n)}\\right) $$\n",
    "\n",
    "or, the log2 ratio of the probability to see this sequence given it was generated by our motif vs. the probabilitly to see this sequence given that it was generated from random genomic sequence. Visually, we are just adding up scores of the cells of the PWM that match our sequence. So if we saw a sequence \"GACCAAATAAGGCA\" we could compute its score by walking it through our PWM and adding up the values in each cell:\n",
    "\n",
    "\n",
    "$$\n",
    "\\begin{array}{| c | c |c |c| c| c |c |c |c |c |c |c |c |c |c |c |}\n",
    "\\hline\n",
    "obs. seq: & G & A & C & C & A & A & A & T & A & A & G & G & C & A \\\\\n",
    "\\hline\n",
    "A & -1.6&\\textbf{0.7}&0.7&-1.6&\\textbf{0.4}&\\textbf{1.4}&\\textbf{0.7}&0.4&\\textbf{1.0}&\\textbf{0.7}&0.0&-1.6&-1.6&\\textbf{0.7}\\\\\n",
    "C & 0.4&-1.6&\\textbf{0.7}&\\textbf{1.6}&-1.6&-1.6&-1.6&0.4&-1.6&-1.6&-1.6&-1.6&\\textbf{0.0}&0.7\\\\\n",
    "G & \\textbf{0.0}&0.4&-1.6&-1.6&-1.6&-1.6&-1.6&-1.6&-0.6&-1.6&\\textbf{1.2}&\\textbf{1.6}&1.0&-1.6\\\\\n",
    "T & 0.4&-0.6&-1.6&-1.6&1.0&-0.6&0.7&\\textbf{0.0}&0.0&0.7&-1.6&-1.6&-0.6&-1.6\\\\\n",
    "\\hline\n",
    "\\end{array}\n",
    "$$\n",
    "\n",
    "$$ Score(GACCAAATAAGGCA) = 0+0.7+0.7+1.6+0.4+1.4+0.7+0.0+1.0+0.7+1.2+1.6+0+0.7 \\approx 10.7$$\n",
    "(this might differ a bit from your answer below due to round off error).\n",
    "\n",
    "**Question 3 (2 pts)**: Complete the function `ScoreSeq` below to score a sequence based on given PWM."
   ]
  },
  {
   "cell_type": "code",
   "execution_count": 12,
   "metadata": {
    "deletable": false,
    "nbgrader": {
     "cell_type": "code",
     "checksum": "dbe24f63e823752b02ace1296eeaac9d",
     "grade": false,
     "grade_id": "q3-answer",
     "locked": false,
     "schema_version": 3,
     "solution": true
    }
   },
   "outputs": [
    {
     "data": {
      "text/plain": [
       "14.253818678800526"
      ]
     },
     "execution_count": 12,
     "metadata": {},
     "output_type": "execute_result"
    }
   ],
   "source": [
    "def ScoreSeq(pwm, sequence):\n",
    "    \"\"\" Score a sequence using a PWM\n",
    "    \n",
    "    Parameters\n",
    "    ----------\n",
    "    pwm : 2d np.array\n",
    "       Position weight matrix\n",
    "    sequence : str\n",
    "       Sequence of nucleotides to be scored\n",
    "       \n",
    "    Returns\n",
    "    -------\n",
    "    score : float\n",
    "       PWM score of the sequence\n",
    "    \"\"\"\n",
    "    score = 0\n",
    "    # your code here\n",
    "    for i in range(len(sequence)):\n",
    "        score +=pwm[nucs[sequence[i]], i]\n",
    "#     raise NotImplementedError\n",
    "    return score\n",
    "\n",
    "score = ScoreSeq(pwm, \"GACCAAATAAGGCA\")\n",
    "score"
   ]
  },
  {
   "cell_type": "code",
   "execution_count": 13,
   "metadata": {
    "deletable": false,
    "editable": false,
    "nbgrader": {
     "cell_type": "code",
     "checksum": "3efde9ba640bc432958631902940d316",
     "grade": true,
     "grade_id": "q3-check",
     "locked": true,
     "points": 2,
     "schema_version": 3,
     "solution": false
    }
   },
   "outputs": [],
   "source": [
    "\"\"\"Test output of ScoreSeq\"\"\"\n",
    "# testing on a different PWM incase the computed one was wrong\n",
    "test_pwm = np.array([[1, 0, 0, 0], [0, -1, 1, 1], [2, -4, 0, 6], [1, -2, 1, 0]]).transpose()\n",
    "test_sequence = \"GTAT\"\n",
    "assert(ScoreSeq(test_pwm, test_sequence)==3)"
   ]
  },
  {
   "cell_type": "markdown",
   "metadata": {
    "deletable": false,
    "editable": false,
    "nbgrader": {
     "cell_type": "markdown",
     "checksum": "052abe36e1b198f1198c44bc09c358cf",
     "grade": false,
     "grade_id": "text-threshold",
     "locked": true,
     "schema_version": 3,
     "solution": false
    }
   },
   "source": [
    "## 4. Setting the threshold\n",
    "\n",
    "A score of ~14 sounds pretty good! But how do we know how high of a score we should be looking for to know if a match is good? One way is to look at a bunch of scores of random sequences to see what non-matches look like. \n",
    "\n",
    "Thinking in p-value language, our null hypothesis is that a sequence wasn't generated by the motif (PWM). Our test statistic is the PWM score. \"Null\" data is just random sequences. Then we can get a p-value for a match by seeing what fraction of \"null\" (random) sequences score better than it.\n",
    "\n",
    "**Question 4 (2 pts)**: The code below generates a null distribution of PWM scores by generating a bunch of random sequences. Complete the function `GetThreshold` which computes the score threshold required to obtain a given p-value. The code plots the null distribution and where your threshold falls for p-value of 0.01. (Hint, it should fall pretty far to the right of the plot)."
   ]
  },
  {
   "cell_type": "code",
   "execution_count": 15,
   "metadata": {
    "deletable": false,
    "nbgrader": {
     "cell_type": "code",
     "checksum": "c94fb01be48ae9b7435965f384cb254b",
     "grade": false,
     "grade_id": "q4-answer",
     "locked": false,
     "schema_version": 3,
     "solution": true
    }
   },
   "outputs": [
    {
     "name": "stdout",
     "output_type": "stream",
     "text": [
      "Populating the interactive namespace from numpy and matplotlib\n"
     ]
    },
    {
     "data": {
      "image/png": "[encoded data removed]",
      "text/plain": [
       "<Figure size 432x288 with 1 Axes>"
      ]
     },
     "metadata": {
      "needs_background": "light"
     },
     "output_type": "display_data"
    }
   ],
   "source": [
    "%pylab inline\n",
    "\n",
    "def RandomSequence(n):\n",
    "    \"\"\" Generate a random string of nucleotides of length n\n",
    "    \n",
    "    Parameters\n",
    "    ----------\n",
    "    n : int\n",
    "       Length of random string to generate\n",
    "       \n",
    "    Returns\n",
    "    -------\n",
    "    seq : str\n",
    "       Random nucleotide string\n",
    "    \"\"\"\n",
    "    seq = \"\"\n",
    "    for i in range(n):\n",
    "        seq += [\"A\",\"C\",\"G\",\"T\"][random.randint(4)]\n",
    "    return seq\n",
    "\n",
    "def GetThreshold(null_dist, pval):\n",
    "    \"\"\" Find the threshold to achieve a desired p-value\n",
    "    \n",
    "    Given a null distribution (list of values),\n",
    "    find the threshold to achieve a desired p-value\n",
    "    \n",
    "    Parameters\n",
    "    ----------\n",
    "    null_dist : list of float\n",
    "       Null distribution of scores\n",
    "    pval : float\n",
    "       % of null_dist that should be above the threshold returned\n",
    "       \n",
    "    Returns\n",
    "    -------\n",
    "    thresh : float\n",
    "       Threshold to achieve the desired p-value    \n",
    "    \"\"\"\n",
    "    thresh = 0 # set this  below to be the score threshold to obtain a p-value <0.01\n",
    "    # your code here\n",
    "    null_dist_sorted = sort(null_dist)\n",
    "    idx = int((1-pval)*len(null_dist))\n",
    "    thresh = null_dist_sorted[idx]\n",
    "    \n",
    "#     raise NotImplementedError\n",
    "    return thresh\n",
    "\n",
    "numsim = 10000\n",
    "null_scores = [ScoreSeq(pwm, RandomSequence(14)) for i in range(numsim)]\n",
    "thresh = GetThreshold(null_scores, 0.01)\n",
    "\n",
    "fig = plt.figure()\n",
    "ax = fig.add_subplot(111)\n",
    "ax.hist(null_scores, bins=10);\n",
    "ax.axvline(x=thresh, color=\"red\")\n",
    "ax.set_xlabel(\"Score\")\n",
    "ax.set_ylabel(\"Frequency\");"
   ]
  },
  {
   "cell_type": "code",
   "execution_count": 16,
   "metadata": {
    "deletable": false,
    "editable": false,
    "nbgrader": {
     "cell_type": "code",
     "checksum": "411aca58bc8ed89c5eb32b00420460b7",
     "grade": true,
     "grade_id": "q4-test",
     "locked": true,
     "points": 2,
     "schema_version": 3,
     "solution": false
    }
   },
   "outputs": [],
   "source": [
    "\"\"\"Test value of thresh\"\"\"\n",
    "null_dist = [i for i in range(0, 101)]\n",
    "assert(GetThreshold(null_dist, 0.05)==95)\n",
    "assert(GetThreshold(null_dist, 0.01)==99)"
   ]
  },
  {
   "cell_type": "markdown",
   "metadata": {
    "deletable": false,
    "editable": false,
    "nbgrader": {
     "cell_type": "markdown",
     "checksum": "6d2de9c71aaa9a9a482e98be316978cd",
     "grade": false,
     "grade_id": "text-scan",
     "locked": true,
     "schema_version": 3,
     "solution": false
    }
   },
   "source": [
    "## 5. Scanning sequences for motif matches using PWMs\n",
    "\n",
    "Now that we have our scoring function, we can scan a long sequence of DNA for matches to find potential binding sites for our factor. We can do this by computing the score of each possible length $n$ substring of our sequence and finding top hits.\n",
    "\n",
    "**Question 5 (2 pts)**: Complete the function `ScanSequence` below, which scans a sequence of DNA for matches to our PWM. The code will plot your scores across the sequence. You should see two top matches for your PWM!"
   ]
  },
  {
   "cell_type": "code",
   "execution_count": 17,
   "metadata": {
    "deletable": false,
    "nbgrader": {
     "cell_type": "code",
     "checksum": "3a32fa2f1bfe3200f164f835b6e1558a",
     "grade": false,
     "grade_id": "q5-answer",
     "locked": false,
     "schema_version": 3,
     "solution": true
    }
   },
   "outputs": [
    {
     "name": "stdout",
     "output_type": "stream",
     "text": [
      "Populating the interactive namespace from numpy and matplotlib\n"
     ]
    },
    {
     "data": {
      "image/png": "[encoded data removed]",
      "text/plain": [
       "<Figure size 1080x144 with 1 Axes>"
      ]
     },
     "metadata": {
      "needs_background": "light"
     },
     "output_type": "display_data"
    }
   ],
   "source": [
    "%pylab inline\n",
    "nucs = {\"A\": 0, \"C\": 1, \"G\": 2, \"T\": 3} # this might be helpful\n",
    "\n",
    "def ScanSequence(pwm, sequence):\n",
    "    \"\"\" Scan a sequence using a PWM\n",
    "    \n",
    "    Parameters\n",
    "    ----------\n",
    "    pwm : 2d np.array\n",
    "        PWM matrix\n",
    "    sequence : str\n",
    "        Long nucleotide string\n",
    "        \n",
    "    Returns\n",
    "    -------\n",
    "    scores : list of float\n",
    "        scores[i] should give the score of the substring sequence[i:i+n]\n",
    "    \"\"\"\n",
    "    n = pwm.shape[1]\n",
    "    scores = [0]*(len(sequence)-n+1) # list of scores. scores[i] should give the score of the substring sequence[i:i+n]\n",
    "    # your code here\n",
    "    for i in range(len(sequence)-n+1):\n",
    "        substr = sequence[i:i+n]\n",
    "        score = 0\n",
    "        for j in range(n):\n",
    "            nuc = substr[j]\n",
    "            score += pwm[nucs[nuc], j]\n",
    "        scores[i] = score\n",
    "#     raise NotImplementedError\n",
    "    return scores\n",
    "\n",
    "binding_sites = [\n",
    "    \"GACCAAATAAGGCA\",\n",
    "    \"GACCAAATAAGGCA\",\n",
    "    \"TGACTATAAAAGGA\",\n",
    "    \"TGACTATAAAAGGA\",\n",
    "    \"TGCCAAAAGTGGTC\",\n",
    "    \"CAACTATCTTGGGC\",\n",
    "    \"CAACTATCTTGGGC\",\n",
    "    \"CTCCTTACATGGGC\"\n",
    "]\n",
    "seq = \"CTAGCTCGATCTCGAAAAGAAAGAGAGTATATAACTATAAAGGGATCTTGCTAGCTCGATCTCGATCTCCTTACATGGGCCGGGGCGCGAGCT\"\n",
    "pwm = GetPWM(binding_sites)\n",
    "scores = ScanSequence(pwm, seq)\n",
    "\n",
    "# Plot them to see where in the sequence any matches start\n",
    "fig = plt.figure()\n",
    "fig.set_size_inches((15, 2))\n",
    "ax = fig.add_subplot(111)\n",
    "ax.plot(range(len(seq)), scores + [None]*(pwm.shape[1]-1), marker=\"o\")\n",
    "ax.axhline(y=thresh, color=\"gray\", linestyle=\"dashed\")\n",
    "ax.set_xticks(range(len(seq)))\n",
    "ax.set_xticklabels(list(seq));\n",
    "ax.set_ylabel(\"Score\", size=12);"
   ]
  },
  {
   "cell_type": "code",
   "execution_count": 18,
   "metadata": {
    "deletable": false,
    "editable": false,
    "nbgrader": {
     "cell_type": "code",
     "checksum": "5579c707d054252ecd13047ab1f61a6b",
     "grade": true,
     "grade_id": "q5-check",
     "locked": true,
     "points": 2,
     "schema_version": 3,
     "solution": false
    }
   },
   "outputs": [],
   "source": [
    "\"\"\"Test output of ScanSequence\"\"\"\n",
    "test_pwm = np.array([[1, 0, 0, 0], [0, -1, 1, 1], [2, -4, 0, 6], [1, -2, 1, 0]]).transpose()\n",
    "test_sequence = \"GTATGTAT\"\n",
    "test_scores = ScanSequence(test_pwm, test_sequence)\n",
    "assert(list(test_scores) == [3,7,2,8,3])"
   ]
  },
  {
   "cell_type": "markdown",
   "metadata": {
    "deletable": false,
    "editable": false,
    "nbgrader": {
     "cell_type": "markdown",
     "checksum": "40bc60b71c9531474479850c05da242f",
     "grade": false,
     "grade_id": "text-q5",
     "locked": true,
     "schema_version": 3,
     "solution": false
    }
   },
   "source": [
    "Look at the sequences starting at the top scoring positions. Do they seem to match the sequence logo we generated for this PWM above?"
   ]
  },
  {
   "cell_type": "markdown",
   "metadata": {
    "deletable": false,
    "editable": false,
    "nbgrader": {
     "cell_type": "markdown",
     "checksum": "4629f57a9eb668a4258c4efdb0311e8a",
     "grade": false,
     "grade_id": "text-limits",
     "locked": true,
     "schema_version": 3,
     "solution": false
    }
   },
   "source": [
    "## 6. Limitations of PWMs\n",
    "\n",
    "Overall, PWMs are a nice tool for motif finding. They work far better than looking for exact matches to a \"consensus\" sequence. However, there are several important limitations to keep in mind:\n",
    "\n",
    "* How will PWMs deal with insertions or deletions within a sequence that otherwise matches the motif?\n",
    "* PWMs assume no dependence between bases. Can you imagine a situation when that's not true?\n",
    "* Scores are heavily dependent on the background nucleotide frequencies. It is a good idea in practice to compute those from background sequences rather than using 25% for each nucleotide like we did here.\n",
    "\n",
    "In this week's lab, we'll do some motif finding on real data using Homer. The next exercise will continue with motifs, focusing on detecting which motifs are enriched in a set of bound sequences."
   ]
  }
 ],
 "metadata": {
  "kernelspec": {
   "display_name": "Python 3 (ipykernel)",
   "language": "python",
   "name": "python3"
  },
  "language_info": {
   "codemirror_mode": {
    "name": "ipython",
    "version": 3
   },
   "file_extension": ".py",
   "mimetype": "text/x-python",
   "name": "python",
   "nbconvert_exporter": "python",
   "pygments_lexer": "ipython3",
   "version": "3.9.5"
  }
 },
 "nbformat": 4,
 "nbformat_minor": 2
}
