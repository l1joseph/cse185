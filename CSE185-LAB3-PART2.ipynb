{
 "cells": [
  {
   "cell_type": "markdown",
   "id": "9ad47737",
   "metadata": {
    "deletable": false,
    "editable": false,
    "nbgrader": {
     "cell_type": "markdown",
     "checksum": "d2fe50ae7c5859c31f02ae0d62d44126",
     "grade": false,
     "grade_id": "intro-text",
     "locked": true,
     "schema_version": 3,
     "solution": false,
     "task": false
    }
   },
   "source": [
    "# Lab 3: Population genetics and GWAS\n",
    "\n",
    "\n",
    "## Part 2 (40 pts)\n",
    "\n",
    "Skills covered: GWAS, plink, p-values, plotting\n",
    "\n",
    "In this exercise we will perform a GWAS of a quantitative trait (LDL cholesterol), and explore effects of confounding by ancestry.\n",
    "\n",
    "We have prepared a dataset consisting of a subset of individuals from the 1000 Genomes Project dataset, and have LD-pruned SNPs so you have a more manageable dataset size to work with. In the lab3 data directory `~/public/lab3/` you'll find:\n",
    "\n",
    "* `lab3_gwas.phen`: Normalized LDL values for each sample\n",
    "* `lab3_gwas.vcf.gz`: A VCF file containing the LD-pruned SNPs for a subset of the 1000 Genomes samples\n",
    "* `lab3_gwas.vcf.gz.tbi`: The VCF file index\n",
    "\n",
    "(*Note: we simulated the phenotype info. This info is not actually available for 1000 Genomes samples.)\n",
    "\n",
    "For this part of the lab, we will have a simplified format where there is just one cell where you'll put all of your answers, and fewer step by step instructions. This is in preparation for the more open-ended lab format starting next week.\n",
    "\n",
    "<font color=\"red\">The plotting cells below assume the output files of your plink commands are in the same directory as this notebook. You can either run your commands in this directory, or copy the necessary results files here. If you've done everything correctly you should see nice Manhattan and QQ plots.</font>"
   ]
  },
  {
   "cell_type": "markdown",
   "id": "3c14477f",
   "metadata": {
    "deletable": false,
    "editable": false,
    "nbgrader": {
     "cell_type": "markdown",
     "checksum": "c8e2913b5ee28bc5e50dee1b4344b6d2",
     "grade": false,
     "grade_id": "setup-text",
     "locked": true,
     "schema_version": 3,
     "solution": false,
     "task": false
    }
   },
   "source": [
    "### Setup\n",
    "\n",
    "1. The plotting cells below use the qqman python package. We have not installed this for you. You can install it locally with:\n",
    "\n",
    "```shell\n",
    "pip install --user qqman\n",
    "```\n",
    "\n",
    "2. Before we get started, it is always a good idea to do some basic checks on our data. The cell below plots a distribution of the phenotype values, and also prints out some basic summary statistics about the number of samples and variants in our dataset."
   ]
  },
  {
   "cell_type": "code",
   "execution_count": 1,
   "id": "f71e359c",
   "metadata": {
    "deletable": false,
    "editable": false,
    "nbgrader": {
     "cell_type": "code",
     "checksum": "0c14e611c1440890d53f339fea150857",
     "grade": false,
     "grade_id": "setup-datasummary",
     "locked": true,
     "schema_version": 3,
     "solution": false,
     "task": false
    }
   },
   "outputs": [
    {
     "name": "stdout",
     "output_type": "stream",
     "text": [
      "Populating the interactive namespace from numpy and matplotlib\n",
      "Found 207 samples in VCF file\n",
      "Of those, 207 samples have phenotype values\n",
      "Found this many total variants:\n",
      "917845\n"
     ]
    },
    {
     "data": {
      "image/png": "[encoded data removed]",
      "text/plain": [
       "<Figure size 432x288 with 1 Axes>"
      ]
     },
     "metadata": {
      "needs_background": "light"
     },
     "output_type": "display_data"
    }
   ],
   "source": [
    "\"\"\"\n",
    "Run this cell to get some basic metadata about the files\n",
    "being used for your GWAS.\n",
    "There are no points associated with this cell.\n",
    "\"\"\"\n",
    "%pylab inline\n",
    "import os\n",
    "import pandas as pd\n",
    "\n",
    "# Plot histogram of LDL values. Should be a nice bell shaped curve\n",
    "ptdata = pd.read_csv(os.environ[\"HOME\"]+\"/public/lab3/lab3_gwas.phen\", delim_whitespace=True, \\\n",
    "                    names=[\"FID\",\"IID\",\"LDL\"])\n",
    "ptdata.hist(\"LDL\");\n",
    "\n",
    "# Print out sample info\n",
    "import vcf\n",
    "reader = vcf.Reader(open(os.environ[\"HOME\"]+\"/public/lab3/lab3_gwas.vcf.gz\", \"rb\"))\n",
    "print(\"Found {numsamp} samples in VCF file\".format(numsamp=len(reader.samples)))\n",
    "numsamp_withpt = len(set(ptdata[\"IID\"]).intersection(set(reader.samples)))\n",
    "print(\"Of those, {numsamp} samples have phenotype values\".format(numsamp=numsamp_withpt))\n",
    "\n",
    "# Print out variant info\n",
    "print(\"Found this many total variants:\")\n",
    "!bcftools index -n ~/public/lab3/lab3_gwas.vcf.gz "
   ]
  },
  {
   "cell_type": "markdown",
   "id": "d0543894",
   "metadata": {
    "deletable": false,
    "editable": false,
    "nbgrader": {
     "cell_type": "markdown",
     "checksum": "730ae7854546b70b763831490925cfc4",
     "grade": false,
     "grade_id": "exercises-text",
     "locked": true,
     "schema_version": 3,
     "solution": false,
     "task": false
    }
   },
   "source": [
    "### Exercises\n",
    "\n",
    "**Question 1 (10 pts):** Use plink to perform a GWAS using the [--linear](https://www.cog-genomics.org/plink/1.9/assoc#linear) option. To save time, you can use `--maf 0.05` to restrict to common SNPs. Set `--out lab3_gwas`, which will create a file `lab3_gwas.assoc.linear`. If your GWAS was successful, the cell below labeled \"Question 1\" should output a Manhattan plot and QQ plot.\n",
    "\n",
    "* Paste your command in `q1_cmd` below.  \n",
    "* Take a look at the output file. What p-value did you get for SNP rs7917054? Set `q1_pval` to your answer below.\n",
    "\n",
    "How does the QQ plot look? You should see severely inflated p-values, which is good evidence that there is some confounding factor we're not controlling for.\n",
    "\n",
    "**Question 2 (7 pts):** A common source of confounding in GWAS is due to population structure. Perform a PCA on the genotypes using plink. Only compute the top 3 PCs (`--pca 3`). Use `--out lab3_gwas`, which will create a file `lab3_gwas.eigenvec`. If your PCA was successful, the cell below labeled \"Question 2\" should output a scatter plot of PC1 vs. PC2.\n",
    "\n",
    "* Paste your command in `q2_cmd` below.\n",
    "* How many major population clusters do you see? Set `q2_numpop` to your answer below. (You might see some outlier points. don't count those as clusters).\n",
    "\n",
    "**Question 3 (12 pts):** Rerun your GWAS from 2.1, but this time controlling for population structure by including the top 3 PCs as covariates. For this, you can use the `--covar` option of plink. Note, you can also use the `hide-covar` modifier to make sure plink only outputs p-values for the SNP effects (`--linear hide-covar`). Otherwise, it will also output p-values for each covariate. Use `--out lab3_gwas_covar` which will create a file `lab3_gwas_covar.assoc.linear`. If your GWAS was successful, the cell below labeled \"Question 3\" should output a Manhattan plot and QQ plot. You should see the p-values are far less inflated now. \n",
    "\n",
    "* Paste your command in `q3_cmd` below.\n",
    "* How many SNPs passed genome-wide significance? ($p<5*10^{-8}$)?. Set `q3_numsig` to your answer below.\n",
    "\n",
    "**Question 4 (11 pts):** Finally, let's perform \"clumping\" to identify individual hits. You can use the plink `--clump` option to do this. It will take in a VCF file (or other genotypes format), and the association statistics computed above, and output a list of independent signals. Read more about clumping [here](https://www.cog-genomics.org/plink/1.9/postproc#clump).\n",
    "\n",
    "* Paste any commands you used to perform clumping on your results in `q4_cmd` below. Note, we also had to run an extra step to remove duplicate SNP ids. There are multiple ways to do that. We used `bcftools norm`.\n",
    "* How many clumps did you find with a lead p-value $<5*10^{-8}$? Set `q4_numclumps` to your answer below.\n",
    "* What chromosome is the top clump on? Set `q4_topclump_chrom` to your answer below.\n",
    "\n",
    "Do any of your hits correspond to previously published GWAS loci for LDL? e.g. see [here](https://bmcmedgenet.biomedcentral.com/articles/10.1186/1471-2350-12-131/figures/3)"
   ]
  },
  {
   "cell_type": "code",
   "execution_count": 1,
   "id": "4619df2a",
   "metadata": {
    "deletable": false,
    "nbgrader": {
     "cell_type": "code",
     "checksum": "b2c596067aa68b5edeaa2359dc290b49",
     "grade": false,
     "grade_id": "answers",
     "locked": false,
     "schema_version": 3,
     "solution": true,
     "task": false
    }
   },
   "outputs": [
    {
     "name": "stdout",
     "output_type": "stream",
     "text": [
      "Populating the interactive namespace from numpy and matplotlib\n"
     ]
    }
   ],
   "source": [
    "# Import libraries\n",
    "%pylab inline\n",
    "import os\n",
    "import pandas as pd\n",
    "from qqman import qqman\n",
    "\n",
    "\"\"\" Paste your answers for questions below \"\"\"\n",
    "\n",
    "q1_cmd = \"\"\"\n",
    "# Paste your command for running a GWAS here\n",
    "\"\"\"\n",
    "\n",
    "q1_pval = -1 # Set to your pvalue for the SNP rs7917054\n",
    "\n",
    "q2_cmd = \"\"\"\n",
    "# Paste your command for running PCA here\n",
    "\"\"\"\n",
    "\n",
    "q2_numpop = 0 # Set to the number of population clusters\n",
    "\n",
    "q3_cmd = \"\"\"\n",
    "# Paste your command for running GWAS with PCs as covariates here\n",
    "\"\"\"\n",
    "\n",
    "q3_numsig = -1 # set to the number of genome-wide significant SNPs\n",
    "\n",
    "q4_cmd = \"\"\"\n",
    "# Paste your command(s) for clumping here\n",
    "\"\"\"\n",
    "\n",
    "q4_numclumps = -1 # Set to the number of clumps you found\n",
    "\n",
    "q4_topclump_chrom = \"\" # Set to the chromosome number of the top clump. e.g. \"1\", \"2\", \"3\", etc.\n",
    "\n",
    "# your code here\n",
    "q1_cmd = \"\"\"\n",
    "plink --vcf ~/public/lab3/lab3_gwas.vcf.gz --pheno ~/public/lab3/lab3_gwas.phen --linear --maf 0.05--out lab3_gwas --allow-no-sex\n",
    "\"\"\"\n",
    "q1_pval = 0.5471\n",
    "q2_cmd = \"\"\"\n",
    "plink --vcf ~/public/lab3/lab3_gwas.vcf.gz --pca 3 --out lab3_gwas\n",
    "\"\"\"\n",
    "q2_numpop = 2\n",
    "\n",
    "q3_cmd = \"\"\"\n",
    "plink --vcf ~/public/lab3/lab3_gwas.vcf.gz \\\n",
    "      --pheno ~/public/lab3/lab3_gwas.phen \\\n",
    "      --covar ~/lab3/lab3_gwas.eigenvec \\\n",
    "      --linear hide-covar \\\n",
    "      --allow-no-sex \\\n",
    "      --maf 0.05 \\\n",
    "      --out lab3_gwas_covar\n",
    "\"\"\"\n",
    "q3_numsig = 8\n",
    "q4_cmd = \"\"\"\n",
    "bcftools norm --rm-dup all -o ~/lab3/lab3_gwas_nodup.vcf.gz ~/public/lab3/lab3_gwas.vcf.gz \n",
    "plink --vcf ~/lab3/lab3_gwas_nodup.vcf.gz --clump lab3_gwas_covar.assoc.linear --clump-p1 5e-8 --out lab3_gwas_clumped\n",
    "\"\"\"\n",
    "q4_numclumps = 3\n",
    "q4_topclump_chrom = \"19\"\n",
    "# raise NotImplementedError"
   ]
  },
  {
   "cell_type": "code",
   "execution_count": 9,
   "id": "bf51ae6d",
   "metadata": {
    "deletable": false,
    "editable": false,
    "nbgrader": {
     "cell_type": "code",
     "checksum": "cb57af89c023f4fc52411973d34706c5",
     "grade": true,
     "grade_id": "q1-check-1",
     "locked": true,
     "points": 5,
     "schema_version": 3,
     "solution": false,
     "task": false
    }
   },
   "outputs": [],
   "source": [
    "\"\"\"Basic check on plink --linear command and output\"\"\"\n",
    "import os\n",
    "assert(\"plink\" in q1_cmd)\n",
    "assert(\"--linear\" in q1_cmd)\n",
    "assert(\"--out\" in q1_cmd)\n",
    "assert(\"--maf\" in q1_cmd)\n",
    "assert(\"lab3_gwas.assoc.linear\" in os.listdir(\".\"))"
   ]
  },
  {
   "cell_type": "code",
   "execution_count": 10,
   "id": "9dcb3e35",
   "metadata": {
    "deletable": false,
    "editable": false,
    "nbgrader": {
     "cell_type": "code",
     "checksum": "307fa01a849d038254734aeb9d3b42df",
     "grade": true,
     "grade_id": "q1-check-2",
     "locked": true,
     "points": 3,
     "schema_version": 3,
     "solution": false,
     "task": false
    }
   },
   "outputs": [
    {
     "data": {
      "image/png": "[encoded data removed]",
      "text/plain": [
       "<Figure size 1080x360 with 2 Axes>"
      ]
     },
     "metadata": {
      "needs_background": "light"
     },
     "output_type": "display_data"
    }
   ],
   "source": [
    "\"\"\"Question 1: Make Manhattan and QQ plot of the results\"\"\"\n",
    "from qqman import qqman\n",
    "data = pd.read_csv(\"lab3_gwas.assoc.linear\", delim_whitespace=True)\n",
    "fig, (ax0, ax1) = plt.subplots(1, 2, gridspec_kw={'width_ratios': [2, 1]})\n",
    "fig.set_size_inches((15, 5))\n",
    "qqman.manhattan(data, ax=ax0)\n",
    "qqman.qqplot(data, ax=ax1)"
   ]
  },
  {
   "cell_type": "code",
   "execution_count": 11,
   "id": "0df4be07",
   "metadata": {
    "deletable": false,
    "editable": false,
    "nbgrader": {
     "cell_type": "code",
     "checksum": "f81ae35907643703776dafcadeaec74e",
     "grade": true,
     "grade_id": "q1-check-3",
     "locked": true,
     "points": 2,
     "schema_version": 3,
     "solution": false,
     "task": false
    }
   },
   "outputs": [],
   "source": [
    "\"\"\"Check p-value for example SNP\"\"\"\n",
    "assert(q1_pval > 0 and q1_pval < 1)\n",
    "# Hidden tests check actual answer"
   ]
  },
  {
   "cell_type": "code",
   "execution_count": 15,
   "id": "0647cfc9",
   "metadata": {
    "deletable": false,
    "editable": false,
    "nbgrader": {
     "cell_type": "code",
     "checksum": "69311e1116cc855a0cc9e370b353bd75",
     "grade": true,
     "grade_id": "q2-check-1",
     "locked": true,
     "points": 4,
     "schema_version": 3,
     "solution": false,
     "task": false
    }
   },
   "outputs": [],
   "source": [
    "\"\"\"Basic check on plink --pca command and output\"\"\"\n",
    "assert(\"plink\" in q2_cmd)\n",
    "assert(\"--pca\" in q2_cmd)\n",
    "assert(\"--out\" in q2_cmd)\n",
    "assert(\"lab3_gwas.eigenvec\" in os.listdir(\".\"))"
   ]
  },
  {
   "cell_type": "code",
   "execution_count": 16,
   "id": "7676d9c2",
   "metadata": {
    "deletable": false,
    "editable": false,
    "nbgrader": {
     "cell_type": "code",
     "checksum": "1b774bba4ed43f0fd89a7a60aa66fbd0",
     "grade": true,
     "grade_id": "q2-check-2",
     "locked": true,
     "points": 2,
     "schema_version": 3,
     "solution": false,
     "task": false
    }
   },
   "outputs": [
    {
     "data": {
      "image/png": "[encoded data removed]",
      "text/plain": [
       "<Figure size 432x288 with 1 Axes>"
      ]
     },
     "metadata": {
      "needs_background": "light"
     },
     "output_type": "display_data"
    }
   ],
   "source": [
    "\"\"\"Question 2: Plot the top PCs of our results\"\"\"\n",
    "pca = pd.read_csv(\"lab3_gwas.eigenvec\", delim_whitespace=True, header=None)\n",
    "pca.columns = [\"sample\",\"sample2\"]+[\"PC%s\"%i for i in range(1, 4)]\n",
    "fig = plt.figure()\n",
    "ax = fig.add_subplot(111)\n",
    "ax.scatter(pca[\"PC1\"], pca[\"PC2\"], alpha=0.3);\n",
    "ax.set_xlabel(\"PC1\")\n",
    "ax.set_ylabel(\"PC2\");"
   ]
  },
  {
   "cell_type": "code",
   "execution_count": 19,
   "id": "dfa3585e",
   "metadata": {
    "deletable": false,
    "editable": false,
    "nbgrader": {
     "cell_type": "code",
     "checksum": "ec89dae4ba673be690267d21bb52e458",
     "grade": true,
     "grade_id": "q2-check-3",
     "locked": true,
     "points": 1,
     "schema_version": 3,
     "solution": false,
     "task": false
    }
   },
   "outputs": [],
   "source": [
    "\"\"\"Check num PCA clusters\"\"\"\n",
    "assert(q2_numpop > 0 and q2_numpop < 10)\n",
    "# Hidden tests check actual value"
   ]
  },
  {
   "cell_type": "code",
   "execution_count": 22,
   "id": "a528a5a8",
   "metadata": {
    "deletable": false,
    "editable": false,
    "nbgrader": {
     "cell_type": "code",
     "checksum": "47dac8d93055d8c041d43c1ea18d07b0",
     "grade": true,
     "grade_id": "q3-check-1",
     "locked": true,
     "points": 5,
     "schema_version": 3,
     "solution": false,
     "task": false
    }
   },
   "outputs": [],
   "source": [
    "\"\"\"Basic check on plink --linear and --covar command and output\"\"\"\n",
    "import os\n",
    "assert(\"plink\" in q3_cmd)\n",
    "assert(\"--linear\" in q3_cmd)\n",
    "assert(\"--covar\" in q3_cmd)\n",
    "assert(\"--out\" in q3_cmd)\n",
    "assert(\"--maf\" in q3_cmd)\n",
    "assert(\"lab3_gwas_covar.assoc.linear\" in os.listdir(\".\"))"
   ]
  },
  {
   "cell_type": "code",
   "execution_count": 23,
   "id": "e3dcfe94",
   "metadata": {
    "deletable": false,
    "editable": false,
    "nbgrader": {
     "cell_type": "code",
     "checksum": "d59696ff167c81de5ae970a83e7128ef",
     "grade": true,
     "grade_id": "q3-check-2",
     "locked": true,
     "points": 5,
     "schema_version": 3,
     "solution": false,
     "task": false
    }
   },
   "outputs": [
    {
     "data": {
      "image/png": "[encoded data removed]",
      "text/plain": [
       "<Figure size 1080x360 with 2 Axes>"
      ]
     },
     "metadata": {
      "needs_background": "light"
     },
     "output_type": "display_data"
    }
   ],
   "source": [
    "\"\"\"Question 3: Make Manhattan and QQ plot of the results - w/covars\"\"\"\n",
    "covdata = pd.read_csv(\"lab3_gwas_covar.assoc.linear\", delim_whitespace=True)\n",
    "fig, (ax0, ax1) = plt.subplots(1, 2, gridspec_kw={'width_ratios': [2, 1]})\n",
    "fig.set_size_inches((15, 5))\n",
    "qqman.manhattan(covdata, ax=ax0)\n",
    "qqman.qqplot(covdata, ax=ax1)"
   ]
  },
  {
   "cell_type": "code",
   "execution_count": 2,
   "id": "e1e72e83",
   "metadata": {
    "deletable": false,
    "editable": false,
    "nbgrader": {
     "cell_type": "code",
     "checksum": "5a05494f5af3f382daf48ac2741c4241",
     "grade": true,
     "grade_id": "q3-check-3",
     "locked": true,
     "points": 2,
     "schema_version": 3,
     "solution": false,
     "task": false
    }
   },
   "outputs": [],
   "source": [
    "\"\"\"Check num sig hits\"\"\"\n",
    "assert(q3_numsig >= 0)"
   ]
  },
  {
   "cell_type": "code",
   "execution_count": 3,
   "id": "a5221775",
   "metadata": {
    "deletable": false,
    "editable": false,
    "nbgrader": {
     "cell_type": "code",
     "checksum": "fed3f850a40c5e7c778d3d11908e28f7",
     "grade": true,
     "grade_id": "q4-check-1",
     "locked": true,
     "points": 4,
     "schema_version": 3,
     "solution": false,
     "task": false
    }
   },
   "outputs": [],
   "source": [
    "\"\"\"Basic check on clumping commands\"\"\"\n",
    "assert(\"plink\" in q4_cmd)\n",
    "assert(\"--clump\" in q4_cmd)"
   ]
  },
  {
   "cell_type": "code",
   "execution_count": 4,
   "id": "357ea9d4",
   "metadata": {
    "deletable": false,
    "editable": false,
    "nbgrader": {
     "cell_type": "code",
     "checksum": "dd507a94ab4e4a8380fc933a3659619e",
     "grade": true,
     "grade_id": "q4-check-2",
     "locked": true,
     "points": 4,
     "schema_version": 3,
     "solution": false,
     "task": false
    }
   },
   "outputs": [],
   "source": [
    "\"\"\"Check clump number\"\"\"\n",
    "assert(q4_numclumps > 0)"
   ]
  },
  {
   "cell_type": "code",
   "execution_count": 5,
   "id": "65f28bc0",
   "metadata": {
    "deletable": false,
    "editable": false,
    "nbgrader": {
     "cell_type": "code",
     "checksum": "0ee6857990f8a8fae0dc262be891673a",
     "grade": true,
     "grade_id": "q4-check-3",
     "locked": true,
     "points": 3,
     "schema_version": 3,
     "solution": false,
     "task": false
    }
   },
   "outputs": [],
   "source": [
    "\"\"\"Check chrom of top clump\"\"\"\n",
    "assert(q4_topclump_chrom in [str(i) for i in range(1, 23)])"
   ]
  }
 ],
 "metadata": {
  "kernelspec": {
   "display_name": "Python 3 (ipykernel)",
   "language": "python",
   "name": "python3"
  },
  "language_info": {
   "codemirror_mode": {
    "name": "ipython",
    "version": 3
   },
   "file_extension": ".py",
   "mimetype": "text/x-python",
   "name": "python",
   "nbconvert_exporter": "python",
   "pygments_lexer": "ipython3",
   "version": "3.9.5"
  }
 },
 "nbformat": 4,
 "nbformat_minor": 5
}
