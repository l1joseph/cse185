{
 "cells": [
  {
   "cell_type": "markdown",
   "metadata": {
    "deletable": false,
    "editable": false,
    "nbgrader": {
     "cell_type": "markdown",
     "checksum": "0a1b8277ac565fe14516087db31b5407",
     "grade": false,
     "grade_id": "lab4-intro",
     "locked": true,
     "schema_version": 3,
     "solution": false,
     "task": false
    }
   },
   "source": [
    "# Lab 4: RNA-seq\n",
    "\n",
    "Skills: differential expression, basic R, enrichment analysis\n",
    "\n",
    "For this week you'll need to complete the following, which are described in more detail below:\n",
    "\n",
    "* `CSE185-LAB4-EXERCISES.ipynb` (20 pts)\n",
    "* `CSE185-LAB4-REPORT.ipynb` (70 pts) (this notebook)\n",
    "* `CSE185-LAB4-README.ipynb` (10 pts)\n",
    "\n",
    "## Intro\n",
    "You would like to study the effects that eating a high fat diet might have on your health. To explore this, you perform an experiment using mice. You feed three mice a standard \"chow\" diet and another three mice a high fat diet (\"HFD\"). After 7 weeks, you collect liver biopsies from each of the six mice and perform RNA-sequencing. You'd like to analyze the RNA-seq results to determine which genes changed their expression, and what those genes might be doing.\n",
    "\n",
    "Our pipeline will consist of:\n",
    "1. Alignment of RNA-seq data and quantifying expression levels (we've already done that for you)\n",
    "2. Differential expression analysis\n",
    "3. \"GO\" Enrichment analysis to characterize differentially expressed genes.\n",
    "4. Visualizing expression data with IGV\n",
    "\n",
    "Note, the data from this lab is from the paper [High fat diet-induced changes of mouse hepatic transcription and enhancer activity can be reversed by subsequent weight loss *Scientific Reports* 2017](https://www.nature.com/articles/srep40220.pdf).\n",
    "\n",
    "### Note on new lab notebook format\n",
    "This week, we'll be transitioning to a new lab format which is no longer autograded and therefore a bit more open-ended. You'll be filling out the following:\n",
    "\n",
    "* `CSE185-LAB4-REPORT.ipynb`: will provide instructions (and hints) about the analyses you'll be performing that week. It will have prompts for the questions you should answer. <font color=\"red\">This file is graded. The report is worth 70 pts (70%) of the points for this week's lab.</font> From here on out, we will not be asking you to paste specific commands you used to get your answer in the actual report. Instead, we will ask you to document your commands in the following file:\n",
    "\n",
    "* `CSE185-LAB4-README.ipynb`: We have included a mostly blank document for you. You should use this file to keep track of exactly the commands you used for each analysis, so that you can come back to it next week (or next year!) and remember what you did. <font color=\"red\">This file is graded. Documentation is worth 10 pts (10%) of the points for this week's lab.</font>\n",
    "\n",
    "There are additional exercises in `CSE185-LAB4-EXERCISES.ipynb`. <font color=\"red\"> As usual exercises are worth a total of 20 pts (20%) for this week's lab.</font> You'll also see `CSE185-LAB4-PREPROCESSING.ipynb` with background information for how we performed the alignment and expression quantification steps.\n",
    "\n",
    "### Summary of tools covered\n",
    "In this lab we'll be using the following tools and resources:\n",
    "\n",
    "* [Gene Expression Omnibus](https://www.ncbi.nlm.nih.gov/geo) to access publicly available data.\n",
    "* [IGV](https://software.broadinstitute.org/software/igv/) a genome browser. Used for visualizing RNA-seq alignments (and other types of genomic data)\n",
    "* [DESeq2](https://bioconductor.org/packages/release/bioc/html/DESeq2.html) for differential expression analysis. This is an R package. It takes in gene expression levels across multiple replicates of multiple conditions and determines which genes are differentially expressed.\n",
    "* [PANTHER](http://www.pantherdb.org/) (or your tool of choice) for Gene Ontology analysis.\n",
    "\n",
    "We will also refer to these tools but will not run them directly:\n",
    "* [STAR](https://github.com/alexdobin/STAR) for aligning RNA-seq reads to a reference transcriptome.\n",
    "* [RSEM](https://deweylab.github.io/RSEM/) for quantifying gene expression. RSEM takes aligned reads as input and outputs expression levels for each gene.\n",
    "\n",
    "Note: Because DESeq2 is an R package, we'll be writing a small bit of R code. We'll point you to some resources to help you figure this out.\n",
    "\n",
    "And as usual, we'll do some plotting with the [matplotlib](https://matplotlib.org/) Python library (or, whatever method you want to use for plotting. You do not have to use matplotlib. You can also write R code directly in Jupyter notebooks as we'll see below).\n",
    "\n",
    "### Summary of data provided\n",
    "\n",
    "For this lab, to save you time we have already precomputed part of the results you will need to complete the lab, which can be found in `~/public/lab4/`. You can read about the steps we used for this in `CSE185-LAB4-PREPROCESSING.ipynb`. We will go over how data was obtained from the paper and preprocessed in lecture.\n",
    "\n",
    "You should see:\n",
    "* `*.genes.results`: gene-level expression results output by RSEM for each condition/replicate.\n",
    "* `GRCm38.75.gene_names` contains a mapping between ENSEMBL gene ids (`ENSMUSG...`) and gene names (e.g. Cdc45, Klf6)"
   ]
  },
  {
   "cell_type": "markdown",
   "metadata": {},
   "source": [
    "## 1. Quantifying gene expression\n",
    "\n",
    "We have already aligned raw reads to the reference transcriptome using STAR and quantified expression of each gene using RSEM. You can find the results in `~/public/lab4/*.genes.results`.\n",
    "\n",
    "Take a look at the output file. You will see (among other things): gene_id (a funny looking string like ENSMUSG...), a list of transcript ids for that gene, the length of the gene, and the estimated expression level given in both TPM and FPKM. Refer to the exercises and the lecture slides for more info about the difference between these metrics.\n",
    "\n",
    "<font color=\"red\">**Question 1 (5 pts)**</font> Summarize the expression results by reporting how many genes were expressed (TPM>0) in each sample. Report your results in a table with columns \"Dataset\" (e.g. Chow_Rep1, Chow_Rep2, etc.) and \"# genes\". You should have a total of 6 rows (3 each for Chow and HFD). ([helpful Markdown table syntax](https://www.markdownguide.org/extended-syntax/#tables))"
   ]
  },
  {
   "cell_type": "markdown",
   "metadata": {
    "deletable": false,
    "nbgrader": {
     "cell_type": "markdown",
     "checksum": "24e6e63034a0fa865b4223a0ceeffcb7",
     "grade": true,
     "grade_id": "answer-q1",
     "locked": false,
     "points": 5,
     "schema_version": 3,
     "solution": true,
     "task": false
    }
   },
   "source": [
    "YOUR ANSWER HERE\n",
    "\n",
    "| Dataset | # genes |\n",
    "| ----------- | ----------- |\n",
    "| Chow_Rep1 | 16913 |\n",
    "| Chow_Rep2 | 17092 |\n",
    "| Chow_Rep3 | 16791 |\n",
    "| HFD_Rep1 | 17074 |\n",
    "| HFD_Rep2 | 16844 |\n",
    "| HFD_Rep3 | 16731 |\n"
   ]
  },
  {
   "cell_type": "markdown",
   "metadata": {
    "deletable": false,
    "editable": false,
    "nbgrader": {
     "cell_type": "markdown",
     "checksum": "23997f71f872f96a9b815abfd460b9c5",
     "grade": false,
     "grade_id": "text-q2",
     "locked": true,
     "schema_version": 3,
     "solution": false,
     "task": false
    }
   },
   "source": [
    "<font color=\"red\">**Question 2 (10 pts)**</font> Since we included three replicate samples for each condition, one way we can assess the quality of our results is by comparing replicate samples. Provide scatter plots comparing TPM values in Chow Rep1 vs. Rep2 and HFD Rep1 vs. Rep2. Since expression values have a large range, you should compare log10 TPM values rather than raw values themselves. Make sure to label the axes on your plots. Provide some interpretation of your plots - do the expression values between replicates seem to be well correlated or not?\n",
    "\n",
    "Note: you can insert figures by saving them to a file and including them here using [markdown syntax](https://medium.com/markdown-monster-blog/getting-images-into-markdown-documents-and-weblog-posts-with-markdown-monster-9ec6f353d8ec)."
   ]
  },
  {
   "cell_type": "markdown",
   "metadata": {
    "deletable": false,
    "nbgrader": {
     "cell_type": "markdown",
     "checksum": "1b54fd130d9bd9c214de7f2213b3aafc",
     "grade": true,
     "grade_id": "answer-q2",
     "locked": false,
     "points": 10,
     "schema_version": 3,
     "solution": true,
     "task": false
    }
   },
   "source": [
    "YOUR ANSWER HERE\n",
    "![](TPM_q2_plots.png)"
   ]
  },
  {
   "cell_type": "markdown",
   "metadata": {
    "deletable": false,
    "editable": false,
    "nbgrader": {
     "cell_type": "markdown",
     "checksum": "7e16dcf128cee13833ba5924c35111f6",
     "grade": false,
     "grade_id": "diffexpr-text",
     "locked": true,
     "schema_version": 3,
     "solution": false,
     "task": false
    }
   },
   "source": [
    "## 2. Differential expression analysis\n",
    "\n",
    "Now that we have quantified gene expression in each of our samples, we can perform differential expression analysis. For this, we will be using DESeq2, a widely used method that takes in estimated gene expression levels across different samples and outputs a set of differentially expressed genes.\n",
    "\n",
    "This tool is an R package, and so must be run from R. This means we have to learn at least a bit of a new language. Fortunately, we can write R code directly in Jupyter notebooks using the R \"cell magic\" (see below). Alternatively, you can open a separate \"R\" document from JupyterHub or use R at the terminal if that's more comfortable. \n",
    "\n",
    "The example cells below shows how you can turn a cell into an R cell. It also loads `DESeq2` and `tximport`, two libraries you will need, and provides some helpful comments to get you started.\n",
    "\n",
    "**Use DESeq2 to identify genes that are differentially expressed between Chow and HFD**. You'll need to write some R code that does the following:\n",
    "\n",
    "* Set up the list of files to be used as input to DESeq2. We will input the RSEM results from each of our replicates in each condition. Recall these can be found at `~/public/lab4/*.genes.results`.\n",
    "* Import the data to DESeq2 using the tximport library.\n",
    "* Run DESeq2 to find differentially expressed genes between the two conditions.\n",
    "* Output results to a file `chow_vs_hfd_deseq2.csv`.\n",
    "\n",
    "We recommend taking a look at the following tutorial: http://bioconductor.org/packages/devel/bioc/vignettes/DESeq2/inst/doc/DESeq2.html. We'll also be going over some hints in lab sessions."
   ]
  },
  {
   "cell_type": "code",
   "execution_count": 3,
   "metadata": {
    "deletable": false,
    "editable": false,
    "nbgrader": {
     "cell_type": "code",
     "checksum": "a24829fd7ed530861c62fa6aa5bbbca6",
     "grade": false,
     "grade_id": "load-R",
     "locked": true,
     "schema_version": 3,
     "solution": false,
     "task": false
    }
   },
   "outputs": [
    {
     "name": "stdout",
     "output_type": "stream",
     "text": [
      "The rpy2.ipython extension is already loaded. To reload it, use:\n",
      "  %reload_ext rpy2.ipython\n"
     ]
    }
   ],
   "source": [
    "# Run this to allow using the %%R cell magic\n",
    "%load_ext rpy2.ipython\n",
    "\n",
    "# Suppress warnings (most notable from rpy2)\n",
    "import warnings\n",
    "warnings.filterwarnings('ignore')"
   ]
  },
  {
   "cell_type": "code",
   "execution_count": 4,
   "metadata": {
    "deletable": false,
    "editable": false,
    "nbgrader": {
     "cell_type": "code",
     "checksum": "6b816bc0efd704597ac2ec31791d0c19",
     "grade": false,
     "grade_id": "Rcell-example",
     "locked": true,
     "schema_version": 3,
     "solution": false,
     "task": false
    }
   },
   "outputs": [],
   "source": [
    "%%R\n",
    "\n",
    "##### Load the libraries we need #####\n",
    "library(\"DESeq2\")\n",
    "library(\"tximport\")\n",
    "\n",
    "# This cell is an example. We recommend putting the R code you use for this\n",
    "# in the CSE185-LAB4-README.ipynb notebook\n",
    "\n",
    "# You might find some of the code below helpful!\n",
    "# Or, you can ignore what we have below and follow\n",
    "# http://bioconductor.org/packages/devel/bioc/vignettes/DESeq2/inst/doc/DESeq2.html\n",
    "\n",
    "##### List the files and set up metadata #####\n",
    "# Note, you should change this to use the files in your home directory\n",
    "#files <- c(\"Chow_Rep1.genes.results\",\n",
    "#         \"Chow_Rep2.genes.results\",\n",
    "#         \"Chow_Rep3.genes.results\",\n",
    "#         \"HFD_Rep1.genes.results\",\n",
    "#         \"HFD_Rep2.genes.results\",\n",
    "#         \"HFD_Rep3.genes.results\")\n",
    "#conditions <- c(rep(\"Chow\", 3), rep(\"HFD\", 3))\n",
    "#samples <- data.frame(\"run\"=c(\"Chow_Rep1\", \"Chow_Rep2\", \"Chow_Rep3\", \"HFD_Rep1\", \"HFD_Rep2\", \"HFD_Rep3\"),\n",
    "#                    \"condition\"=conditions)\n",
    "#names(files) = samples$run\n",
    "\n",
    "##### Use \"tximport\" to convert RSEM results to the format needed by DESeq2 #####\n",
    "# TODO\n",
    "# 1. Import RSEM results with tximport\n",
    "# 2. Note, we also used txi$length[txi$length == 0] <- 1 \n",
    "# to add a pseudocount of 1 to fix an error with 0-length transcripts\n",
    "# 3. Load to a deseq dataset from tximport (see DESeqDataSetFromTximport)\n",
    "\n",
    "###### Filter things with very low counts so we don't waste time on those #####\n",
    "# TODO\n",
    "\n",
    "##### Perform deseq2 #####\n",
    "# TODO\n",
    "\n",
    "##### Write results to chow_vs_hfd_deseq2.csv #####\n",
    "# TODO"
   ]
  },
  {
   "cell_type": "markdown",
   "metadata": {
    "deletable": false,
    "editable": false,
    "nbgrader": {
     "cell_type": "markdown",
     "checksum": "92281ea72cc62f3b9144aa0521c5dc43",
     "grade": false,
     "grade_id": "diffexpr-text-2",
     "locked": true,
     "schema_version": 3,
     "solution": false,
     "task": false
    }
   },
   "source": [
    "After DESeq2 runs successfully, you should get a csv file with multiple columns:\n",
    "* Gene id (e.g. ENSMUSG00000000088)\n",
    "* log2FoldChange: gives the log2 of the fold change in expression of the gene between conditions\n",
    "* pvalue: gives the nominal p-value for each gene, where here the null hypothesis is that the gene is expressed equally in Chow vs. HFD.\n",
    "* padj: gives the pvalues \"adjusted\" for the number of hypotheses being tested (false discovery rate).\n",
    "\n",
    "For downstream analyses, **we recommend treating genes with adjusted pvalue $<$ 0.05 as significant**.\n",
    "\n",
    "<font color=\"red\">**Question 3 (5 pts)**</font> Describe how you performed differential expression analysis. Which package(s) did you use? Which version(s)? Did you have to do any preprocessing of your data (e.g. removing genes with length 0 or removing genes with very low counts)? Justify any choices you made about which genes to filter or any parameters you had to set."
   ]
  },
  {
   "cell_type": "markdown",
   "metadata": {
    "deletable": false,
    "nbgrader": {
     "cell_type": "markdown",
     "checksum": "6ccd46c73ddf049ffd22ef61dff9fc32",
     "grade": true,
     "grade_id": "answer-q3",
     "locked": false,
     "points": 5,
     "schema_version": 3,
     "solution": true,
     "task": false
    }
   },
   "source": [
    "YOUR ANSWER HERE\n",
    "\n",
    "For differential expression analysis, I used the DESeq2 package (version 1.34.0) along with the tximport package (version 1.22.0) for importing the RSEM results. As a preprocessing step, I added a pseudocount of 1 to genes with length 0 to avoid errors. I also filtered out genes with very low counts (total count across all samples < 10) to focus the analysis on more reliable genes and improve computational efficiency."
   ]
  },
  {
   "cell_type": "markdown",
   "metadata": {
    "deletable": false,
    "editable": false,
    "nbgrader": {
     "cell_type": "markdown",
     "checksum": "70dc8767dba3dc253586d3b165aea218",
     "grade": false,
     "grade_id": "text-q4",
     "locked": true,
     "schema_version": 3,
     "solution": false,
     "task": false
    }
   },
   "source": [
    "<font color=\"red\">**Question 4 (15 pts)**</font> Visualize the differential expression results using a \"volcano plot\", which plots the log2 fold change vs. the -log10 p-value. Make your volcano plot more informative by: (1) coloring genes that are significantly differentially expressed in a different color and (2) annotating the names of the top differentially expressed genes. "
   ]
  },
  {
   "cell_type": "markdown",
   "metadata": {
    "deletable": false,
    "nbgrader": {
     "cell_type": "markdown",
     "checksum": "eb01630925fc51ef7aa555c8d830409c",
     "grade": true,
     "grade_id": "answer-q4",
     "locked": false,
     "points": 15,
     "schema_version": 3,
     "solution": true,
     "task": false
    }
   },
   "source": [
    "YOUR ANSWER HERE\n",
    "\n",
    "![](Volcano_q4.png)"
   ]
  },
  {
   "cell_type": "markdown",
   "metadata": {
    "deletable": false,
    "editable": false,
    "nbgrader": {
     "cell_type": "markdown",
     "checksum": "cd08632e53ca811e40e0194c2770143f",
     "grade": false,
     "grade_id": "text-q5",
     "locked": true,
     "schema_version": 3,
     "solution": false,
     "task": false
    }
   },
   "source": [
    "<font color=\"red\">**Question 5 (5 pts)**</font> At an adjusted p-value threshold (FDR) of 5%, how many genes were differentially expressed across the two conditions? Report the top 10 most differentially expressed genes, their log2 fold change, and the p-value. Report the gene names (e.g. Fads2) rather than gene ids.\n",
    "\n",
    "You'll notice all the gene ids are pretty cryptic looking (e.g. ENSMUSG00000000088). We have provided a file, `GRCm38.75.gene_names` in the `~/public/lab4` directory that can be used to convert these to gene names."
   ]
  },
  {
   "cell_type": "markdown",
   "metadata": {
    "deletable": false,
    "nbgrader": {
     "cell_type": "markdown",
     "checksum": "7e5f180f4ab2c9da84b94cfa9c0e47c8",
     "grade": true,
     "grade_id": "answer-q5",
     "locked": false,
     "points": 5,
     "schema_version": 3,
     "solution": true,
     "task": false
    }
   },
   "source": [
    "YOUR ANSWER HERE\n",
    "\n",
    "Number of differentially expressed genes at FDR < 0.05: 375\n",
    "\n",
    "Top 10 most differentially expressed genes(based on log2 fold change):\n",
    "\n",
    "| GeneName | log2FoldChange |      pvalue |\n",
    "|----------|----------------|-------------|\n",
    "|   Gm5559 |       9.684341 | 1.400843e-07 |\n",
    "|  Gm12989 |       6.516617 | 8.513937e-06 |\n",
    "|  Amd-ps3 |      -6.301708 | 4.470957e-05 |\n",
    "|   Pcdh20 |       6.126427 | 1.393911e-04 |\n",
    "|    Pram1 |      -5.892036 | 1.387983e-04 |\n",
    "|    Moxd1 |       5.585998 | 7.352253e-07 |\n",
    "|    Actg2 |       5.375119 | 9.965895e-04 |\n",
    "|     Cnn1 |       5.307675 | 2.220891e-04 |\n",
    "|  Cyp4a14 |      -5.153649 | 3.966225e-09 |\n",
    "|  Cyp2b10 |      -5.083951 | 4.424623e-41 |"
   ]
  },
  {
   "cell_type": "markdown",
   "metadata": {
    "deletable": false,
    "editable": false,
    "nbgrader": {
     "cell_type": "markdown",
     "checksum": "a5ce597fef801a6683dc47d56d696813",
     "grade": false,
     "grade_id": "text-part4",
     "locked": true,
     "schema_version": 3,
     "solution": false,
     "task": false
    }
   },
   "source": [
    "## 3. Gene ontology enrichment analysis\n",
    "\n",
    "Finally, use gene ontology (GO) enrichment analysis to characterize the genes that were differentially expressed in Chow vs. HFD. We recommend you use [PANTHER](http://www.pantherdb.org/) or [DAVID](https://david.ncifcrf.gov/tools.jsp), which are web tools, for doing this. However you are welcome to try out other GO analysis tools instead. You can find a helpful tutorial on DAVID here: https://david.ncifcrf.gov/helps/tutorial.pdf. \n",
    "\n",
    "For enrichment analysis, you will need to define our \"foreground\" and \"background\". Here:\n",
    "\n",
    "* \"Background\" consists of all genes that we analyzed (i.e., all genes with any output in the DESeq2 csv file).\n",
    "* \"Foreground\" consists of all genes that were differentially expressed (padj<0.05). You should create separate foreground sets for up- and down-regulated genes. Recall up-regulated genes will have log2 fold change > 0, and down-regulated genes will have log2 fold change < 0.\n",
    "\n",
    "You can upload lists of genes to use as foreground or background. In our solution, we uploaded lists of the gene IDs (ENSG...) to DAVID. Then DAVID will perform GO enrichment analysis for you.\n",
    "\n",
    "**Perform GO enrichment by comparing your differentially expressed genes (adjusted p<0.05) to all genes analyzed. You should perform a separate analaysis for down-regulated (log2 fold change <0) and up-regulated (log2fold change>0) genes.**\n",
    "\n",
    "<font color=\"red\">**Question 6 (10 pts)**</font> Describe any methods for how you performed gene ontology enrichment analysis. Which tool did you use? How did you define your foreground and background? Were there any extra options you had to set? Justify what you used for each of those."
   ]
  },
  {
   "cell_type": "markdown",
   "metadata": {
    "deletable": false,
    "nbgrader": {
     "cell_type": "markdown",
     "checksum": "0f97b2fcbe9e47d0fd169a2e2c87b20e",
     "grade": true,
     "grade_id": "answer-q6",
     "locked": false,
     "points": 10,
     "schema_version": 3,
     "solution": true,
     "task": false
    }
   },
   "source": [
    "YOUR ANSWER HERE\n",
    "\n",
    "To conduct gene ontology enrichment analysis, I took advantage of the DAVID web tool. I first created a list of up/down-regulated genes by using Python to filter the DESEQ2 outputfile the data to include only genes with a log2 fold change less/great than 0 and a p-value less than 0.05. I also repeated the same process to create the background but included all gene_ids and did not filter by log2 fold change. I then saved the gene_id's into 3 text files and opened these in DAVID.The same procedure was followed for genes with a log2 fold change greater than 0 (up-regulated). These two gene sets were used as the foreground in DAVID. I also did the same for the background gene-ids. Since Mus Musculus had the highest number of matches with the background, it was chosen as the target species."
   ]
  },
  {
   "cell_type": "markdown",
   "metadata": {
    "deletable": false,
    "editable": false,
    "nbgrader": {
     "cell_type": "markdown",
     "checksum": "c9edad4c9ff76cfe16c5dbf7ab4e4f7c",
     "grade": false,
     "grade_id": "text-q7",
     "locked": true,
     "schema_version": 3,
     "solution": false,
     "task": false
    }
   },
   "source": [
    "<font color=\"red\">**Question 7 (5 pts)**</font> Were any gene ontology categories enriched in differentially expressed genes? For each enriched category, provide at least the name of the category and its enrichment p-value."
   ]
  },
  {
   "cell_type": "markdown",
   "metadata": {
    "deletable": false,
    "nbgrader": {
     "cell_type": "markdown",
     "checksum": "7bc1b3ebdb0d09a2a0afcb17f75197e4",
     "grade": true,
     "grade_id": "answer-q7",
     "locked": false,
     "points": 5,
     "schema_version": 3,
     "solution": true,
     "task": false
    }
   },
   "source": [
    "YOUR ANSWER HERE\n",
    "\n",
    "For the up-regulated genes, the majority of the highly enriched categories are part of or tangential to metabolic processes, more specifically lipid biosynthesis.\n",
    "\n",
    "Top 5 enriched terms & p-values:\n",
    "\n",
    "| Term | p-value |\n",
    "|------|---------|\n",
    "| Lipid biosynthesis | 1.2e-20 |\n",
    "| Cholesterol biosynthetic process | 6.1e-18 |\n",
    "| Sterol biosynthetic process | 2.4e-16 |\n",
    "| Lipid metabolic process | 8.2e-16 |\n",
    "| Cholesterol metabolic process | 1.4e-15 |\n",
    "\n",
    "However, for the down-regulated genes, I wasn't able to see one main cluster. But of the main terms, they include processes such as protein binding and general metabolism, as well as DNA repair.\n",
    "\n",
    "Top 5 enriched terms & p-values:\n",
    "\n",
    "| Term | p-value |\n",
    "|------|---------|\n",
    "| Chemical carcinogenesis - DNA adducts | 8.4e-25 |\n",
    "| Retinol metabolism | 1.1e-24|\n",
    "| Microsome | 2.4e-20 |\n",
    "| Cyt_P450_CS | 1.0e-17 |\n",
    "| Cyt_P450_sf | 1.0e-17|"
   ]
  },
  {
   "cell_type": "markdown",
   "metadata": {
    "deletable": false,
    "editable": false,
    "nbgrader": {
     "cell_type": "markdown",
     "checksum": "0fecb3f7fac8bd9db1632ae78246c7e8",
     "grade": false,
     "grade_id": "text-part5",
     "locked": true,
     "schema_version": 3,
     "solution": false,
     "task": false
    }
   },
   "source": [
    "## 4. Discussion questions\n",
    "\n",
    "Answer the following discussion questions below:\n",
    "\n",
    "<font color=\"red\">**Question 8 (5 pts)**</font> Summarize the characteristics of genes that are up- and down-regulated in HFD compared to Chow fed mice. Do the GO categories enriched in those gene sets make sense? Do a little exploring of the top differentially expressed genes to find out what they might be doing."
   ]
  },
  {
   "cell_type": "markdown",
   "metadata": {
    "deletable": false,
    "nbgrader": {
     "cell_type": "markdown",
     "checksum": "3c00cc93692842e2c00e84f0c50e9a59",
     "grade": true,
     "grade_id": "answer-q8",
     "locked": false,
     "points": 5,
     "schema_version": 3,
     "solution": true,
     "task": false
    }
   },
   "source": [
    "YOUR ANSWER HERE\n",
    "\n",
    "In the HFD group, the upregulated genes were highly correlated to metabolism and lipid synthesis, which were the main enriched GO terms. This also aligns with the expectation as HFD mice were fed a high fat diet, when compared to the Chow fed mice. So we can assume that the HFD mice are going to express genes that would help them process lipids better, such as lipid synthesis and cholesterol metabolic processes."
   ]
  },
  {
   "cell_type": "markdown",
   "metadata": {
    "deletable": false,
    "editable": false,
    "nbgrader": {
     "cell_type": "markdown",
     "checksum": "937f2dd6a2090cf407c5c8020d92a7ac",
     "grade": false,
     "grade_id": "text-q9",
     "locked": true,
     "schema_version": 3,
     "solution": false,
     "task": false
    }
   },
   "source": [
    "<font color=\"red\">**Question 9 (5 pts)**</font> You'll likely notice from your volcano plot that there are many genes with very high fold changes (e.g. log2 fold change > 6) but that are not called as significant. Hypothesize why. it could be helpful to dig in and look at the raw data (e.g. expression levels from RSEM) for some of those genes."
   ]
  },
  {
   "cell_type": "markdown",
   "metadata": {
    "deletable": false,
    "nbgrader": {
     "cell_type": "markdown",
     "checksum": "4322128388832fd017468c5d9f3360e0",
     "grade": true,
     "grade_id": "answer-q9",
     "locked": false,
     "points": 5,
     "schema_version": 3,
     "solution": true,
     "task": false
    }
   },
   "source": [
    "YOUR ANSWER HERE\n",
    "\n",
    "First, it could be due to low expression levels as genes with very low expression levels across all samples may exhibit high fold changes due to random fluctuations or noise in the data. If a gene has extremely low counts (< 10 reads) in both conditions, even a small difference in counts can result in a high fold change. However, this is something that we have filtered out in our code to remove reads with low counts. Another potential reason is that if the expression levels of a gene are highly variable within each group (Chow & HFD), it can lead to a high fold change which aren't considered significant statisitcally. The statistical tests used in DESeq2, take into account the variability within groups when determining significance. If the variability is high, it becomes more challenging to confidently identify differentially expressed genes. Lastly, if the number of replicates is small, it can limit the ability to detect significant differences, even for genes with high fold changes."
   ]
  },
  {
   "cell_type": "markdown",
   "metadata": {
    "deletable": false,
    "editable": false,
    "nbgrader": {
     "cell_type": "markdown",
     "checksum": "be03d0443a34e4dbae309045ccc72455",
     "grade": false,
     "grade_id": "text-q10",
     "locked": true,
     "schema_version": 3,
     "solution": false,
     "task": false
    }
   },
   "source": [
    "<font color=\"red\">**Question 10 (5 pts)**</font> Multiple factors contribute to our statistical power to detect differentially expressed genes. (Power is the probability that we reject the null hypothesis, given that there is really an effect). How might our power be affected by the number of replicates? (here we had 3 replicates each). What about gene length?"
   ]
  },
  {
   "cell_type": "markdown",
   "metadata": {
    "deletable": false,
    "nbgrader": {
     "cell_type": "markdown",
     "checksum": "a7ac10f7cc9a36e4829430ece31a74be",
     "grade": true,
     "grade_id": "answer-q10",
     "locked": false,
     "points": 5,
     "schema_version": 3,
     "solution": true,
     "task": false
    }
   },
   "source": [
    "YOUR ANSWER HERE\n",
    "\n",
    "In the context of this data, with three replicates each, the statistical power is probably limited compared to studies with a larger number of replicates. Three replicates provide some ability to estimate variability within groups, but increasing the number of replicates would enhance the power to detect differentially expressed genes, particularly for genes with smaller effect sizes or lower expression levels.\n",
    "As for gene length, it is important to consider its impact when interpreting differential expression results. Genes with shorter lengths may have lower read counts, which would lead to lower statistical power."
   ]
  },
  {
   "cell_type": "markdown",
   "metadata": {
    "deletable": false,
    "editable": false,
    "nbgrader": {
     "cell_type": "markdown",
     "checksum": "b42d64f37b0b18f279ae503906a4071b",
     "grade": false,
     "grade_id": "igv-viz",
     "locked": true,
     "schema_version": 3,
     "solution": false,
     "task": false
    }
   },
   "source": [
    "## Optional: Visualizing alignments in IGV\n",
    "\n",
    "It is a good practice to visualize our alignments, both to see that the alignment worked well, and also to see whether things we report as differentially expressed make sense. We'll use a genome browser called the Integrative Genomics Viewer, or IGV. In the process, we'll also see how to access data published with the original paper.\n",
    "\n",
    "Navigate to the web version of IGV: https://igv.org/app/ (or alternatively, download the desktop version which we actually prefer to use). Set the genome to (mm9), since according to the paper they had aligned reads to the mm9 reference genome (see page 11, \"Analysis of RNA, ChIP and DNase sequencing\"). Note, in our lab we aligned the data to the newer mm10/GRCm38 reference.\n",
    "\n",
    "Take a moment to orient yourself with IGV. It is basically like a Google Maps for genomes! The top gives the names of each chromosome. The bottom track, labeled \"Refseq genes\" gives the names and coordinates for all annotated genes. Let's choose one to look at. Type \"Fads2\" in the search box at the top. This will zoom the view in on this gene. Notice how in the gene you can see the exon and intron structure. The little arrows in the introns point to the left, which means this gene is on the reverse strand of the reference. Take a look at another gene (e.g. Fads3) to see a gene on the forward strand. Zoom in further (using the \"+\" at the top right) until you can see actual DNA sequence at the top.\n",
    "\n",
    "Now we'd like to load our sequence alignments. While IGV can directly visualize BAM files, we'll instead look at \"counts\" files (\".bedgraph\" format. see http://genome.ucsc.edu/goldenPath/help/bedgraph.html) which are much smaller. These give read counts per position (i.e. coverage) which can give us an idea of the abundance of each gene. \n",
    "\n",
    "The authors of the paper have already provided data in bedgraph format. Head to the paper where we got the data: [High fat diet-induced changes of mouse hepatic transcription and enhancer activity can be reversed by subsequent weight loss *Scientific Reports* 2017](https://www.nature.com/articles/srep40220.pdf). On page 12, you'll see a section \"Additional Information\" which contains information about where to access the raw data. If a paper generates new sequencing or other data types, they are usually required to make this information available. It will often be in a section labeled \"Data availability\" or something similar. We used the polyA RNA-seq, which you should find has been deposited in the Gene Expression Omnibus under accession GSE87565.\n",
    "\n",
    "Go to the [Gene Expression Omnibus](https://www.ncbi.nlm.nih.gov/geo/) and search using the accession GSE87565. Scroll all the way to the bottom to find a section labeled \"Supplementary file\". If you click \"custom\" under the \"Download\" column of that table, you'll be able to select individual datasets to download. Check the boxes for:\n",
    "\n",
    "* GSM2333833_SM1959_RNA_Chow_rep1.bedgraph.gz\n",
    "* GSM2333834_SM1960_RNA_Chow_rep2.bedgraph.gz\n",
    "* GSM2333835_SM1961_RNA_Chow_rep3.bedgraph.gz\n",
    "* GSM2333839_SM1965_RNA_HFD_rep1.bedgraph.gz\n",
    "* GSM2333840_SM1966_RNA_HFD_rep2.bedgraph.gz\n",
    "* GSM2333841_SM1967_RNA_HFD_rep3.bedgraph.gz\n",
    "\n",
    "After checking those, click \"Download\" to download to your local computer. Once the downloaded is complete, decompress the .tar file (it will be named something like `GSE87565_RAW.tar`.\n",
    "\n",
    "Now, go back to IGV in your web browser. Click \"Tracks\" -> \"Local File\", then navigate to the bedgraph.gz files you had downloaded in order to upload them to IGV.\n",
    "\n",
    "Navigate again to Fads2 (This should be one of your differentially expressed genes!). Note that the RNA-seq tracks have very \"spiky\" coverage. Some regions have tons of reads and others are flat. Note how that compares to the structure of the gene annotated on the bottom. As expected, the \"spikes\" correspond to reads from exons, since intron and intergenic sequences generally aren't sequenced in our RNA-seq experiment.\n",
    "\n",
    "Take note of the y-axis range for each dataset (after you initially load them, it should range from 0 to a couple hundred for this gene). To make the tracks more comparable, you can set them all to have the same data range by using the \"settings\" icon to the left of each track and clicking \"set data range\". Try setting them all to 500. (the appropriate range will be different for different genes, since genes are really highly expressed whereas others are very lowly expressed. See the huge range on your scatterplot!) You should see that the gene is much more highly expressed in the HFD samples.\n",
    "\n",
    "It is also helpful to color tracks. For instance, you can color tracks by condition (see options in settings to the right of each track). Navigate to different differentially expressed genes and see if the data matches up with your results from DESeq2.\n",
    "\n",
    "<font color=\"red\">Note: the bedgraph files from GEO look a little weird (the coverage peaks are too wide), which may be the result of an extension step being applied. We also provided tdfs ([here](https://drive.google.com/drive/folders/1L0uu5QSVgU3LSxybX50bDhGuv_vU2vTH?usp=sharing)) that we created from the aligned BAM files after we ran STAR. You can also visualize these using IGV, just be sure to change to the mm10 genome. Visualizations in the slides are based on these tdfs.</font>\n",
    "\n",
    "We will continue using IGV to explore ChIP-seq datasets next week."
   ]
  },
  {
   "cell_type": "code",
   "execution_count": null,
   "metadata": {},
   "outputs": [],
   "source": []
  }
 ],
 "metadata": {
  "kernelspec": {
   "display_name": "Python 3 (ipykernel)",
   "language": "python",
   "name": "python3"
  },
  "language_info": {
   "codemirror_mode": {
    "name": "ipython",
    "version": 3
   },
   "file_extension": ".py",
   "mimetype": "text/x-python",
   "name": "python",
   "nbconvert_exporter": "python",
   "pygments_lexer": "ipython3",
   "version": "3.9.5"
  }
 },
 "nbformat": 4,
 "nbformat_minor": 2
}
