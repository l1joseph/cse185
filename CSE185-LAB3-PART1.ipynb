{
 "cells": [
  {
   "cell_type": "markdown",
   "metadata": {
    "deletable": false,
    "editable": false,
    "nbgrader": {
     "cell_type": "markdown",
     "checksum": "82fb1db2866270453575913ecb8f60bb",
     "grade": false,
     "grade_id": "lab3-intro",
     "locked": true,
     "schema_version": 3,
     "solution": false,
     "task": false
    }
   },
   "source": [
    "# Lab 3: Population genetics and GWAS\n",
    "\n",
    "\n",
    "## Part 1 (40 pts)\n",
    "\n",
    "Skills covered: genotype data, principal components analysis, ancestry analysis\n",
    "\n",
    "Your friend is interested in learning more about her family history, and so sends a saliva sample off to 23andMe for genotyping. You receive a set of SNP genotypes back, and would like to use those to predict the ancestry of your friend.\n",
    "\n",
    "We can get some insights into the ancestry of an unknown genome sample by comparing it to SNP genotypes of a *reference panel* of samples for which we know their ancestry. We can think of this as a clustering problem: if I cluster a genome with genomes from across the globe, what cluster does it fall in?\n",
    "\n",
    "Clustering by SNP genotypes turns into a high-dimensional problem, because we can be dealing with millions of SNPs and thousands or more individuals. Principal components analysis (PCA) is a widely used method for helping make sense out of big multi-dimensional datasets like this one. We'll use PCA to see where our example genome falls relative to a panel of several thousand reference control samples, originally sequenced by the [1000 Genomes Project](http://www.internationalgenome.org/).\n",
    "\n",
    "In Part 1, we'll first gain some intuition about principal component analysis (PCA) and then spend some time getting more familiar with population genetics datasets (mainly VCF files), analysis tools (`bcftools`), and terminology. Then we'll perform ancestry analysis using PCA. In Part 2, we'll use a subset of samples from the 1000 Genomes Project to peform a genome-wide association study for LDL cholesterol.\n",
    "\n",
    "**<font color=\"red\">Note</a>**: you will not be responsible for knowing any of the math behind PCA, but you should instead try to get an intuition for what PCA is doing. We will also post some extra slides with more details for anyone that is interested.\n",
    "\n",
    "**<font color=\"red\">Note</a>**: In parts of this lab we'll be using the [Python pandas](https://pandas.pydata.org/) library, which is very useful for analyzing anything where you have tables of data. While most of the pandas code is provided for you, it is a good idea to become comfortable using this library."
   ]
  },
  {
   "cell_type": "markdown",
   "metadata": {
    "deletable": false,
    "editable": false,
    "nbgrader": {
     "cell_type": "markdown",
     "checksum": "3623cf4e2dba5c06c066feaff36ec229",
     "grade": false,
     "grade_id": "lab3-part1-text",
     "locked": true,
     "schema_version": 3,
     "solution": false
    }
   },
   "source": [
    "## 1. Intro to PCA\n",
    "\n",
    "<font color=\"red\">This section is completely for data exploration. There are no points associated with this section.</font>\n",
    "\n",
    "PCA is a commonly used method to reduce the \"dimensionality\" of a dataset. This comes up in a wide range of bioinformatics applications:\n",
    "\n",
    "* Preprocessing step to filter out outlier samples\n",
    "* Data exploration\n",
    "* Determining ancestry of an individual (the topic of part 1 of the lab!)\n",
    "* Clustering tumor samples based on expression profiles\n",
    "\n",
    "This first section gives some intuition for how PCA works.\n",
    "\n",
    "Biology is full of \"high-dimensional\" data. In our population genetics applications this week, our \"dimensions\" are the genetic variants (SNPs). For most population genetics applications, we may have several million SNP genotypes per sample. In gene expression applications (next week), our \"dimensions\" might be genes. In both cases, the goal of PCA is to find a reduced representation by finding linear combinations of dimensions (in our example, SNPs) that explain the majority of variation in our data.\n",
    "\n",
    "Let's start by walking through a simple example: you do a survey of your classmates to record their height and weight. The cell below generates this dataset for you and puts it into a pandas data frame (this is simulated data, but pretend we collected it!)"
   ]
  },
  {
   "cell_type": "code",
   "execution_count": 1,
   "metadata": {
    "deletable": false,
    "editable": false,
    "nbgrader": {
     "cell_type": "code",
     "checksum": "4b5c2ac1324ba5acdf91d16fce542adf",
     "grade": false,
     "grade_id": "pca-ex-1",
     "locked": true,
     "schema_version": 3,
     "solution": false
    }
   },
   "outputs": [
    {
     "name": "stdout",
     "output_type": "stream",
     "text": [
      "Populating the interactive namespace from numpy and matplotlib\n"
     ]
    },
    {
     "data": {
      "text/html": [
       "<div>\n",
       "<style scoped>\n",
       "    .dataframe tbody tr th:only-of-type {\n",
       "        vertical-align: middle;\n",
       "    }\n",
       "\n",
       "    .dataframe tbody tr th {\n",
       "        vertical-align: top;\n",
       "    }\n",
       "\n",
       "    .dataframe thead th {\n",
       "        text-align: right;\n",
       "    }\n",
       "</style>\n",
       "<table border=\"1\" class=\"dataframe\">\n",
       "  <thead>\n",
       "    <tr style=\"text-align: right;\">\n",
       "      <th></th>\n",
       "      <th>height</th>\n",
       "      <th>weight</th>\n",
       "    </tr>\n",
       "  </thead>\n",
       "  <tbody>\n",
       "    <tr>\n",
       "      <th>0</th>\n",
       "      <td>64.374698</td>\n",
       "      <td>119.829936</td>\n",
       "    </tr>\n",
       "    <tr>\n",
       "      <th>1</th>\n",
       "      <td>65.960695</td>\n",
       "      <td>120.590901</td>\n",
       "    </tr>\n",
       "    <tr>\n",
       "      <th>2</th>\n",
       "      <td>64.401457</td>\n",
       "      <td>119.597407</td>\n",
       "    </tr>\n",
       "    <tr>\n",
       "      <th>3</th>\n",
       "      <td>62.771941</td>\n",
       "      <td>119.467423</td>\n",
       "    </tr>\n",
       "    <tr>\n",
       "      <th>4</th>\n",
       "      <td>64.538570</td>\n",
       "      <td>119.501133</td>\n",
       "    </tr>\n",
       "  </tbody>\n",
       "</table>\n",
       "</div>"
      ],
      "text/plain": [
       "      height      weight\n",
       "0  64.374698  119.829936\n",
       "1  65.960695  120.590901\n",
       "2  64.401457  119.597407\n",
       "3  62.771941  119.467423\n",
       "4  64.538570  119.501133"
      ]
     },
     "execution_count": 1,
     "metadata": {},
     "output_type": "execute_result"
    }
   ],
   "source": [
    "%pylab inline\n",
    "# Simulate some random \"weight\" vs. \"height\" data.\n",
    "import numpy as np\n",
    "import pandas as pd\n",
    "\n",
    "rng = np.random.RandomState(1)\n",
    "X = np.dot(rng.rand(2, 2), rng.randn(2, 200)).T\n",
    "\n",
    "height = X[:,0]+65\n",
    "weight = X[:,1]+120\n",
    "\n",
    "data = pd.DataFrame({\"height\": height, \"weight\": weight})\n",
    "\n",
    "# You can use `data.head()` to see the columns of the data frame.\n",
    "# Recall `data[\"height\"]` and `data[\"weight\"]` will access those two columns:\n",
    "data.head()"
   ]
  },
  {
   "cell_type": "markdown",
   "metadata": {
    "deletable": false,
    "editable": false,
    "nbgrader": {
     "cell_type": "markdown",
     "checksum": "dc29e73499302ad94579fd0f04bcef36",
     "grade": false,
     "grade_id": "pca-ex-2",
     "locked": true,
     "schema_version": 3,
     "solution": false
    }
   },
   "source": [
    "Now let's create a scatter plot of this data:"
   ]
  },
  {
   "cell_type": "code",
   "execution_count": 2,
   "metadata": {
    "deletable": false,
    "editable": false,
    "nbgrader": {
     "cell_type": "code",
     "checksum": "2ea9a38c4d7344890210d08d7930e450",
     "grade": false,
     "grade_id": "pca-ex-3",
     "locked": true,
     "schema_version": 3,
     "solution": false
    }
   },
   "outputs": [
    {
     "data": {
      "image/png": "[encoded data removed]",
      "text/plain": [
       "<Figure size 432x288 with 1 Axes>"
      ]
     },
     "metadata": {
      "needs_background": "light"
     },
     "output_type": "display_data"
    }
   ],
   "source": [
    "fig = plt.figure()\n",
    "ax = fig.add_subplot(111)\n",
    "ax.scatter(data[\"height\"], data[\"weight\"]);\n",
    "ax.set_xlabel(\"Height\")\n",
    "ax.set_ylabel(\"Weight\");"
   ]
  },
  {
   "cell_type": "markdown",
   "metadata": {
    "deletable": false,
    "editable": false,
    "nbgrader": {
     "cell_type": "markdown",
     "checksum": "dab6417df7838926f8221a069d075ec3",
     "grade": false,
     "grade_id": "pca-ex-4",
     "locked": true,
     "schema_version": 3,
     "solution": false
    }
   },
   "source": [
    "If you had to draw one single line explaining most of the variation in your sample, where would you draw it? What about a line that explains the second most amount of variation?\n",
    "\n",
    "You might guess that a diagonal line explains most of the variation, and the second largest axis of variation would be orthogonal to the diagonal line.\n",
    "\n",
    "These lines, or \"axes\" are exactly what PCA tries to find: linear combinations of features in our data that explain as much variation as possible. Let's actually perform PCA on our data to check our answer."
   ]
  },
  {
   "cell_type": "code",
   "execution_count": 3,
   "metadata": {
    "deletable": false,
    "editable": false,
    "nbgrader": {
     "cell_type": "code",
     "checksum": "0a21f6c4e0910dbff4e8c058076e5a48",
     "grade": false,
     "grade_id": "pca-ex5",
     "locked": true,
     "schema_version": 3,
     "solution": false,
     "task": false
    }
   },
   "outputs": [
    {
     "name": "stdout",
     "output_type": "stream",
     "text": [
      "PC 1 - magnitude: 0.7625315008826105\n",
      "PC 1: [-0.94446029 -0.32862557]\n",
      "PC 2 - magnitude: 0.01847789551356239\n",
      "PC 2: [-0.32862557  0.94446029]\n"
     ]
    }
   ],
   "source": [
    "import sklearn.decomposition\n",
    "pca = sklearn.decomposition.PCA()\n",
    "pca.fit(data[[\"height\",\"weight\"]])\n",
    "\n",
    "pc_magnitudes = pca.explained_variance_\n",
    "pcs = pca.components_\n",
    "print(\"PC 1 - magnitude: %s\"%pc_magnitudes[0])\n",
    "print(\"PC 1: %s\"%pcs[0])\n",
    "print(\"PC 2 - magnitude: %s\"%pc_magnitudes[1])\n",
    "print(\"PC 2: %s\"%pcs[1])"
   ]
  },
  {
   "cell_type": "markdown",
   "metadata": {
    "deletable": false,
    "editable": false,
    "nbgrader": {
     "cell_type": "markdown",
     "checksum": "2d34058acf60a710964d0173d7dad75d",
     "grade": false,
     "grade_id": "pca-ex-6",
     "locked": true,
     "schema_version": 3,
     "solution": false,
     "task": false
    }
   },
   "source": [
    "The **principal components** give us the principal *directions* of variation in our data.\n",
    "\n",
    "The **magnitudes** give us a relative indication of how much variation is explained by each direction (eigenvector).\n",
    "\n",
    "We can plot vectors for the principal components (PCs) on our original dataset, and scale them by the their relative magnitudes to see their relative contribution of each PC. Do the directions and magnitude match what you predicted? Do both PCs explain about equal amounts of variation in our data, or is one dominant?"
   ]
  },
  {
   "cell_type": "code",
   "execution_count": 4,
   "metadata": {
    "deletable": false,
    "editable": false,
    "nbgrader": {
     "cell_type": "code",
     "checksum": "6536b1151ba0f7e064d86a84dccbdd37",
     "grade": false,
     "grade_id": "pca-ex-7",
     "locked": true,
     "schema_version": 3,
     "solution": false,
     "task": false
    }
   },
   "outputs": [
    {
     "data": {
      "image/png": "[encoded data removed]",
      "text/plain": [
       "<Figure size 432x288 with 1 Axes>"
      ]
     },
     "metadata": {
      "needs_background": "light"
     },
     "output_type": "display_data"
    }
   ],
   "source": [
    "\"\"\"\n",
    "Draw a an arrow from point1 to point2.\n",
    "Takes an input a matplotlib ax object so\n",
    "you can add to an existing plot\n",
    "\"\"\"\n",
    "def DrawArrow(point1, point2, ax=None):\n",
    "    ax = ax or plt.gca()\n",
    "    arrowprops=dict(arrowstyle='->',\n",
    "                    linewidth=2,\n",
    "                    shrinkA=0, shrinkB=0)\n",
    "    ax.annotate('', point2, point1, arrowprops=arrowprops)\n",
    "\n",
    "# Make arrows start at the mean of each dimension\n",
    "mean_vals = [np.mean(data[\"height\"]), np.mean(data[\"weight\"])]\n",
    "point1 = mean_vals\n",
    "\n",
    "# Draw one earrow for pc1, and pc2, corresponding to the direction (eigvector) of each PC\n",
    "# Scale each arrow relatively based on eigenvalues\n",
    "pc1_point2 = mean_vals+pcs[0]*np.sqrt(pc_magnitudes[0])\n",
    "pc2_point2 = mean_vals+pcs[1]*np.sqrt(pc_magnitudes[1])\n",
    "fig = plt.figure()\n",
    "ax = fig.add_subplot(111)\n",
    "ax.scatter(data[\"height\"], data[\"weight\"], alpha=0.5);\n",
    "DrawArrow(point1, pc1_point2, ax=ax)\n",
    "DrawArrow(point1, pc2_point2, ax=ax)\n",
    "ax.set_xlabel(\"Height\")\n",
    "ax.set_ylabel(\"Weight\");"
   ]
  },
  {
   "cell_type": "markdown",
   "metadata": {
    "deletable": false,
    "editable": false,
    "nbgrader": {
     "cell_type": "markdown",
     "checksum": "5ddd6fe5d482bf6681fa90a4b4373c28",
     "grade": false,
     "grade_id": "pca-ex-8",
     "locked": true,
     "schema_version": 3,
     "solution": false
    }
   },
   "source": [
    "Now that we have the PCs, we can visualize our data in PC space by \"projecting\" each point onto the top 2 PCs.  \n",
    "\n",
    "Below shows how to do this using the `fit_transform` method of `sklearn`.\n",
    "\n",
    "Note, here we only had 2 dimensions to begin with, so the top two PCs explain all of the variation in our data. So our plot should basically look like a random cloud of data. In future examples with many more dimensions, plotting the highest PCs of our data will help visualize clusters of related samples (see below)."
   ]
  },
  {
   "cell_type": "code",
   "execution_count": 5,
   "metadata": {
    "deletable": false,
    "editable": false,
    "nbgrader": {
     "cell_type": "code",
     "checksum": "d5b2925c66bbcfb1ff49003ba35d89a4",
     "grade": false,
     "grade_id": "pca-ex-9",
     "locked": true,
     "schema_version": 3,
     "solution": false
    }
   },
   "outputs": [
    {
     "data": {
      "image/png": "[encoded data removed]",
      "text/plain": [
       "<Figure size 432x288 with 1 Axes>"
      ]
     },
     "metadata": {
      "needs_background": "light"
     },
     "output_type": "display_data"
    }
   ],
   "source": [
    "# Project data onto top PCs:\n",
    "\n",
    "# Using sklearn transform method\n",
    "data_transformed_sklearn = pca.transform(data[[\"height\",\"weight\"]])\n",
    "\n",
    "# Compare\n",
    "fig = plt.figure()\n",
    "ax = fig.add_subplot(111)\n",
    "ax.scatter(data_transformed_sklearn[:,0], data_transformed_sklearn[:,1])\n",
    "ax.set_xlabel(\"PC1\")\n",
    "ax.set_ylabel(\"PC2\");"
   ]
  },
  {
   "cell_type": "markdown",
   "metadata": {
    "deletable": false,
    "editable": false,
    "nbgrader": {
     "cell_type": "markdown",
     "checksum": "3e58a6093466cfa27a8a79b9b6e0e346",
     "grade": false,
     "grade_id": "text-part2-1",
     "locked": true,
     "schema_version": 3,
     "solution": false
    }
   },
   "source": [
    "## 2. VCFs and command line fun\n",
    "\n",
    "Now that you have a feel for what PCA is doing, let's apply it to our human genetics dataset. You have performed SNP genotyping on a cohort of individuals consisting of diverse ancestral backgrounds (including African, European, East Asian, and Native American) to use as a reference panel for ancestry analysis. \n",
    "\n",
    "First, let's take a look at the data files we have collected in the `lab3` directory:\n",
    "\n",
    "```shell\n",
    "ls -ltrh ~/public/lab3/\n",
    "```\n",
    "\n",
    "You should see:\n",
    "* `gtdata_1000Genomes.vcf.gz` (1.7G): A VCF file with SNP genotypes for our cohort\n",
    "* `gtdata_1000Genomes.vcf.gz.tbi` (308K): The VCF index file\n",
    "* `gtdata_sample_labels.csv`: gives a population label for each of our samples. See  http://www.internationalgenome.org/category/population/ for a description of the codes.\n",
    "\n",
    "We'll also be using these files in the next sections:\n",
    "* `friend_genome.vcf.gz` (8.9M): A VCF file with the friend genome (and it's `.tbi` index). (This is actually Melissa's genome, downloaded directly from 23andMe)\n",
    "* `pruned_snps_hg19.bed.gz` (5.3M): A gzipped list of SNP locations we'll be using for PCA (more on this below).\n",
    "\n",
    "Other files will be used in part 2 (ignore for now).\n",
    "\n",
    "It's always a good idea to first do some basic sanity checks and exploration of our data. We'll first review some UNIX commands to get some summary statistics. Later we'll learn how to use `bcftools` to conveniently manipulate VCF files. If you need a refresher on VCF format, remember to look back at the [VCF spec](https://samtools.github.io/hts-specs/VCFv4.2.pdf) as a guide.\n",
    "\n",
    "Take a look at the top of the VCF file. Since this zipped, you won't be able to use things like `cat` or `head` directly on the file. But you can use the command `zcat` which is like cat but for zipped files.\n",
    "\n",
    "**Question 1 (2 pts)**: Looking at the header of the VCF file, what was the reference genome assembly version used to call these variants? \n",
    "\n",
    "Set `q1_ref` to the assembly version. You can find this in the header line starting with `##reference`, which points to a file named `<refassemblyname>.fa`.\n",
    "\n",
    "Set `q1_ref_cmd` to the command you used to look at the file.\n",
    "\n",
    "By the way, note this reference is slightly different than hg19, which included \"chr1\", \"chr2\", etc. This reference uses \"1\", \"2\", etc. (without the \"chr\") but the positions are otherwise mostly equivalent to hg19."
   ]
  },
  {
   "cell_type": "code",
   "execution_count": 6,
   "metadata": {
    "deletable": false,
    "nbgrader": {
     "cell_type": "code",
     "checksum": "e42620a527ed62b697231c38bd7d05fe",
     "grade": false,
     "grade_id": "q1-ans",
     "locked": false,
     "schema_version": 3,
     "solution": true,
     "task": false
    }
   },
   "outputs": [],
   "source": [
    "\"\"\" Question 1 answers \"\"\"\n",
    "\n",
    "# set to the reference assembly. e.g. if the fasta hg19.fa was used, q1_ref would be set to \"hg19\"\n",
    "q1_ref = \"\"\n",
    "\n",
    "q1_ref_cmd = \"\"\"\n",
    "Set this to the command you used to look at the VCF file\n",
    "\"\"\"\n",
    "\n",
    "# your code here\n",
    "q1_ref = \"hs37d5\"\n",
    "q1_ref_cmd = \"zcat ~/public/lab3/gtdata_1000Genomes.vcf.gz | head -n 5\"\n",
    "# raise NotImplementedError"
   ]
  },
  {
   "cell_type": "code",
   "execution_count": 7,
   "metadata": {
    "deletable": false,
    "editable": false,
    "nbgrader": {
     "cell_type": "code",
     "checksum": "2097964b8d24f2b7e8cb8e0f09019540",
     "grade": true,
     "grade_id": "q1-check-1",
     "locked": true,
     "points": 1,
     "schema_version": 3,
     "solution": false,
     "task": false
    }
   },
   "outputs": [],
   "source": [
    "\"\"\" Autograder tests - Q1 \"\"\"\n",
    "\n",
    "#### Check q1_ans ####\n",
    "assert(\"/\" not in q1_ref)\n",
    "assert(q1_ref.startswith(\"hs\"))\n",
    "assert(q1_ref.endswith(\"d5\"))\n",
    "assert(len(q1_ref.strip())==6)\n",
    "\n",
    "# Hidden test checks answer"
   ]
  },
  {
   "cell_type": "code",
   "execution_count": 8,
   "metadata": {
    "deletable": false,
    "editable": false,
    "nbgrader": {
     "cell_type": "code",
     "checksum": "2b3f769a75ce578a2c806c0c653505b7",
     "grade": true,
     "grade_id": "q1-check-2",
     "locked": true,
     "points": 1,
     "schema_version": 3,
     "solution": false,
     "task": false
    }
   },
   "outputs": [],
   "source": [
    "\"\"\" Autograder tests - Q1 \"\"\"\n",
    "\n",
    "#### Check q1_ref_cmd ####\n",
    "assert(\"gtdata_1000Genomes.vcf.gz\" in q1_ref_cmd)"
   ]
  },
  {
   "cell_type": "markdown",
   "metadata": {
    "deletable": false,
    "editable": false,
    "nbgrader": {
     "cell_type": "markdown",
     "checksum": "ec6c8e9d0ca1419dc5ff5f2da831d1a5",
     "grade": false,
     "grade_id": "text-part2-2",
     "locked": true,
     "schema_version": 3,
     "solution": false
    }
   },
   "source": [
    "The `tabix` tool provides multiple utilities for making VCF files faster to parse and summarize. Type `tabix` at the command line to see usage. Frequently used commands:\n",
    "\n",
    "* `tabix -p vcf <myvcf.vcf.gz>` creates an index file `myvcf.vcf.gz.tbi`. This requires your VCF file to be sorted in the first place. Once the index is created, other tools, like `tabix` and `bcftools` can quickly extract important information from VCFs.\n",
    "* `tabix myvcf.vcf.gz chrom:start-end` will extract only variants (records) from the given genomic region. This can be very useful when you have a huge VCF file and grepping would take forever. This requires the VCF to be indexed.\n",
    "\n",
    "**Question 2 (3 pts)**: We actually only chose a couple chromosomes to analyze in order to save run time and space (this will be suffficient for our PCA analysis). Set `q2_chroms` to a list of the names of the chromosomes included in this file.\n",
    "\n",
    "You could answer this with a combination of UNIX commands. There is also a much faster way to do this using `tabix` (see the `tabix` help message)."
   ]
  },
  {
   "cell_type": "code",
   "execution_count": 14,
   "metadata": {
    "deletable": false,
    "nbgrader": {
     "cell_type": "code",
     "checksum": "67377db33b672269614198d16161dcd8",
     "grade": false,
     "grade_id": "q2-ans",
     "locked": false,
     "schema_version": 3,
     "solution": true,
     "task": false
    }
   },
   "outputs": [],
   "source": [
    "\"\"\" Question 2 answers \"\"\"\n",
    "\n",
    "q2_chroms = [] # set to a list of the chromosomes present in gtdata_1000Genomes.vcf.gz\n",
    "\n",
    "# your code here\n",
    "q2_chroms = [2, 15]\n",
    "# raise NotImplementedError"
   ]
  },
  {
   "cell_type": "code",
   "execution_count": 15,
   "metadata": {
    "deletable": false,
    "editable": false,
    "nbgrader": {
     "cell_type": "code",
     "checksum": "6667b5f1c68544336fe598572969306d",
     "grade": true,
     "grade_id": "q2-check-1",
     "locked": true,
     "points": 1,
     "schema_version": 3,
     "solution": false,
     "task": false
    }
   },
   "outputs": [],
   "source": [
    "\"\"\" Autograder tests - Q2 \"\"\"\n",
    "\n",
    "# Basic checks on q2_chroms\n",
    "assert(len(q2_chroms)==2)\n",
    "\n",
    "for item in q2_chroms:\n",
    "    assert(\"chr\" not in str(item))\n",
    "assert(sum([int(item) for item in q2_chroms])==17)"
   ]
  },
  {
   "cell_type": "code",
   "execution_count": 16,
   "metadata": {
    "deletable": false,
    "editable": false,
    "nbgrader": {
     "cell_type": "code",
     "checksum": "6d0dbedbf2c387a081efb470ef63be30",
     "grade": true,
     "grade_id": "q2-check-2",
     "locked": true,
     "points": 2,
     "schema_version": 3,
     "solution": false,
     "task": false
    }
   },
   "outputs": [],
   "source": [
    "\"\"\" Autograder tests - Q2 \"\"\"\n",
    "\n",
    "# More checks on q2_chroms\n",
    "assert(2 in q2_chroms or \"2\" in q2_chroms)\n",
    "\n",
    "# Additional hidden tests"
   ]
  },
  {
   "cell_type": "markdown",
   "metadata": {
    "deletable": false,
    "editable": false,
    "nbgrader": {
     "cell_type": "markdown",
     "checksum": "24cabc60b543f7125c2e7b90d979e9b2",
     "grade": false,
     "grade_id": "text-part2-3",
     "locked": true,
     "schema_version": 3,
     "solution": false
    }
   },
   "source": [
    "Scroll down to the first variant entry (2:10179) after the header lines, which all start with a `#`. You might find the command:\n",
    "\n",
    "```shell\n",
    "zcat ~/public/lab3/gtdata_1000Genomes.vcf.gz | less -S \n",
    "```\n",
    "\n",
    "helpful for scrolling. And if you're impatient you can type \"ctrl+v\" to page down very quickly.\n",
    "\n",
    "You'll notice a funny looking string `rs567117114` in the third column (`ID`). This is the \"dbSNP\" identifier for this variant (although this actually happens to be an indel!). dbSNP is a catalog of genetic variation, and is a convenient place to look up things like allele frequencies of a SNP in different populations. For intsance, you can see more info about the first variant here: https://www.ncbi.nlm.nih.gov/snp/rs567117114. In human genetics research, we often talk about \"rsIDs\", which refer to dbSNP identifiers.\n",
    "\n",
    "Use the `tabix` tool to look at data for a specific SNP, rs12913832\n",
    "\n",
    "```shell\n",
    "tabix ~/public/lab3/gtdata_1000Genomes.vcf.gz 15:28365617-28365618 | \\\n",
    "  grep rs12913832 | cut -f 1-9\n",
    "```\n",
    "\n",
    "Note in this command:\n",
    "* `tabix <vcf> <region>` pulls out a specific chromosomal region from a VCF file (rather than having to grep through the whole file which would take a long time.\n",
    "* `grep XXX` searches the resulting lines for a pattern, here the rsid. \n",
    "* `cut -f 1-9` shows us the first 9 columns of that line.\n",
    "\n",
    "**Question 3 (4 pts)**: The SNP [rs12913832](https://www.snpedia.com/index.php/Rs12913832) is strongly associated with blue eye color. According to the our VCF file, what is the alternate allele frequency of this SNP in Europeans? Africans? East Asians? Set the variables q3_EUR, q3_AFR, and q3_EAS to your answers below.\n",
    "\n",
    "Note, you can look at the VCF header to figure out what each of the INFO fields mean."
   ]
  },
  {
   "cell_type": "code",
   "execution_count": 17,
   "metadata": {
    "deletable": false,
    "nbgrader": {
     "cell_type": "code",
     "checksum": "d25ca071946a437f0938ed24cc07d302",
     "grade": false,
     "grade_id": "q3-ans",
     "locked": false,
     "schema_version": 3,
     "solution": true,
     "task": false
    }
   },
   "outputs": [],
   "source": [
    "\"\"\" Question 3 answers \"\"\"\n",
    "\n",
    "# Set the variables below to the alternate allele frequency of this SNP in \n",
    "# the different population groups based on the INFO fields in gtdata_1000Genomes.vcf.gz\n",
    "q3_EUR = -1\n",
    "q3_AFR = -1\n",
    "q3_EAS = -1\n",
    "\n",
    "# your code here\n",
    "q3_EUR = 0.6362\n",
    "q3_AFR = 0.028\n",
    "q3_EAS = 0.002\n",
    "# raise NotImplementedError"
   ]
  },
  {
   "cell_type": "code",
   "execution_count": 18,
   "metadata": {
    "deletable": false,
    "editable": false,
    "nbgrader": {
     "cell_type": "code",
     "checksum": "d256fb44ace9b3f2c4fbcecb750c49e1",
     "grade": true,
     "grade_id": "q3-check-1",
     "locked": true,
     "points": 2,
     "schema_version": 3,
     "solution": false,
     "task": false
    }
   },
   "outputs": [],
   "source": [
    "\"\"\" Autograder tests - Q3 \"\"\"\n",
    "# Check frequencies are reasonable\n",
    "assert(q3_EUR > 0 and q3_EUR < 1)\n",
    "assert(q3_EUR > q3_AFR and q3_EUR > q3_EAS)\n",
    "\n",
    "# Hidden tests check actual values"
   ]
  },
  {
   "cell_type": "code",
   "execution_count": 19,
   "metadata": {
    "deletable": false,
    "editable": false,
    "nbgrader": {
     "cell_type": "code",
     "checksum": "375e24ce64fcbb1bf4dbeed11e9bc9f6",
     "grade": true,
     "grade_id": "q3-check-2",
     "locked": true,
     "points": 1,
     "schema_version": 3,
     "solution": false,
     "task": false
    }
   },
   "outputs": [],
   "source": [
    "\"\"\" Autograder tests - Q3 \"\"\"\n",
    "# Check frequencies are reasonable\n",
    "assert(q3_EAS > 0 and q3_EAS < 1)\n",
    "assert(q3_EAS < q3_AFR)\n",
    "\n",
    "# Hidden tests check actual values"
   ]
  },
  {
   "cell_type": "code",
   "execution_count": 20,
   "metadata": {
    "deletable": false,
    "editable": false,
    "nbgrader": {
     "cell_type": "code",
     "checksum": "607d4c8fdd6fa09b7c5d81910d3f45e7",
     "grade": true,
     "grade_id": "q3-check-3",
     "locked": true,
     "points": 1,
     "schema_version": 3,
     "solution": false,
     "task": false
    }
   },
   "outputs": [],
   "source": [
    "\"\"\" Autograder tests - Q3 \"\"\"\n",
    "# Check frequencies are reasonable\n",
    "assert(q3_AFR > 0 and q3_AFR < 1)\n",
    "\n",
    "# Hidden tests check actual values"
   ]
  },
  {
   "cell_type": "markdown",
   "metadata": {
    "deletable": false,
    "editable": false,
    "nbgrader": {
     "cell_type": "markdown",
     "checksum": "25e3e2fc8b215113bb30cfcd12c7543e",
     "grade": false,
     "grade_id": "text-part2-4",
     "locked": true,
     "schema_version": 3,
     "solution": false
    }
   },
   "source": [
    "**Question 4 (6 pts)**: How many total variants are included in our VCF file? How many samples (people) are included? Set `q4_variants` and `q4_samples` to your answers. Set `q4_cmds` to the commands you used to answer these.\n",
    "\n",
    "The fastest way to do this is to use tools built specifically to take advantage of the VCF index file to perform computations very quickly on VCF files. `bcftools` provides many utilities for manipulating VCF files. See if you can figure out how to get information about the number of variants and the number of samples using the following commands:\n",
    "\n",
    "* `bcftools index` has an option to print the number of variants in a VCF file. (hint, a \"record\" means \"variant\")\n",
    "* `bcftools query` has an option to list the samples in a VCF file. You can pipe this to another command (for instance, involving `wc`) to count the number of samples.\n",
    "\n",
    "Type of each these commands at the terminal to see basic usage."
   ]
  },
  {
   "cell_type": "code",
   "execution_count": 21,
   "metadata": {
    "deletable": false,
    "nbgrader": {
     "cell_type": "code",
     "checksum": "898391f04875f247ff04a6a4fb1d7f38",
     "grade": false,
     "grade_id": "q4-ans",
     "locked": false,
     "schema_version": 3,
     "solution": true,
     "task": false
    }
   },
   "outputs": [],
   "source": [
    "\"\"\" Question 4 answers \"\"\"\n",
    "\n",
    "q4_variants = -1 # number of variants in the VCF file\n",
    "q4_samples = -1 # number of samples in the VCF file\n",
    "q4_cmds = \"\"\"\n",
    "\"\"\" # paste your commands to answer the above here\n",
    "\n",
    "# your code here\n",
    "\n",
    "q4_variants = 9506289\n",
    "q4_samples = 2504\n",
    "q4_cmds = \"\"\"\n",
    "bcftools index -n  ~/public/lab3/gtdata_1000Genomes.vcf.gz\n",
    "bcftools query -l ~/public/lab3/gtdata_1000Genomes.vcf.gz | wc -l\n",
    "\"\"\"\n",
    "\n",
    "# raise NotImplementedError"
   ]
  },
  {
   "cell_type": "code",
   "execution_count": 22,
   "metadata": {
    "deletable": false,
    "editable": false,
    "nbgrader": {
     "cell_type": "code",
     "checksum": "62a4d7bb8cc1547e9bbf6442aef4dcaa",
     "grade": true,
     "grade_id": "q4-check-1",
     "locked": true,
     "points": 2,
     "schema_version": 3,
     "solution": false,
     "task": false
    }
   },
   "outputs": [],
   "source": [
    "\"\"\" Autograder tests - Q4 \"\"\"\n",
    "assert(q4_variants > 1000000)\n",
    "assert(q4_variants < 10000000)\n",
    "assert(type(q4_variants) == int)\n",
    "\n",
    "# Hidden tests check actual values"
   ]
  },
  {
   "cell_type": "code",
   "execution_count": 23,
   "metadata": {
    "deletable": false,
    "editable": false,
    "nbgrader": {
     "cell_type": "code",
     "checksum": "ffb32c339d221b9a08ab3d8fc090d8a0",
     "grade": true,
     "grade_id": "q4-check-2",
     "locked": true,
     "points": 2,
     "schema_version": 3,
     "solution": false,
     "task": false
    }
   },
   "outputs": [],
   "source": [
    "\"\"\" Autograder tests - Q4 \"\"\"\n",
    "assert(q4_samples > 2000)\n",
    "assert(q4_samples < 3000)\n",
    "assert(type(q4_samples) == int)\n",
    "\n",
    "# Hidden tests check actual values"
   ]
  },
  {
   "cell_type": "code",
   "execution_count": 24,
   "metadata": {
    "deletable": false,
    "editable": false,
    "nbgrader": {
     "cell_type": "code",
     "checksum": "3586f3ff136dad94338df0c0a622080d",
     "grade": true,
     "grade_id": "q4-check-3",
     "locked": true,
     "points": 2,
     "schema_version": 3,
     "solution": false,
     "task": false
    }
   },
   "outputs": [],
   "source": [
    "\"\"\" Autograder tests - Q4 \"\"\"\n",
    "assert(q4_cmds.strip() != \"\")\n",
    "assert(\"gtdata_1000Genomes.vcf.gz\" in q4_cmds)"
   ]
  },
  {
   "cell_type": "markdown",
   "metadata": {
    "deletable": false,
    "editable": false,
    "nbgrader": {
     "cell_type": "markdown",
     "checksum": "cf4b3595afc00dc336dba6d2c09dbe58",
     "grade": false,
     "grade_id": "text-part3-1",
     "locked": true,
     "schema_version": 3,
     "solution": false
    }
   },
   "source": [
    "## 3. Preprocessing our data for PCA\n",
    "\n",
    "To perform PCA, we'll first want to \"prune\" our variants to get variants that are relatively independent and remove rare variants that might be potential outliers in our analysis. To save time we have already provided you a good list of SNPs to use:\n",
    "\n",
    "```\n",
    "~/public/lab3/smallpruned_snps_hg19.bed.gz\n",
    "```\n",
    "\n",
    "This is a [BED file](https://genome.ucsc.edu/FAQ/FAQformat.html#format1), a common format in genomics analyses. BED files simply store regions, or \"chunks\" of the genome, with one chunk per line. In our case, the BED file contains a list of positions we will want to extract from our dataset. There are 3 main columns: chromosome, start, and end position. Do `zcat` on the file to take a look. BED files can sometimes have other score or strand information, but we won't use the extra columns here.\n",
    "\n",
    "**Question 5 (6 pts)**: Use `bcftools view` to extract variants falling in this list of regions from the VCF file `gtdata_1000Genomes.vcf.gz`.\n",
    "\n",
    "How many variants remain in your pruned VCF file (it should be way fewer than the original file. close to 5,000)?\n",
    "\n",
    "See the usage for how to use the following options:\n",
    "* Input a file containing a list of regions (this can be our `smallpruned_snps_hg19.bed.gz` above.\n",
    "* Output the VCF in gzipped format.\n",
    "* Output the new VCF file to `~/lab3/gtdata_1000Genomes_pruned.vcf.gz`\n",
    "* Output only SNPs.\n",
    "\n",
    "After you have generated the pruned VCF file, use `tabix` to index it (e.g. `tabix -p vcf ~/lab3/gtdata_1000Genomes_pruned.vcf.gz`)\n",
    "\n",
    "Set `q5_numvars` to the number of variants remaining and `q5_cmds` to the commands you used to extract these variants to a new VCF file, index the new VCF file, and count the number of variants in the new file. (This might take a minute or two)."
   ]
  },
  {
   "cell_type": "code",
   "execution_count": 25,
   "metadata": {
    "deletable": false,
    "nbgrader": {
     "cell_type": "code",
     "checksum": "dbf9f1532a72000ae14693f6f85c7bcf",
     "grade": false,
     "grade_id": "q5-ans",
     "locked": false,
     "schema_version": 3,
     "solution": true,
     "task": false
    }
   },
   "outputs": [],
   "source": [
    "\"\"\" Question 5 answers \"\"\"\n",
    "q5_numvars = -1 # number of variants remaining after pruning\n",
    "q5_cmds = \"\"\"\n",
    "\"\"\" # set to the commands you used for pruning\n",
    "\n",
    "# your code here\n",
    "q5_numvars = 5183\n",
    "q5_cmds = \"\"\"\n",
    "bcftools view -R ~/public/lab3/smallpruned_snps_hg19.bed.gz -o ~/lab3/gtdata_1000Genomes_pruned.vcf.gz -O z -v snps ~/public/lab3/gtdata_1000Genomes.vcf.gz\n",
    "tabix -p vcf ~/lab3/gtdata_1000Genomes_pruned.vcf.gz\n",
    "bcftools index -n ~/lab3/gtdata_1000Genomes_pruned.vcf.gz\n",
    "\"\"\"\n",
    "# raise NotImplementedError"
   ]
  },
  {
   "cell_type": "code",
   "execution_count": 26,
   "metadata": {
    "deletable": false,
    "editable": false,
    "nbgrader": {
     "cell_type": "code",
     "checksum": "0f0e4d1a1ddce4fadf3b15d8f0b0dc36",
     "grade": true,
     "grade_id": "q5-check-1",
     "locked": true,
     "points": 1,
     "schema_version": 3,
     "solution": false,
     "task": false
    }
   },
   "outputs": [],
   "source": [
    "\"\"\" Autograder tests - Q5 \"\"\"\n",
    "# Checks on q5_numvars\n",
    "assert(q5_numvars > 5000 and q5_numvars < 6000)"
   ]
  },
  {
   "cell_type": "code",
   "execution_count": 27,
   "metadata": {
    "deletable": false,
    "editable": false,
    "nbgrader": {
     "cell_type": "code",
     "checksum": "a7363bf0e84f031ba0493012972f7969",
     "grade": true,
     "grade_id": "q5-check-2",
     "locked": true,
     "points": 2,
     "schema_version": 3,
     "solution": false,
     "task": false
    }
   },
   "outputs": [],
   "source": [
    "\"\"\" Autograder tests - Q5 \"\"\"\n",
    "# checks on q5_cmds\n",
    "assert(\"bcftools\" in q5_cmds)\n",
    "assert(\"view\") in q5_cmds"
   ]
  },
  {
   "cell_type": "code",
   "execution_count": 28,
   "metadata": {
    "deletable": false,
    "editable": false,
    "nbgrader": {
     "cell_type": "code",
     "checksum": "0a2cf4fbbb3a207af2f7a4142991c4e4",
     "grade": true,
     "grade_id": "q5-check-3",
     "locked": true,
     "points": 3,
     "schema_version": 3,
     "solution": false,
     "task": false
    }
   },
   "outputs": [],
   "source": [
    "\"\"\" Autograder tests - Q5 \"\"\"\n",
    "# checks on q5_cmds\n",
    "assert(\"tabix\" or \"index\" in q5_cmds)"
   ]
  },
  {
   "cell_type": "markdown",
   "metadata": {
    "deletable": false,
    "editable": false,
    "nbgrader": {
     "cell_type": "markdown",
     "checksum": "d7a285d2d2a580be78a32fbd724e97f3",
     "grade": false,
     "grade_id": "part4-text",
     "locked": true,
     "schema_version": 3,
     "solution": false,
     "task": false
    }
   },
   "source": [
    "## 4. Running PCA\n",
    "\n",
    "Now we are ready to run our PCA. To simplify this, we will use a tool called [plink](https://www.cog-genomics.org/plink/1.9/). plink can perform a huge number of tasks, including PCA (lab 3 part 1), GWAS (lab 3 part 2), and wrangling VCF or other genetics file formats in many ways. But almost every plink command includes the following elements:\n",
    "\n",
    "* An option to specify a path to genotypes. e.g. `--vcf myvcffile.vcf.gz`. Plink also accepts multiple other genotype formats, but we'll ignore those.\n",
    "* A command to perform. e.g. `--linear` to perform a GWAS using linear regression, or `--pca` to perform PCA.\n",
    "* A prefix to use to name the output files. e.g. `--out lab3` will name files starting with `lab3`. Often a single plink command will output multiple different files.\n",
    "\n",
    "**Question 6 (5 pts)**: Use plink to perform PCA on your pruned VCF file. You only need to compute the first 5 PCs. You may look at the [plink PCA documentation](https://www.cog-genomics.org/plink/1.9/strat#pca) for guidance.\n",
    "\n",
    "Set `q6_cmd` to your plink command. Use `--out lab3`.\n",
    "\n",
    "<font color=\"red\">Please copy the output files to this directory after you have run plink. As in previous labs, the checks below rely on the file `lab3.eigenvec` being in this directory.</font>"
   ]
  },
  {
   "cell_type": "code",
   "execution_count": 29,
   "metadata": {
    "deletable": false,
    "nbgrader": {
     "cell_type": "code",
     "checksum": "daaa7e86733eddfda94c02b6e6b75e74",
     "grade": false,
     "grade_id": "q6-ans",
     "locked": false,
     "schema_version": 3,
     "solution": true,
     "task": false
    }
   },
   "outputs": [],
   "source": [
    "\"\"\" Question 6 answers \"\"\"\n",
    "q6_cmd = \"\"\"\n",
    "\"\"\" # Set to your plink command to run PCA\n",
    "\n",
    "# your code here\n",
    "\n",
    "q6_cmd = \"\"\"\n",
    "plink --vcf ~/lab3/gtdata_1000Genomes_pruned.vcf.gz --pca 5 --out lab3\n",
    "\"\"\"\n",
    "# raise NotImplementedError"
   ]
  },
  {
   "cell_type": "code",
   "execution_count": 30,
   "metadata": {
    "deletable": false,
    "editable": false,
    "nbgrader": {
     "cell_type": "code",
     "checksum": "fd4a528d32b577cbae9ab9bfd62589fc",
     "grade": true,
     "grade_id": "q6-check-1",
     "locked": true,
     "points": 2,
     "schema_version": 3,
     "solution": false,
     "task": false
    }
   },
   "outputs": [],
   "source": [
    "\"\"\" Autograder tests - Q6 \"\"\"\n",
    "# Checks on q6_cmd\n",
    "assert(\"plink\" in q6_cmd)\n",
    "assert(\"--pca\" in q6_cmd)"
   ]
  },
  {
   "cell_type": "code",
   "execution_count": 31,
   "metadata": {
    "deletable": false,
    "editable": false,
    "nbgrader": {
     "cell_type": "code",
     "checksum": "7fc07edadc5932a16390124325c1dc54",
     "grade": true,
     "grade_id": "q6-check-2",
     "locked": true,
     "points": 2,
     "schema_version": 3,
     "solution": false,
     "task": false
    }
   },
   "outputs": [],
   "source": [
    "\"\"\" Autograder tests - Q6 \"\"\"\n",
    "# Checks on the plink output file\n",
    "# !!!! Requires you to copy lab3.eigenvec to this directory\n",
    "import os\n",
    "assert(os.path.isfile(\"lab3.eigenvec\"))\n",
    "assert(os.stat(\"lab3.eigenvec\").st_size != 0)"
   ]
  },
  {
   "cell_type": "markdown",
   "metadata": {
    "deletable": false,
    "editable": false,
    "nbgrader": {
     "cell_type": "markdown",
     "checksum": "039449eb5bc601fc1ea2e2e2ff434050",
     "grade": false,
     "grade_id": "part4-text-2",
     "locked": true,
     "schema_version": 3,
     "solution": false,
     "task": false
    }
   },
   "source": [
    "If your PCA run was successful, running the following cell should create a scatter plot of PC1 vs. PC2 with samples colored by their \"superpopulation\" (see http://ftp.1000genomes.ebi.ac.uk/vol1/ftp/README_populations.md for more information on 1000 Genomes populations)\n",
    "\n",
    "If your analysis worked, you should see a triangle-like shape and that people cluster by population. You can edit the cell below the following to experiment with plotting additional PCs."
   ]
  },
  {
   "cell_type": "code",
   "execution_count": 32,
   "metadata": {
    "deletable": false,
    "editable": false,
    "nbgrader": {
     "cell_type": "code",
     "checksum": "ba81382596cd848158028a2e842c8abd",
     "grade": false,
     "grade_id": "part4-plot-PCs",
     "locked": true,
     "schema_version": 3,
     "solution": false,
     "task": false
    }
   },
   "outputs": [
    {
     "name": "stdout",
     "output_type": "stream",
     "text": [
      "Populating the interactive namespace from numpy and matplotlib\n"
     ]
    },
    {
     "data": {
      "image/png": "[encoded data removed]",
      "text/plain": [
       "<Figure size 432x288 with 1 Axes>"
      ]
     },
     "metadata": {
      "needs_background": "light"
     },
     "output_type": "display_data"
    }
   ],
   "source": [
    "%pylab inline\n",
    "import pandas as pd\n",
    "######### Scatterplot #############\n",
    "\n",
    "# See http://ftp.1000genomes.ebi.ac.uk/vol1/ftp/README_populations.md\n",
    "def GetSuperpop(pop):\n",
    "    if pop in [\"CHB\",\"JPT\",\"CHS\",\"CDX\",\"KHV\"]: return \"EAS\"\n",
    "    if pop in [\"CEU\",\"TSI\",\"FIN\",\"GBR\",\"IBS\"]: return \"EUR\"\n",
    "    if pop in [\"YRI\",\"LWK\",\"GWD\",\"MSL\",\"ESN\",\"ASW\",\"ACB\"]: return \"AFR\"\n",
    "    if pop in [\"MXL\",\"PUR\",\"CLM\",\"PEL\"]: return \"AMR\"\n",
    "    if pop in [\"GIH\",\"PJL\",\"BEB\",\"STU\",\"ITU\"]: return \"SAS\"\n",
    "    return \"gray\"\n",
    "\n",
    "def LoadData(eigvecfile, sampfile=\"~/public/lab3/gtdata_sample_labels.csv\"):\n",
    "    \"\"\"\n",
    "    Load a pandas data frame with data needed\n",
    "    to make PCA scatterplots\n",
    "    \n",
    "    Arguments\n",
    "    ---------\n",
    "    eigvecfile : str\n",
    "       Path to eigvec file output by plink\n",
    "    sampfile : str\n",
    "       Path to sample labels file.\n",
    "       Format for each line: sample,superpop\n",
    "       \n",
    "    Returns\n",
    "    data : pd.DataFrame\n",
    "       Pandas dataframe with columns IID, PC1, PC2, etc \n",
    "    \"\"\"\n",
    "    # Load metadata\n",
    "    samp = pd.read_csv(sampfile, names=[\"IID\", \"pop\"])\n",
    "    samp[\"superpop\"] = samp[\"pop\"].apply(lambda x: GetSuperpop(x), 1)\n",
    "    \n",
    "    # Load eigenvecs\n",
    "    data = pd.read_csv(eigvecfile, \n",
    "                   delim_whitespace=True, header=None, usecols=range(7))\n",
    "    data.columns = [\"FID\",\"IID\"] + [\"PC%s\"%i for i in range(1, 6)]\n",
    "\n",
    "    # Merge sample info\n",
    "    data = pd.merge(data, samp, on=[\"IID\"], how=\"left\")\n",
    "    \n",
    "    # Return merged data\n",
    "    return data\n",
    "\n",
    "def PlotPCs(data, pc_x=\"PC1\", pc_y=\"PC2\", highlight_sample=None):\n",
    "    \"\"\"\n",
    "    Create scatter plot of columns $pc_x vs. $pc_y\n",
    "    \n",
    "    Arguments\n",
    "    ---------\n",
    "    data : pd.DataFrame\n",
    "       Must have columns $pc_x, $pc_y\n",
    "    pc_x : str\n",
    "       Name of the column with the PC to plot\n",
    "       on the x-axis\n",
    "    pc_y : str\n",
    "       Name of the column with the PC to plot\n",
    "       on the y-axis\n",
    "    \"\"\"\n",
    "    spop_to_color = {\n",
    "    \"EUR\": \"green\",\n",
    "    \"AFR\": \"red\",\n",
    "    \"SAS\": \"orange\",\n",
    "    \"AMR\": \"blue\",\n",
    "    \"EAS\": \"purple\"\n",
    "    }\n",
    "    data[\"color\"] = data.apply(lambda x: spop_to_color.get(x[\"superpop\"], \"gray\"), 1)\n",
    "\n",
    "    legend_elements = [Line2D([0], [0], marker='o', color='w', label=spop,\n",
    "                          markerfacecolor=spop_to_color[spop], markersize=10) \\\n",
    "                  for spop in spop_to_color.keys()]\n",
    "    fig = plt.figure()\n",
    "    ax = fig.add_subplot(111)\n",
    "    ax.scatter(data[pc_x], data[pc_y], color=data[\"color\"], s=5)\n",
    "    ax.spines['right'].set_visible(False)\n",
    "    ax.spines['top'].set_visible(False)\n",
    "    ax.yaxis.set_ticks_position('left')\n",
    "    ax.xaxis.set_ticks_position('bottom')\n",
    "    ax.set_xlabel(pc_x)\n",
    "    ax.set_ylabel(pc_y); \n",
    "    if highlight_sample is not None:\n",
    "        assert(highlight_sample in list(data[\"IID\"]))\n",
    "        sdata = data[data[\"IID\"]==highlight_sample]\n",
    "        ax.scatter(sdata[pc_x], sdata[pc_y], color=\"black\", s=25)\n",
    "        legend_elements.append(Line2D([0], [0], marker='o', color='w', label=highlight_sample,\n",
    "                          markerfacecolor=\"black\", markersize=10))\n",
    "    ax.legend(handles=legend_elements, loc=\"lower right\")\n",
    "\n",
    "\n",
    "data = LoadData(\"lab3.eigenvec\")\n",
    "PlotPCs(data, pc_x=\"PC1\", pc_y=\"PC2\")"
   ]
  },
  {
   "cell_type": "code",
   "execution_count": 36,
   "metadata": {},
   "outputs": [
    {
     "data": {
      "image/png": "[encoded data removed]",
      "text/plain": [
       "<Figure size 432x288 with 1 Axes>"
      ]
     },
     "metadata": {
      "needs_background": "light"
     },
     "output_type": "display_data"
    }
   ],
   "source": [
    "# You can edit the command below to plot additional PCs\n",
    "PlotPCs(data, pc_x=\"PC1\")"
   ]
  },
  {
   "cell_type": "markdown",
   "metadata": {
    "deletable": false,
    "editable": false,
    "nbgrader": {
     "cell_type": "markdown",
     "checksum": "c485962fa4d2f71d6ee724d427cfcdad",
     "grade": false,
     "grade_id": "part4-text-3",
     "locked": true,
     "schema_version": 3,
     "solution": false
    }
   },
   "source": [
    "**Question 7 (3 pts)**:\n",
    "\n",
    "* 7.1 (1 pt): Which superpopulation is separated from the rest along PC1? Set `q7_1` to your answer.\n",
    "* 7.2 (1 pt): Which superpopulation is separated from EUR and other superpopulations along the PC2? Set `q7_2` to your answer.\n",
    "* 7.3 (1 pt): Based on where they fall in your PCA plot, which superpopulation do you think has experienced the most recent admixture (contributions of ancestry from many population groups). Set `q7_3` to your answer."
   ]
  },
  {
   "cell_type": "code",
   "execution_count": 37,
   "metadata": {
    "deletable": false,
    "nbgrader": {
     "cell_type": "code",
     "checksum": "bdf7198e847a4b9710dd7d2da62581e2",
     "grade": false,
     "grade_id": "q7-ans",
     "locked": false,
     "schema_version": 3,
     "solution": true,
     "task": false
    }
   },
   "outputs": [],
   "source": [
    "\"\"\" Question 7 answers \"\"\"\n",
    "\n",
    "# Set to the superpopulation labels that answer 7.1, 7.2, and 7.3 above\n",
    "# Options: \"EUR\", \"AFR\", \"EAS\", \"SAS\", \"AMR\"\n",
    "q7_1 = \"\"\n",
    "q7_2 = \"\"\n",
    "q7_3 = \"\"\n",
    "\n",
    "# your code here\n",
    "q7_1 = \"AFR\"\n",
    "q7_2 = \"EAS\"\n",
    "q7_3 = \"AMR\"\n",
    "# raise NotImplementedError"
   ]
  },
  {
   "cell_type": "code",
   "execution_count": 38,
   "metadata": {
    "deletable": false,
    "editable": false,
    "nbgrader": {
     "cell_type": "code",
     "checksum": "7664663f92ff6116916764676980c881",
     "grade": true,
     "grade_id": "q7-check-1",
     "locked": true,
     "points": 1,
     "schema_version": 3,
     "solution": false,
     "task": false
    }
   },
   "outputs": [],
   "source": [
    "\"\"\" Autograder tests - Q7 \"\"\"\n",
    "spops = [\"EUR\",\"AFR\",\"EAS\",\"SAS\",\"AMR\"]\n",
    "# Check q7_1 makes sense\n",
    "assert(q7_1 in spops)\n",
    "\n",
    "# Hidden test checks actual value"
   ]
  },
  {
   "cell_type": "code",
   "execution_count": 39,
   "metadata": {
    "deletable": false,
    "editable": false,
    "nbgrader": {
     "cell_type": "code",
     "checksum": "8c9963f17309756f177827a8efd364c4",
     "grade": true,
     "grade_id": "q7-check-2",
     "locked": true,
     "points": 1,
     "schema_version": 3,
     "solution": false,
     "task": false
    }
   },
   "outputs": [],
   "source": [
    "\"\"\" Autograder tests - Q7 \"\"\"\n",
    "spops = [\"EUR\",\"AFR\",\"EAS\",\"SAS\",\"AMR\"]\n",
    "# Check q7_2 makes sense\n",
    "assert(q7_2 in spops)\n",
    "\n",
    "# Hidden test checks actual value"
   ]
  },
  {
   "cell_type": "code",
   "execution_count": 40,
   "metadata": {
    "deletable": false,
    "editable": false,
    "nbgrader": {
     "cell_type": "code",
     "checksum": "de986fff5a6746dfc0752d0504be9642",
     "grade": true,
     "grade_id": "q7-check-3",
     "locked": true,
     "points": 1,
     "schema_version": 3,
     "solution": false,
     "task": false
    }
   },
   "outputs": [],
   "source": [
    "\"\"\" Autograder tests - Q7 \"\"\"\n",
    "spops = [\"EUR\",\"AFR\",\"EAS\",\"SAS\",\"AMR\"]\n",
    "# Check q7_3 makes sense\n",
    "assert(q7_3 in spops)\n",
    "\n",
    "# Hidden test checks actual value"
   ]
  },
  {
   "cell_type": "markdown",
   "metadata": {
    "deletable": false,
    "editable": false,
    "nbgrader": {
     "cell_type": "markdown",
     "checksum": "93ea2cfd73b186ca50863db155140d85",
     "grade": false,
     "grade_id": "part5-text-1",
     "locked": true,
     "schema_version": 3,
     "solution": false
    }
   },
   "source": [
    "# 5. Determining the ancestry of new samples\n",
    "\n",
    "Now, we'll use our labeled reference panel to infer the ancestry of a new genome. As a test case, we have included a test genome at `~/public/lab3/friend_genome.vcf.gz`.\n",
    "\n",
    "The easiest way to determine the ancestry of the new genome is to make a new VCF file including that sample in our PCA analysis. You can use the following shell script we provided to merge the 23andme genome and the reference panel VCF. This script does some cleanup of the 23andme file that is required before merging. If you have done 23andMe, or analyzed your genome through a different company, you're welcome to try this out on your own genome!\n",
    "\n",
    "```shell\n",
    "# syntax: preprocess_23andme.sh <23andme VCF> <pruned 1000G VCF> <outdir>\n",
    "# Note depending on where you run this from, you might have to edit\n",
    "# the path to preprocess_23andme.sh\n",
    "# Note the sample ID of the 23andme file will be \"GENOTYPE\"\n",
    "# Note you might need to run `chmod +x preprocess_23andme.sh` before running this\n",
    "./preprocess_23andme.sh \\\n",
    "  ~/public/lab3/friend_genome.vcf.gz \\\n",
    "  ~/lab3/gtdata_1000Genomes_pruned.vcf.gz \\\n",
    "  ~/lab3\n",
    "```\n",
    "\n",
    "**Question 8 (10 pts)**: Run the command above to get a new VCF file named `~/lab3/gtdata_merged.vcf.gz`. Then use plink to perform PCA on the new VCF file. Use `--out lab3_merged` so files are named `lab3_merged.eigenvec` etc. Copy the resulting file to the same directory as this notebook. If you did this correctly the tests below should pass."
   ]
  },
  {
   "cell_type": "code",
   "execution_count": 41,
   "metadata": {
    "deletable": false,
    "editable": false,
    "nbgrader": {
     "cell_type": "code",
     "checksum": "dcf7cfa471aac3d0a30b6023b139693b",
     "grade": true,
     "grade_id": "q8-check-1",
     "locked": true,
     "points": 2,
     "schema_version": 3,
     "solution": false,
     "task": false
    }
   },
   "outputs": [],
   "source": [
    "\"\"\" Autograder tests - Q8 \"\"\"\n",
    "import os\n",
    "assert(os.path.isfile(\"lab3_merged.eigenvec\"))\n",
    "assert(os.stat(\"lab3_merged.eigenvec\").st_size != 0)"
   ]
  },
  {
   "cell_type": "code",
   "execution_count": 42,
   "metadata": {
    "deletable": false,
    "editable": false,
    "nbgrader": {
     "cell_type": "code",
     "checksum": "c05f0ed582d7a394916f3d065019f17c",
     "grade": true,
     "grade_id": "q8-check-2",
     "locked": true,
     "points": 3,
     "schema_version": 3,
     "solution": false,
     "task": false
    }
   },
   "outputs": [],
   "source": [
    "\"\"\" Autograder tests - Q8 \"\"\"\n",
    "import pandas\n",
    "df = pd.read_csv(\"lab3_merged.eigenvec\", delim_whitespace=True, header=None, usecols=range(7))\n",
    "df.columns = [\"FID\",\"IID\"] + [\"PC%s\"%i for i in range(1, 6)]\n",
    "assert(\"HG00103\" in list(df[\"IID\"]))\n",
    "assert(\"GENOTYPE\" in list(df[\"IID\"]))"
   ]
  },
  {
   "cell_type": "code",
   "execution_count": 43,
   "metadata": {
    "deletable": false,
    "editable": false,
    "nbgrader": {
     "cell_type": "code",
     "checksum": "b471be69cb1b04c9427e3f295c09f770",
     "grade": true,
     "grade_id": "q8-check-3",
     "locked": true,
     "points": 5,
     "schema_version": 3,
     "solution": false,
     "task": false
    }
   },
   "outputs": [
    {
     "data": {
      "image/png": "[encoded data removed]",
      "text/plain": [
       "<Figure size 432x288 with 1 Axes>"
      ]
     },
     "metadata": {
      "needs_background": "light"
     },
     "output_type": "display_data"
    }
   ],
   "source": [
    "\"\"\" Autograder tests - Q8 \"\"\"\n",
    "# This should successfully output a scatterplot if your PCA\n",
    "# worked\n",
    "data = LoadData(\"lab3_merged.eigenvec\")\n",
    "PlotPCs(data, pc_x=\"PC1\", pc_y=\"PC2\", highlight_sample=\"GENOTYPE\")"
   ]
  },
  {
   "cell_type": "markdown",
   "metadata": {
    "deletable": false,
    "editable": false,
    "nbgrader": {
     "cell_type": "markdown",
     "checksum": "54af3f390dc473766f4c15a2e5c35a86",
     "grade": false,
     "grade_id": "part5-text-2",
     "locked": true,
     "schema_version": 3,
     "solution": false,
     "task": false
    }
   },
   "source": [
    "**Question 9 (2 pts)**: What do you predict is the superpopulation label of the unknown sample? Set `q9_pop` to your answer below."
   ]
  },
  {
   "cell_type": "code",
   "execution_count": 44,
   "metadata": {
    "deletable": false,
    "nbgrader": {
     "cell_type": "code",
     "checksum": "be4c05da992599569d68576213d17b19",
     "grade": false,
     "grade_id": "q9-ans",
     "locked": false,
     "schema_version": 3,
     "solution": true,
     "task": false
    }
   },
   "outputs": [],
   "source": [
    "\"\"\" Question 9 answers \"\"\"\n",
    "q9_pop = \"\" # set to 1 of \"EUR\", \"AFR\", \"AMR\", \"SAS\", \"EAS\"\n",
    "\n",
    "# your code here\n",
    "q9_pop = \"EUR\"\n",
    "# raise NotImplementedError"
   ]
  },
  {
   "cell_type": "code",
   "execution_count": 45,
   "metadata": {
    "deletable": false,
    "editable": false,
    "nbgrader": {
     "cell_type": "code",
     "checksum": "51b9ae318dabbd6a11995901450e7d1f",
     "grade": true,
     "grade_id": "q9-check",
     "locked": true,
     "points": 2,
     "schema_version": 3,
     "solution": false,
     "task": false
    }
   },
   "outputs": [],
   "source": [
    "\"\"\" Autograder tests - Q9 \"\"\"\n",
    "spops = [\"EUR\",\"AFR\",\"EAS\",\"SAS\",\"AMR\"]\n",
    "assert(q9_pop in spops)\n",
    "\n",
    "# Hidden test checks actual value"
   ]
  }
 ],
 "metadata": {
  "kernelspec": {
   "display_name": "Python 3 (ipykernel)",
   "language": "python",
   "name": "python3"
  },
  "language_info": {
   "codemirror_mode": {
    "name": "ipython",
    "version": 3
   },
   "file_extension": ".py",
   "mimetype": "text/x-python",
   "name": "python",
   "nbconvert_exporter": "python",
   "pygments_lexer": "ipython3",
   "version": "3.9.5"
  }
 },
 "nbformat": 4,
 "nbformat_minor": 2
}
