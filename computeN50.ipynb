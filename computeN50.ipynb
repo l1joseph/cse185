{
 "cells": [
  {
   "cell_type": "code",
   "execution_count": 2,
   "id": "74d60ae2",
   "metadata": {},
   "outputs": [
    {
     "name": "stdout",
     "output_type": "stream",
     "text": [
      "N50: 60\n"
     ]
    }
   ],
   "source": [
    "def compute_n50(lengths, genome_size):\n",
    "    sorted_lengths = sorted(lengths, reverse=True)\n",
    "    total_length = sum(lengths)\n",
    "    target_length = genome_size * 0.5\n",
    "    \n",
    "    current_length = 0\n",
    "    for length in sorted_lengths:\n",
    "        current_length += length\n",
    "        if current_length >= target_length:\n",
    "            return length\n",
    "    \n",
    "    return 0\n",
    "\n",
    "# Extract the contig lengths from the file\n",
    "# contig_lengths_file = \"minia_assembly_18.contigs.fa\"\n",
    "contig_lengths_file = \"flye_output/assembly.fasta\"\n",
    "\n",
    "genome_size = 4577109  # Replace with the approximate size of the E. coli genome\n",
    "\n",
    "with open(contig_lengths_file, \"r\") as file:\n",
    "    lengths = []\n",
    "    for line in file:\n",
    "        if not line.startswith(\">\"):\n",
    "            lengths.append(len(line.strip()))\n",
    "\n",
    "n50 = compute_n50(lengths, genome_size)\n",
    "print(f\"N50: {n50}\")"
   ]
  },
  {
   "cell_type": "code",
   "execution_count": null,
   "id": "3152ac37",
   "metadata": {},
   "outputs": [],
   "source": []
  },
  {
   "cell_type": "code",
   "execution_count": null,
   "id": "17e26043",
   "metadata": {},
   "outputs": [],
   "source": []
  }
 ],
 "metadata": {
  "kernelspec": {
   "display_name": "Python 3 (ipykernel)",
   "language": "python",
   "name": "python3"
  },
  "language_info": {
   "codemirror_mode": {
    "name": "ipython",
    "version": 3
   },
   "file_extension": ".py",
   "mimetype": "text/x-python",
   "name": "python",
   "nbconvert_exporter": "python",
   "pygments_lexer": "ipython3",
   "version": "3.9.5"
  }
 },
 "nbformat": 4,
 "nbformat_minor": 5
}
