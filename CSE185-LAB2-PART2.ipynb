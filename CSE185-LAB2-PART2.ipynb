{
 "cells": [
  {
   "cell_type": "markdown",
   "metadata": {
    "deletable": false,
    "editable": false,
    "nbgrader": {
     "cell_type": "markdown",
     "checksum": "5646b243120cece548735b6cab83214d",
     "grade": false,
     "grade_id": "text-lab2-part1-intro",
     "locked": true,
     "schema_version": 3,
     "solution": false,
     "task": false
    }
   },
   "source": [
    "# Lab 2: So where do all those reference genomes come from anyway? (Sequence assembly)\n",
    "\n",
    "## Part 2 (40 pts)\n",
    "\n",
    "Notes:\n",
    "* there should be \"high memory\" instances available to complete this lab, which should make the commands run faster.\n",
    "* Multiple commands in this lab might take a while to run. Strongly consider using \"nohup\" to run commands in the background so you can keep working through the rest of the lab while you wait for commands to finish.\n",
    "* To make sure you stay on the right track, many of the autograder tests are fully visible.\n",
    "\n",
    "In this lab, we will assemble the genome of E. coli using two different sequencing technologies: short reads from Illumina, and long reads from PacBio, and compare the results."
   ]
  },
  {
   "cell_type": "markdown",
   "metadata": {
    "deletable": false,
    "editable": false,
    "nbgrader": {
     "cell_type": "markdown",
     "checksum": "e91e60e138c43918cd84bd30c83986e8",
     "grade": false,
     "grade_id": "text-part1",
     "locked": true,
     "schema_version": 3,
     "solution": false,
     "task": false
    }
   },
   "source": [
    "## 1. E. coli sequencing datasets\n",
    "\n",
    "We will be working with two E. coli sequencing datasets in this lab:\n",
    "\n",
    "1. **Illumina paired-end short reads**. We used this dataset for kmer analysis in part 1. Recall you can find the two fasta files at:\n",
    "\n",
    "```shell\n",
    "~/public/lab2/shortfrag_1.fq\n",
    "~/public/lab2/shortfrag_2.fq\n",
    "```\n",
    "\n",
    "2. **Pacbio \"hifi\" reads**. We will additionally be working with a long-read dataset generated using the PacBio hifi technology. You can find the fasta file in the same directory:\n",
    "\n",
    "```shell\n",
    "~/public/lab2/pacbio.fastq\n",
    "```\n",
    "\n",
    "We'll perform assembly using these two different datasets, and then use an online tool called QUAST to evaluate our results.\n",
    "\n",
    "But let's first just get some basic info about the datasets we're working with.\n",
    "\n",
    "You might find some of the following UNIX commands helpful in answering some of the questions below:\n",
    "\n",
    "* `awk` is a general purpose tool for all sorts of data wrangling. Awk excels at parsing delimited data, where you have a lot of fields. The simplest form of an awk command is (all one line):\n",
    "```\n",
    "awk '/search_pattern/ {action to take on matches; another_action;}' [path to file]\n",
    "```\n",
    "\n",
    "For example, the following command prints out every other line of our fasta file (i.e., only the lines with sequences on them). \n",
    "\n",
    "```shell\n",
    "cat ~/public/lab2/pacbio.fastq | awk 'NR%4==2 {print length}' | head\n",
    "```\n",
    "\n",
    "Here `NR` means \"row number\" (or record number) and prints out rows where row number mod 4 is 2. `length` prints the length of the line. For files with many columns, you can also do `length($i)` to print the length of column `i`.\n",
    "\n",
    "* `datamash` is a really helpful tool for cmputing simple operations on columns of data. Below is an example of how to use the command. Type `datamash --help` for more usage info.\n",
    "\n",
    "```shell\n",
    "cat ~/public/lab2/pacbio.fastq | awk 'NR%4==2 {print length}' | datamash mean 1 # print mean of column 1\n",
    "```\n",
    "\n",
    "**Question 1 (6 pts)**: How many read pairs are in the Illumina dataset? What is their length (in bp)? Based on a genome size of 4.6 million bp for the E. coli genome, what average sequencing coverage do you expect? Fill in the python variables with your answers below."
   ]
  },
  {
   "cell_type": "code",
   "execution_count": 1,
   "metadata": {
    "deletable": false,
    "nbgrader": {
     "cell_type": "code",
     "checksum": "f89b813fd931ed9b8b49aa68d3dad5a2",
     "grade": false,
     "grade_id": "q1-answer",
     "locked": false,
     "schema_version": 3,
     "solution": true,
     "task": false
    }
   },
   "outputs": [
    {
     "name": "stdout",
     "output_type": "stream",
     "text": [
      "14214324\n",
      "612.4683194690166\n"
     ]
    }
   ],
   "source": [
    "shortfrag_numpairs = 0 # Fill this in with the number of read pairs\n",
    "shortfrag_readlen = 0 # Fill this in with the read length in bp\n",
    "shortfrag_coverage = 0 # Fill this in with the coverage\n",
    "\n",
    "# your code here\n",
    "# cat ~/public/lab2/shortfrag_1.fq | wc -l\n",
    "shortfrag_numpairs = (56857296)//4\n",
    "print(shortfrag_numpairs)\n",
    "# cat ~/public/lab2/shortfrag_1.fq | awk 'NR%4==2 {print length}' | head -n 1\n",
    "shortfrag_readlen = 100\n",
    "# coverage = (num_read_pairs * read_length * 2) / genome_size\n",
    "genome_size = 4641652\n",
    "shortfrag_coverage = (shortfrag_numpairs * shortfrag_readlen * 2)/genome_size\n",
    "print(shortfrag_coverage)\n",
    "\n",
    "\n",
    "# raise NotImplementedError"
   ]
  },
  {
   "cell_type": "code",
   "execution_count": 2,
   "metadata": {
    "deletable": false,
    "editable": false,
    "nbgrader": {
     "cell_type": "code",
     "checksum": "a7130f21445966639622484ec3f519ac",
     "grade": true,
     "grade_id": "q1-check-1",
     "locked": true,
     "points": 2,
     "schema_version": 3,
     "solution": false,
     "task": false
    }
   },
   "outputs": [],
   "source": [
    "\"\"\"Basic checks on shortfrag_numpairs\"\"\"\n",
    "assert(shortfrag_numpairs > 14000000 and shortfrag_numpairs < 20000000)\n",
    "assert(type(shortfrag_numpairs)==int)\n",
    "\n",
    "# Hidden tests check actual values"
   ]
  },
  {
   "cell_type": "code",
   "execution_count": 3,
   "metadata": {
    "deletable": false,
    "editable": false,
    "nbgrader": {
     "cell_type": "code",
     "checksum": "638289ad8ea9b50053e3afe661e3ed51",
     "grade": true,
     "grade_id": "q1-check-2",
     "locked": true,
     "points": 2,
     "schema_version": 3,
     "solution": false,
     "task": false
    }
   },
   "outputs": [],
   "source": [
    "\"\"\"Basic checks on shortfrag_readlen\"\"\"\n",
    "assert(shortfrag_readlen > 50 and shortfrag_readlen < 500)\n",
    "assert(type(shortfrag_readlen)==int)\n",
    "\n",
    "# Hidden tests check actual values"
   ]
  },
  {
   "cell_type": "code",
   "execution_count": 4,
   "metadata": {
    "deletable": false,
    "editable": false,
    "nbgrader": {
     "cell_type": "code",
     "checksum": "c257c9ff508f686097ce95b686ddad7b",
     "grade": true,
     "grade_id": "q1-check-3",
     "locked": true,
     "points": 2,
     "schema_version": 3,
     "solution": false,
     "task": false
    }
   },
   "outputs": [],
   "source": [
    "\"\"\"Basic checks on shortfrag_coverage\"\"\"\n",
    "assert(shortfrag_coverage > 100 and shortfrag_coverage < 1000)\n",
    "assert(type(shortfrag_coverage)==float)\n",
    "\n",
    "# Hidden tests check actual values"
   ]
  },
  {
   "cell_type": "markdown",
   "metadata": {
    "deletable": false,
    "editable": false,
    "nbgrader": {
     "cell_type": "markdown",
     "checksum": "c5050e0411a18ba79832200451c57e50",
     "grade": false,
     "grade_id": "text-q2",
     "locked": true,
     "schema_version": 3,
     "solution": false,
     "task": false
    }
   },
   "source": [
    "**Question 2 (6 pts)**: How many reads (single end) are in the Pacbio dataset? What is their *average* length (in bp)? What average coverage across the E. coli genome do you expect (again, assuming a genome size of 4.6 million)? Fill in the python variables with your answers below."
   ]
  },
  {
   "cell_type": "code",
   "execution_count": 5,
   "metadata": {
    "deletable": false,
    "nbgrader": {
     "cell_type": "code",
     "checksum": "c995e5fb4da6b96a5bb73c7b54f3d921",
     "grade": false,
     "grade_id": "q2-answer",
     "locked": false,
     "schema_version": 3,
     "solution": true,
     "task": false
    }
   },
   "outputs": [],
   "source": [
    "pacbio_numreads = 0 # Fill in with the number of reads\n",
    "pacbio_mean_readlen = 0 # Fill this in with the read length\n",
    "pacbio_coverage = 0 # Fill this in with the coverage\n",
    "\n",
    "# your code here\n",
    "# cat ~/public/lab2/pacbio.fastq | wc -l\n",
    "pacbio_numreads = int(382056/4)\n",
    "# cat ~/public/lab2/pacbio.fastq | awk 'NR%4==2 {print length}' | datamash mean 1\n",
    "pacbio_mean_readlen = 14547.60957556\n",
    "genome_size = 4641652\n",
    "pacbio_coverage = (pacbio_numreads*pacbio_mean_readlen)/(genome_size)\n",
    "# raise NotImplementedError"
   ]
  },
  {
   "cell_type": "code",
   "execution_count": 6,
   "metadata": {
    "deletable": false,
    "editable": false,
    "nbgrader": {
     "cell_type": "code",
     "checksum": "94ba63a54615ef022f8c0f3f794253e9",
     "grade": true,
     "grade_id": "q2-check-1",
     "locked": true,
     "points": 2,
     "schema_version": 3,
     "solution": false,
     "task": false
    }
   },
   "outputs": [],
   "source": [
    "\"\"\"Basic checks on pacbio_numreads\"\"\"\n",
    "assert(pacbio_numreads > 80000 and pacbio_numreads < 100000)\n",
    "assert(type(pacbio_numreads)==int)\n",
    "\n",
    "# Hidden tests check actual values"
   ]
  },
  {
   "cell_type": "code",
   "execution_count": 7,
   "metadata": {
    "deletable": false,
    "editable": false,
    "nbgrader": {
     "cell_type": "code",
     "checksum": "a03e6b84ded860229c90251173478e6a",
     "grade": true,
     "grade_id": "q2-check-2",
     "locked": true,
     "points": 2,
     "schema_version": 3,
     "solution": false,
     "task": false
    }
   },
   "outputs": [],
   "source": [
    "\"\"\"Basic checks on pacbio_mean_readlen\"\"\"\n",
    "assert(pacbio_mean_readlen > 10000 and pacbio_mean_readlen < 20000)\n",
    "assert(type(pacbio_mean_readlen)==float)\n",
    "# Hidden tests check actual values"
   ]
  },
  {
   "cell_type": "code",
   "execution_count": 8,
   "metadata": {
    "deletable": false,
    "editable": false,
    "nbgrader": {
     "cell_type": "code",
     "checksum": "8f990941ebabf9639dd0e3e116a1e683",
     "grade": true,
     "grade_id": "q2-check-3",
     "locked": true,
     "points": 2,
     "schema_version": 3,
     "solution": false,
     "task": false
    }
   },
   "outputs": [],
   "source": [
    "\"\"\"Basic checks on pacbio_coverage\"\"\"\n",
    "assert(pacbio_coverage > 100 and pacbio_coverage < 1000)\n",
    "assert(type(pacbio_coverage)==float)\n",
    "\n",
    "# Hidden tests check actual values"
   ]
  },
  {
   "cell_type": "markdown",
   "metadata": {
    "deletable": false,
    "editable": false,
    "nbgrader": {
     "cell_type": "markdown",
     "checksum": "c2773a6d63a2849f357839874019e862",
     "grade": false,
     "grade_id": "text-part2",
     "locked": true,
     "schema_version": 3,
     "solution": false
    }
   },
   "source": [
    "## 2. Assemble reads with minia\n",
    "\n",
    "First, we'll use a lightweight program called `minia`, which is based on de Bruijn graphs, to assemble the Illumina reads. Even though the questions above asked about the original sequencing datasets, for the assembly we'll be using the trimmed reads you generated in part 1.\n",
    "\n",
    "To get started, type `minia` at the command line to see how to use it.\n",
    "\n",
    "```\n",
    "minia\n",
    "```\n",
    "\n",
    "`minia` needs a list of our files as input, so let's make a list of files to include. We'll use this opportunity to learn about some cool Jupyter \"magics\". Cell magics start with `%%`. The cell below uses the `%%file` magic, which writes the contents of that cell to the specified file. If necessary you can edit the file below to reflect actual paths to your trimmed fastq files if you named them something else. For assembling *contigs* with minia, we will use only the shortgrag library, which is what we used to get our kmer distributions using jellyfish last time."
   ]
  },
  {
   "cell_type": "code",
   "execution_count": 14,
   "metadata": {},
   "outputs": [
    {
     "name": "stdout",
     "output_type": "stream",
     "text": [
      "Overwriting /home/l1joseph/lab2/minia_input_files.txt\n"
     ]
    }
   ],
   "source": [
    "%%file ~/lab2/minia_input_files.txt\n",
    "shortfrag_trimmed_1.fq\n",
    "shortfrag_trimmed_2.fq"
   ]
  },
  {
   "cell_type": "markdown",
   "metadata": {
    "deletable": false,
    "editable": false,
    "nbgrader": {
     "cell_type": "markdown",
     "checksum": "2a1dd6995f9ee4aec844e667df5eee6b",
     "grade": false,
     "grade_id": "text-test-minia-files",
     "locked": true,
     "schema_version": 3,
     "solution": false
    }
   },
   "source": [
    "Test that the above cell wrote your file correctly on the terminal:\n",
    "```\n",
    "cat ~/lab2/minia_input_files.txt\n",
    "```\n",
    "\n",
    "By the way, you can also run bash commands inside of your notebook. Either using a the `%%bash` magic or starting a line with an exclamation point `!` which we saw last week."
   ]
  },
  {
   "cell_type": "code",
   "execution_count": 15,
   "metadata": {
    "deletable": false,
    "editable": false,
    "nbgrader": {
     "cell_type": "code",
     "checksum": "5674c1195e45a8a71ddbc8cda8ac189c",
     "grade": false,
     "grade_id": "text-test-minia-files-2",
     "locked": true,
     "schema_version": 3,
     "solution": false
    }
   },
   "outputs": [
    {
     "name": "stdout",
     "output_type": "stream",
     "text": [
      "shortfrag_trimmed_1.fq\n",
      "shortfrag_trimmed_2.fq\n"
     ]
    }
   ],
   "source": [
    "%%bash\n",
    "# Example bash magic cell\n",
    "cat ~/lab2/minia_input_files.txt"
   ]
  },
  {
   "cell_type": "code",
   "execution_count": 16,
   "metadata": {
    "deletable": false,
    "editable": false,
    "nbgrader": {
     "cell_type": "code",
     "checksum": "75f9af23eeaa9a7f266d9dc73bed9611",
     "grade": false,
     "grade_id": "text-test-minia-files-3",
     "locked": true,
     "schema_version": 3,
     "solution": false
    }
   },
   "outputs": [
    {
     "name": "stdout",
     "output_type": "stream",
     "text": [
      "shortfrag_trimmed_1.fq\r\n",
      "shortfrag_trimmed_2.fq\r\n"
     ]
    }
   ],
   "source": [
    "# Example running command using \"!\"\n",
    "! cat ~/lab2/minia_input_files.txt"
   ]
  },
  {
   "cell_type": "markdown",
   "metadata": {
    "deletable": false,
    "editable": false,
    "nbgrader": {
     "cell_type": "markdown",
     "checksum": "b1e6937eb4099c10170712c02a390f21",
     "grade": false,
     "grade_id": "text-run-minia",
     "locked": true,
     "schema_version": 3,
     "solution": false
    }
   },
   "source": [
    "Now let's get back to running `minia`. \n",
    "\n",
    "The most important parameter is the `kmer-size`. From our jellyfish histogram of the corrected data, we know that a kmer of 18 produces a defined ‘true-reads’ peak, and we know where the valley is. For the minia command, you only want to use k-mers with abundance higher than this valley point (`-abundance-min`). \n",
    " \n",
    "Set the output prefix to `minia_assembly_18`.\n",
    "\n",
    "**Question 3 (3 pts)**: Run `minia` using a kmer size of 18 and min abundance 23. Set the value of `q3_cmd` to your command. How long did it take (in seconds)? Set the variable `q3_time` to your answer below."
   ]
  },
  {
   "cell_type": "code",
   "execution_count": 17,
   "metadata": {
    "deletable": false,
    "nbgrader": {
     "cell_type": "code",
     "checksum": "3a2cbd5804dd8dc0edf62be2efbd31c5",
     "grade": false,
     "grade_id": "q3-answer",
     "locked": false,
     "schema_version": 3,
     "solution": true,
     "task": false
    }
   },
   "outputs": [],
   "source": [
    "q3_cmd = \"\"\"\n",
    "Paste your minia command here\n",
    "\"\"\"\n",
    "\n",
    "q3_time = -1 # set to the run time of your minia command (in seconds)\n",
    "\n",
    "# your code here\n",
    "q3_cmd = \"minia -in ~/lab2/minia_input_files.txt -kmer-size 18 -abundance-min 23 -out minia_assembly_18\"\n",
    "\n",
    "q3_time = 198\n",
    "# raise NotImplementedError"
   ]
  },
  {
   "cell_type": "code",
   "execution_count": 18,
   "metadata": {
    "deletable": false,
    "editable": false,
    "nbgrader": {
     "cell_type": "code",
     "checksum": "62674573b78e5ae10c1721808a0e86a2",
     "grade": true,
     "grade_id": "q3-check",
     "locked": true,
     "points": 3,
     "schema_version": 3,
     "solution": false,
     "task": false
    }
   },
   "outputs": [],
   "source": [
    "\"\"\"Check minia command and time\"\"\"\n",
    "assert(\"minia\" in q3_cmd)\n",
    "assert(\"18\" in q3_cmd)\n",
    "assert(\"23\" in q3_cmd)\n",
    "assert(\"-kmer-size\" in q3_cmd)\n",
    "assert(\"-abundance-min\" in q3_cmd)\n",
    "assert(q3_time>60) # lots of variability, but should take more than 1 minute"
   ]
  },
  {
   "cell_type": "markdown",
   "metadata": {
    "deletable": false,
    "editable": false,
    "nbgrader": {
     "cell_type": "markdown",
     "checksum": "be7963fb6ff2dd41356d84e426a33af6",
     "grade": false,
     "grade_id": "text-q4",
     "locked": true,
     "schema_version": 3,
     "solution": false
    }
   },
   "source": [
    "Examine your assembly. The most important file minia created is the `minia_assembly_18.contigs.fa` file, which is a list of each assembled contigs in fasta format. Use `head` to look at the first few contigs.\n",
    "\n",
    "**Question 4 (5 pts)**: Gather some basic statistics about the contigs. Write one-line UNIX commands to answer the following:\n",
    "\n",
    "* How many contigs are there?\n",
    "* What is the longest contig length?\n",
    "* What is the shortest contig length?\n",
    "* What is the median contig length?\n",
    "\n",
    "Set the variable `q4_cmds` to the commands you used. Set the variables `num_contigs`, `longest_contig_length`,  `shortest_contig_length`, and `median_contig_length` to your answers to the questions above."
   ]
  },
  {
   "cell_type": "code",
   "execution_count": 19,
   "metadata": {
    "deletable": false,
    "nbgrader": {
     "cell_type": "code",
     "checksum": "1cee70a019a08fe0da44ded763b2571e",
     "grade": false,
     "grade_id": "q4-answer",
     "locked": false,
     "schema_version": 3,
     "solution": true,
     "task": false
    }
   },
   "outputs": [],
   "source": [
    "q4_cmds = \"\"\"\n",
    "Paste your commands here!\n",
    "\"\"\"\n",
    "\n",
    "# Set the variables to your answers from the above commands\n",
    "num_contigs = 0\n",
    "longest_contig_length = 0\n",
    "shortest_contig_length = 0\n",
    "median_contig_length = 0\n",
    "\n",
    "# your code here\n",
    "q4_cmds = \"\"\"\n",
    "grep -c \">\" minia_assembly_18.contigs.fa\n",
    "grep -v \">\" minia_assembly_18.contigs.fa | awk '{print length}' | sort -nr | head -n 1\n",
    "grep -v \">\" minia_assembly_18.contigs.fa | awk '{print length}' | sort -n | head -n 1\n",
    "grep -v \">\" minia_assembly_18.contigs.fa | awk '{print length}' | sort -n | awk '{a[NR]=$1} END {print a[int(NR/2)]}'\n",
    "\"\"\"\n",
    "num_contigs = 13541\n",
    "longest_contig_length = 5374\n",
    "shortest_contig_length = 18\n",
    "median_contig_length = 177\n",
    "\n",
    "# raise NotImplementedError"
   ]
  },
  {
   "cell_type": "code",
   "execution_count": 20,
   "metadata": {
    "deletable": false,
    "editable": false,
    "nbgrader": {
     "cell_type": "code",
     "checksum": "c7e1e70e3f8a68f39e74eb4706ab37b6",
     "grade": true,
     "grade_id": "q4-check-1",
     "locked": true,
     "points": 1,
     "schema_version": 3,
     "solution": false,
     "task": false
    }
   },
   "outputs": [],
   "source": [
    "\"\"\"Basic check on commands\"\"\"\n",
    "assert(q4_cmds.strip() != \"\")\n",
    "assert(\"minia_assembly_18.contigs.fa\" in q4_cmds)"
   ]
  },
  {
   "cell_type": "code",
   "execution_count": 21,
   "metadata": {
    "deletable": false,
    "editable": false,
    "nbgrader": {
     "cell_type": "code",
     "checksum": "ba72e4f85d4623944932b6200057aaac",
     "grade": true,
     "grade_id": "q4-check-2",
     "locked": true,
     "points": 1,
     "schema_version": 3,
     "solution": false,
     "task": false
    }
   },
   "outputs": [],
   "source": [
    "\"\"\"Check num_contigs\"\"\"\n",
    "# Note allow some wiggle room. Sometimes there are small differences\n",
    "assert(abs(num_contigs - 13578)<100)"
   ]
  },
  {
   "cell_type": "code",
   "execution_count": 22,
   "metadata": {
    "deletable": false,
    "editable": false,
    "nbgrader": {
     "cell_type": "code",
     "checksum": "e54d31620118fa1fdeaec79f6c0d7541",
     "grade": true,
     "grade_id": "q4-check-3",
     "locked": true,
     "points": 1,
     "schema_version": 3,
     "solution": false
    }
   },
   "outputs": [],
   "source": [
    "\"\"\"Check contig lengths\"\"\"\n",
    "# Note allow some wiggle room. Sometimes there are small differences\n",
    "assert(abs(longest_contig_length - 5374)<100)"
   ]
  },
  {
   "cell_type": "code",
   "execution_count": 23,
   "metadata": {
    "deletable": false,
    "editable": false,
    "nbgrader": {
     "cell_type": "code",
     "checksum": "5d1f8a89c0ef3db200b56e525590a0d0",
     "grade": true,
     "grade_id": "q4-check-4",
     "locked": true,
     "points": 1,
     "schema_version": 3,
     "solution": false,
     "task": false
    }
   },
   "outputs": [],
   "source": [
    "\"\"\"Check contig lengths\"\"\"\n",
    "# Note allow some wiggle room. Sometimes there are small differences\n",
    "assert(abs(shortest_contig_length - 18)<10)"
   ]
  },
  {
   "cell_type": "code",
   "execution_count": 24,
   "metadata": {
    "deletable": false,
    "editable": false,
    "nbgrader": {
     "cell_type": "code",
     "checksum": "b98e2b00dd7a9fcdc376aff19ab4cc5c",
     "grade": true,
     "grade_id": "q4-check-5",
     "locked": true,
     "points": 1,
     "schema_version": 3,
     "solution": false
    }
   },
   "outputs": [],
   "source": [
    "\"\"\"Check contig lengths\"\"\"\n",
    "# Note allow some wiggle room. Sometimes there are small differences\n",
    "assert(abs(median_contig_length - 176)<50)"
   ]
  },
  {
   "cell_type": "markdown",
   "metadata": {
    "deletable": false,
    "editable": false,
    "nbgrader": {
     "cell_type": "markdown",
     "checksum": "501fe8765589267ca13d50ffe8f92cc1",
     "grade": false,
     "grade_id": "text-q5",
     "locked": true,
     "schema_version": 3,
     "solution": false
    }
   },
   "source": [
    "**Question 5 (5 pts)**:  Compute the N50 value of your short read assembly. You can use the approximate size of the E. coli genome that you computed in the last lab section. You may use whatever method you like to compute this based on your contigs fasta file. For example, you can write your own script or UNIX command, or you may search for a tool online that can compute this for you.\n",
    "\n",
    "Paste the commands you used in `q5_cmds` below. Report the estimated N50 in `q5_N50`. You should use *all* contigs to compute the N50."
   ]
  },
  {
   "cell_type": "code",
   "execution_count": 25,
   "metadata": {
    "deletable": false,
    "nbgrader": {
     "cell_type": "code",
     "checksum": "d5c63c7cb982a2dcc527dc23006622c4",
     "grade": false,
     "grade_id": "q5-answer",
     "locked": false,
     "schema_version": 3,
     "solution": true,
     "task": false
    }
   },
   "outputs": [],
   "source": [
    "q5_cmds = \"\"\"\n",
    "Change to commands you used to get the N50\n",
    "\"\"\"\n",
    "\n",
    "q5_N50 = -1 # Set to the estimated N50\n",
    "\n",
    "# your code here\n",
    "q5_cmds = \"\"\"\n",
    "cp ~/lab2/minia_assembly_18.contigs.fa ~/lab2-spring24/\n",
    "\n",
    "def compute_n50(lengths, genome_size):\n",
    "    sorted_lengths = sorted(lengths, reverse=True)\n",
    "    total_length = sum(lengths)\n",
    "    target_length = genome_size * 0.5\n",
    "    \n",
    "    current_length = 0\n",
    "    for length in sorted_lengths:\n",
    "        current_length += length\n",
    "        if current_length >= target_length:\n",
    "            return length\n",
    "    \n",
    "    return 0\n",
    "\n",
    "# extract contig lengths from the file\n",
    "contig_lengths_file = \"minia_assembly_18.contigs.fa\"\n",
    "genome_size = 4577109\n",
    "\n",
    "with open(contig_lengths_file, \"r\") as file:\n",
    "    lengths = []\n",
    "    for line in file:\n",
    "        if not line.startswith(\">\"):\n",
    "            lengths.append(len(line.strip()))\n",
    "\n",
    "n50 = compute_n50(lengths, genome_size)\n",
    "print(f\"N50: {n50}\")\n",
    "\"\"\"\n",
    "\n",
    "q5_N50 = 801 # Set to the estimated N50\n",
    "# raise NotImplementedError"
   ]
  },
  {
   "cell_type": "code",
   "execution_count": 26,
   "metadata": {
    "deletable": false,
    "editable": false,
    "nbgrader": {
     "cell_type": "code",
     "checksum": "f7978da02308b02d8f6e572f09a3838d",
     "grade": true,
     "grade_id": "q5-check-1",
     "locked": true,
     "points": 3,
     "schema_version": 3,
     "solution": false,
     "task": false
    }
   },
   "outputs": [],
   "source": [
    "\"\"\"Basic check on q5_commands\"\"\"\n",
    "# Lots of ways to do this. Just check this was set to something.\n",
    "assert(q5_cmds.strip() != \"\")\n",
    "assert(q5_cmds.strip() != \"Change to commands you used to get the N50\")"
   ]
  },
  {
   "cell_type": "code",
   "execution_count": 27,
   "metadata": {
    "deletable": false,
    "editable": false,
    "nbgrader": {
     "cell_type": "code",
     "checksum": "3d83495bf3cff96f4e25cda04035427f",
     "grade": true,
     "grade_id": "q5-check-2",
     "locked": true,
     "points": 2,
     "schema_version": 3,
     "solution": false,
     "task": false
    }
   },
   "outputs": [],
   "source": [
    "\"\"\"Basic check on q5_N50\"\"\"\n",
    "assert(type(q5_N50)==int)\n",
    "assert(q5_N50>700 and q5_N50<1000)"
   ]
  },
  {
   "cell_type": "markdown",
   "metadata": {
    "deletable": false,
    "editable": false,
    "nbgrader": {
     "cell_type": "markdown",
     "checksum": "0d7ced0fc03ad233fa609b999f6798d1",
     "grade": false,
     "grade_id": "q6-text",
     "locked": true,
     "schema_version": 3,
     "solution": false,
     "task": false
    }
   },
   "source": [
    "**Question 6 (4 pts)**: We chose a specific value for $k$ (18) for our `minia` assembly. \n",
    "\n",
    "**6.1**: What do you think would happen if we chose a larger value of $k$? \n",
    "\n",
    "**6.2**: What do you think would happen if we chose a smaller value of $k$? \n",
    "\n",
    "Choose from:\n",
    "\n",
    "* A: The sequencing coverage will go down, resulting in a lower quality assembly.\n",
    "* B: We will be less likely to observe the same exact kmer multiple times since errors in reads will result in mismatches between kmers.\n",
    "* C: Individual kmers will be less likely to be unique, resulting in a lot of unresolved loops in the assembly.\n",
    "\n",
    "Set `q6_1` and `q6_2` to your answers below.\n",
    "\n",
    "If you choose too short of a kmer, individual kmers will be less likely to be unique, resulting in a lot of unresolved loops in the assembly.\n",
    "If you choose too long of a kmer, if there are errors in the reads it will be unlikely to observe the same kmer multiple times, making it difficult to find reads to stitch together."
   ]
  },
  {
   "cell_type": "code",
   "execution_count": 28,
   "metadata": {
    "deletable": false,
    "nbgrader": {
     "cell_type": "code",
     "checksum": "769cedaa10893387d39154c9998b94ed",
     "grade": false,
     "grade_id": "q6-answer",
     "locked": false,
     "schema_version": 3,
     "solution": true,
     "task": false
    }
   },
   "outputs": [],
   "source": [
    "q6_1 = None # Set to answer to 6.1\n",
    "q6_2 = None # Set to answer to 6.2\n",
    "\n",
    "# your code here\n",
    "q6_1 = \"B\"\n",
    "q6_2 = \"C\"\n",
    "\n",
    "# raise NotImplementedError"
   ]
  },
  {
   "cell_type": "code",
   "execution_count": 29,
   "metadata": {
    "deletable": false,
    "editable": false,
    "nbgrader": {
     "cell_type": "code",
     "checksum": "70c8aff718ba6d04c1aaaded95fce34c",
     "grade": true,
     "grade_id": "q6-check-1",
     "locked": true,
     "points": 2,
     "schema_version": 3,
     "solution": false,
     "task": false
    }
   },
   "outputs": [],
   "source": [
    "\"\"\" Basic check on answer to 6.1\"\"\"\n",
    "assert(q6_1 in [\"A\",\"B\",\"C\"])\n",
    "# Hidden tests check actual answer"
   ]
  },
  {
   "cell_type": "code",
   "execution_count": 30,
   "metadata": {
    "deletable": false,
    "editable": false,
    "nbgrader": {
     "cell_type": "code",
     "checksum": "a3488d466652d95ea3482183bc75b449",
     "grade": true,
     "grade_id": "q6-check-2",
     "locked": true,
     "points": 2,
     "schema_version": 3,
     "solution": false,
     "task": false
    }
   },
   "outputs": [],
   "source": [
    "\"\"\" Basic check on answer to 6.2\"\"\"\n",
    "assert(q6_2 in [\"A\",\"B\",\"C\"])\n",
    "# Hidden tests check actual answer"
   ]
  },
  {
   "cell_type": "markdown",
   "metadata": {
    "deletable": false,
    "editable": false,
    "nbgrader": {
     "cell_type": "markdown",
     "checksum": "618fc1e673533e972dd6d127a745c6aa",
     "grade": false,
     "grade_id": "text-conclusion-part2",
     "locked": true,
     "schema_version": 3,
     "solution": false,
     "task": false
    }
   },
   "source": [
    "In a perfect world, we'd end up with an assembly of E. coli with only a single contig, since E. coli has only a single chromosome. You'll notice that our results with short reads still have a long way to go! (We ended up with thousands of contigs, and don't know how they should all be stitched together). In the next section, we'll see how much better we can do when performing assembly with long reads instead."
   ]
  },
  {
   "cell_type": "markdown",
   "metadata": {
    "deletable": false,
    "editable": false,
    "nbgrader": {
     "cell_type": "markdown",
     "checksum": "2b57ca54bc5c7b9c17449b89a1d7f78a",
     "grade": false,
     "grade_id": "text-flye",
     "locked": true,
     "schema_version": 3,
     "solution": false,
     "task": false
    }
   },
   "source": [
    "## 3. Installing Flye\n",
    "\n",
    "Now, we will assemble the E. coli genome using long reads from the Pacbio Hifi platform. As we'll discuss in class, assembly methods that work for short reads (like from Illumina) will not work as well for long read data. For this section, we'll be using a different assembly tool, called Flye (see https://www.nature.com/articles/s41587-019-0072-8, developed right here at UCSD!).\n",
    "\n",
    "To prepare you for your final project (and bioinformatics in the real world), we have not installed Flye, so you will need to install it yourself. Note, there are generally two ways that command line tools can be installed:\n",
    "\n",
    "* \"Global\": tools that are installed globally are available to all users in the system. Usually you need to have root (sudo) permissions to install tools globally. We have installed many tools, such as `minia` and `bwa` so that you didn't have to install those on your own.\n",
    "\n",
    "* \"Local\": tools that are installed locally are only available to the user that installed them. While you do not have permissions to install tools globally, you can usually install a tool locally just for yourself.\n",
    "\n",
    "Head to the github page for Flye: https://github.com/fenderglass/Flye, and follow the link for \"Installation instructions\". Follow the instructions under \"Installing from source\" to install Flye. You should see the following instructions:\n",
    "\n",
    "```shell\n",
    "git clone https://github.com/fenderglass/Flye # make a copy of the repo in your local directory on datahub\n",
    "cd Flye # change to the Flye directory\n",
    "make # compile \n",
    "```\n",
    "\n",
    "To see if your install worked, type:\n",
    "\n",
    "```shell\n",
    "python bin/flye # this assumes you are in the Flye directory. If you are not, you'll need to change this relative path\n",
    "```\n",
    "\n",
    "This should bring up a help message. "
   ]
  },
  {
   "cell_type": "markdown",
   "metadata": {
    "deletable": false,
    "editable": false,
    "nbgrader": {
     "cell_type": "markdown",
     "checksum": "34f4d074468978ce6971417cb859a65f",
     "grade": false,
     "grade_id": "flye-text",
     "locked": true,
     "schema_version": 3,
     "solution": false,
     "task": false
    }
   },
   "source": [
    "## 4. Assemble the PacBio reads with Flye\n",
    "\n",
    "Now, we're ready to run Flye! Read through the Flye website, or the help message when you type `python bin/flye`, to see how to run it on our pacbio reads. Save the output to `~/lab2`. You can also use multiple threads (I used 4) on the high memory instances.\n",
    "\n",
    "Note, this might take a little while. With 4 threads, my run took less than an hour. Recall, to run a process in the background you can do:\n",
    "\n",
    "```shell\n",
    "nohup [command] &\n",
    "```\n",
    "\n",
    "This will write everything that would have been printed to the terminal to `nohup.out` and will keep running even after you close your computer.\n",
    "\n",
    "**Question 7 (5 pts)**: Set `q7_cmd` to the command you used to run flye. "
   ]
  },
  {
   "cell_type": "code",
   "execution_count": 31,
   "metadata": {
    "deletable": false,
    "nbgrader": {
     "cell_type": "code",
     "checksum": "fc056db569c4f49df582d3fd6f0dba0d",
     "grade": false,
     "grade_id": "q7-answer",
     "locked": false,
     "schema_version": 3,
     "solution": true,
     "task": false
    }
   },
   "outputs": [],
   "source": [
    "q7_cmd = \"\"\"\n",
    "Paste your Flye command here\n",
    "\"\"\"\n",
    "# your code here\n",
    "\n",
    "q7_cmd = \"nohup flye --pacbio-hifi ~/public/lab2/pacbio.fastq --out-dir ~/lab2/flye_output --threads 4 &\"\n",
    "# raise NotImplementedError"
   ]
  },
  {
   "cell_type": "code",
   "execution_count": 32,
   "metadata": {
    "deletable": false,
    "editable": false,
    "nbgrader": {
     "cell_type": "code",
     "checksum": "48f8cb02cef41d00143628a3b1fd6e53",
     "grade": true,
     "grade_id": "q7-test-1",
     "locked": true,
     "points": 2,
     "schema_version": 3,
     "solution": false,
     "task": false
    }
   },
   "outputs": [],
   "source": [
    "\"\"\"Basic checks on flye command\"\"\"\n",
    "assert(\"flye\" in q7_cmd)"
   ]
  },
  {
   "cell_type": "code",
   "execution_count": 33,
   "metadata": {
    "deletable": false,
    "editable": false,
    "nbgrader": {
     "cell_type": "code",
     "checksum": "557055de2bf72abd3d5ce44ab55bf31f",
     "grade": true,
     "grade_id": "q7-test-2",
     "locked": true,
     "points": 2,
     "schema_version": 3,
     "solution": false,
     "task": false
    }
   },
   "outputs": [],
   "source": [
    "\"\"\"Basic checks on flye command\"\"\"\n",
    "assert(\"--pacbio-hifi\" in q7_cmd)\n",
    "# Hidden tests"
   ]
  },
  {
   "cell_type": "code",
   "execution_count": 34,
   "metadata": {
    "deletable": false,
    "editable": false,
    "nbgrader": {
     "cell_type": "code",
     "checksum": "8ff0b84b9bd3d9384034845938cb92f7",
     "grade": true,
     "grade_id": "q7-test-3",
     "locked": true,
     "points": 1,
     "schema_version": 3,
     "solution": false,
     "task": false
    }
   },
   "outputs": [],
   "source": [
    "\"\"\"Basic checks on flye command\"\"\"\n",
    "assert(\"-o\" in q7_cmd or \"--out-dir\" in q7_cmd)"
   ]
  },
  {
   "cell_type": "markdown",
   "metadata": {
    "deletable": false,
    "editable": false,
    "nbgrader": {
     "cell_type": "markdown",
     "checksum": "9905fa707389383b48f2a3eedce8fd1f",
     "grade": false,
     "grade_id": "q8-text",
     "locked": true,
     "schema_version": 3,
     "solution": false,
     "task": false
    }
   },
   "source": [
    "Examine the Flye output. The most important files are:\n",
    "\n",
    "* `assembly.fasta`: fasta file with the final assembly. \n",
    "\n",
    "* `assembly_graph.gfa`: the repeat graph. See a description here: https://github.com/GFA-spec/GFA-spec/blob/master/GFA2.md of GFA format. \n",
    "\n",
    "* `assembly_info.txt`: contains additional information about the assembly.\n",
    "\n",
    "**Question 8 (3 pts)** How many contigs did Flye output? What is the N50? Set the variables `q8_numcontigs` and `q8_N50` to your answers below."
   ]
  },
  {
   "cell_type": "code",
   "execution_count": 35,
   "metadata": {
    "deletable": false,
    "nbgrader": {
     "cell_type": "code",
     "checksum": "68635b332fccfff5a436eb07f8cad2ab",
     "grade": false,
     "grade_id": "q8-answer",
     "locked": false,
     "schema_version": 3,
     "solution": true,
     "task": false
    }
   },
   "outputs": [],
   "source": [
    "q8_numcontigs = 0 # set to your answer\n",
    "q8_N50 = 0 # set to your answer\n",
    "\n",
    "# your code here\n",
    "q8_numcontigs = 1\n",
    "q8_N50 = 4642499\n",
    "# raise NotImplementedError"
   ]
  },
  {
   "cell_type": "code",
   "execution_count": 36,
   "metadata": {
    "deletable": false,
    "editable": false,
    "nbgrader": {
     "cell_type": "code",
     "checksum": "5413f7c1ff41e5758f502e5309c542e1",
     "grade": true,
     "grade_id": "q8-check-1",
     "locked": true,
     "points": 2,
     "schema_version": 3,
     "solution": false,
     "task": false
    }
   },
   "outputs": [],
   "source": [
    "\"\"\"Basic check on numcontigs\"\"\"\n",
    "assert(type(q8_numcontigs)==int)\n",
    "assert(q8_numcontigs > 0 and q8_numcontigs < 10)\n",
    "# Hidden tests check actual answer"
   ]
  },
  {
   "cell_type": "code",
   "execution_count": 37,
   "metadata": {
    "deletable": false,
    "editable": false,
    "nbgrader": {
     "cell_type": "code",
     "checksum": "616ce6e2d06a3b7af7a8e43aee1d1c2a",
     "grade": true,
     "grade_id": "q8-check-2",
     "locked": true,
     "points": 1,
     "schema_version": 3,
     "solution": false,
     "task": false
    }
   },
   "outputs": [],
   "source": [
    "\"\"\"Basic checks on N50\"\"\"\n",
    "assert(type(q8_N50)==int)\n",
    "assert(q8_N50>4600000 and q8_N50<4700000)"
   ]
  },
  {
   "cell_type": "markdown",
   "metadata": {
    "deletable": false,
    "editable": false,
    "nbgrader": {
     "cell_type": "markdown",
     "checksum": "5a9e1a2c54d9a2e35dae0fbd5683f17e",
     "grade": false,
     "grade_id": "text-quast",
     "locked": true,
     "schema_version": 3,
     "solution": false,
     "task": false
    }
   },
   "source": [
    "## 5. Evaluating assemblies with QUAST\n",
    "\n",
    "Since we are using raw data from a genome that is actually already solved, we can align our contigs to that reference to evaluate our de novo assembly performance. Remember, if we were trying to solve the genome of a new or unknown organism, we wouldn’t be able to do this, but we could try using a close relative.\n",
    "\n",
    "The NCBI id of the E. coli strain used here is NC_000913.3. The reference genome fasta file and gene annotations (GFF file) are available here: https://www.ncbi.nlm.nih.gov/nuccore/NC_000913.3. Download the reference fasta file and upload it to datahub in your `~/lab2` directory. Mine was called `sequence.fasta`.\n",
    "\n",
    "We will use a tool called [QUAST](https://quast.sourceforge.net/) for comparing assemblies. First you will need to install QUAST on your datahub account:\n",
    "\n",
    "```\n",
    "pip install --user quast\n",
    "export PATH=$PATH:/home/grader-cse185-01/.local/bin\n",
    "```\n",
    "\n",
    "Use quast to align your assemblies to the actual reference sequence of the bacterial strain used to generate the original data. You can use a command like the following:\n",
    "\n",
    "```\n",
    "quast.py minia_assembly_18.contigs.fa Flye/assembly.fasta -r sequence.fasta --gene-finding --min-contig 0\n",
    "```\n",
    "\n",
    "This is telling QUAST to evaluate your minia assembly (`minia_assembly_18.contigs.fa`) and your Flye assembly (`Flye/assembly.fasta`) and use the known E. coli genome you downloaded (`sequence.fasta`) as a reference. We are using the `--gene-finding` option instead of supplying known gene annotations. Setting `--min-contig 0` tells QUAST to consider all contigs (by default it ignores those with length $<500$bp.\n",
    "\n",
    "After a successful run, QUAST will output results to the `quast_results` folder. There are many output files. `report.pdf` has most of what you need.\n",
    "\n",
    "You can check your answers for N50 values above based on those computed in QUAST. Do they match?\n",
    "\n",
    "You may also use the \"Icarus\" browser to explore the differences between assemblies.\n",
    "\n",
    "**Question 9 (3 pts)** Which of the following is true? Set the variable `q9_answer` to your answer.\n",
    "\n",
    "* A: The NGA50 of the Illumina assembly is higher.\n",
    "* B: The Pacbio assembly has fewer contigs than the Illumina assembly.\n",
    "* C: The Illumina assembly has fewer contigs than the Pacbio assembly.\n",
    "* D: The Illumina assembly has more indels."
   ]
  },
  {
   "cell_type": "code",
   "execution_count": 38,
   "metadata": {
    "deletable": false,
    "nbgrader": {
     "cell_type": "code",
     "checksum": "4da97cdcfc626746bd32b65503d91c6b",
     "grade": false,
     "grade_id": "q9-answer",
     "locked": false,
     "schema_version": 3,
     "solution": true,
     "task": false
    }
   },
   "outputs": [],
   "source": [
    "q9_answer = \"\" # Set to your answer\n",
    "\n",
    "# your code here\n",
    "q9_answer = \"B\"\n",
    "# raise NotImplementedError"
   ]
  },
  {
   "cell_type": "code",
   "execution_count": 39,
   "metadata": {
    "deletable": false,
    "editable": false,
    "nbgrader": {
     "cell_type": "code",
     "checksum": "9d18416e77589423abe03223ac987b4d",
     "grade": true,
     "grade_id": "q9-check",
     "locked": true,
     "points": 3,
     "schema_version": 3,
     "solution": false,
     "task": false
    }
   },
   "outputs": [],
   "source": [
    "\"\"\" Basic check on q9 answer\"\"\"\n",
    "assert(q9_answer in [\"A\",\"B\",\"C\",\"D\"])\n",
    "# Hidden tests check actual answer"
   ]
  }
 ],
 "metadata": {
  "kernelspec": {
   "display_name": "Python 3 (ipykernel)",
   "language": "python",
   "name": "python3"
  },
  "language_info": {
   "codemirror_mode": {
    "name": "ipython",
    "version": 3
   },
   "file_extension": ".py",
   "mimetype": "text/x-python",
   "name": "python",
   "nbconvert_exporter": "python",
   "pygments_lexer": "ipython3",
   "version": "3.9.5"
  }
 },
 "nbformat": 4,
 "nbformat_minor": 2
}
