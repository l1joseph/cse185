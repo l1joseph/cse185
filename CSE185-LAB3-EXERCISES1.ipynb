{
 "cells": [
  {
   "cell_type": "markdown",
   "metadata": {
    "deletable": false,
    "editable": false,
    "nbgrader": {
     "cell_type": "markdown",
     "checksum": "6be5853d771dc3698b22276921c3dd53",
     "grade": false,
     "grade_id": "lab3ex1-introtext-1",
     "locked": true,
     "schema_version": 3,
     "solution": false
    }
   },
   "source": [
    "# Lab 3 : Population genetics\n",
    "\n",
    "## Exercises 1 (10 pts)\n",
    "\n",
    "This week's exercises consist of two parts, broken into two notebooks:\n",
    "* Part 1 (10 pts): We'll become familiar with the concepts of genotype and allele frequencies, and how they behave when we are looking at large or diverse populations. \n",
    "* Part 2 (10 pts): We'll explore linear regression, p-values, and effect sizes.\n",
    "\n",
    "Reminder, you may work with a partner or consult your classmates for help!"
   ]
  },
  {
   "cell_type": "markdown",
   "metadata": {
    "deletable": false,
    "editable": false,
    "nbgrader": {
     "cell_type": "markdown",
     "checksum": "4162d87f2962ac0917af3281133a3bd1",
     "grade": false,
     "grade_id": "lab3ex1-introtext-2",
     "locked": true,
     "schema_version": 3,
     "solution": false
    }
   },
   "source": [
    "## 1. Allele and genotype frequencies\n",
    "\n",
    "If you were to look at the genomes of two unrelated people, the vast majority would be the same. But in some cases, mutations have arisen over time that make genomes slightly different from each other.\n",
    "\n",
    "For this week, we'll focus almost exclusely on a type of genetic variation (mutation) which we call \"SNPs\" (single nucleotide polymorphisms). A SNP can be thought of simply as a spelling mistake, where originally there was a particular nucleotide at a position in the genome (say \"A\"), but at some point there was a mutation (for example, changing the \"A\" to a \"C\"). \n",
    "\n",
    "We use **allele** to refer to a particular \"version\" of a SNP. For example a SNP may have to different *alleles* (e.g. \"A\" or \"C\").\n",
    "\n",
    "A **genotype** is the combination of an individual's two alleles (since humans are diploid, meaning we have two copies of each chromosome except for the sex chromosomes). So for a T/A SNP a person's genotype can be either TT, AT, or AA. (At least for now, we don't care about the order of alleles in heterozygous SNPs. So you could also say \"TA\" instead of \"AT\".\n",
    "\n",
    "**Question 1 (2 pts)**: For a SNP with alleles \"G\" and \"C\", what are all possible diploid genotypes\"? Set the list `possible_gts` to your answer below. An example is shown for you. Please keep alleles in uppercase."
   ]
  },
  {
   "cell_type": "code",
   "execution_count": 3,
   "metadata": {
    "deletable": false,
    "nbgrader": {
     "cell_type": "code",
     "checksum": "6a24a41bcc473d57d57a474e21e1a67b",
     "grade": false,
     "grade_id": "answer-snpgt",
     "locked": false,
     "schema_version": 3,
     "solution": true
    }
   },
   "outputs": [],
   "source": [
    "# Example: what are the possible genotypes for a SNP with alleles \"A\" and \"G\"?\n",
    "possible_gts_AG = [\"AA\",\"AG\",\"GG\"]\n",
    "\n",
    "# What are the possible genotypes for a SNP with alleles \"G\" and \"C\"?\n",
    "possible_gts_GC = [] \n",
    "\n",
    "# your code here\n",
    "possible_gts_GC = [\"GG\", \"GC\", \"CC\"] \n",
    "# raise NotImplementedError"
   ]
  },
  {
   "cell_type": "code",
   "execution_count": 4,
   "metadata": {
    "deletable": false,
    "editable": false,
    "nbgrader": {
     "cell_type": "code",
     "checksum": "2be90f9811fc0044024c2d5e13f2f625",
     "grade": true,
     "grade_id": "test-snpgt",
     "locked": true,
     "points": 2,
     "schema_version": 3,
     "solution": false
    }
   },
   "outputs": [],
   "source": [
    "\"\"\"Test the list of possible genotypes is correct\"\"\"\n",
    "assert(len(possible_gts_AG)==3)\n",
    "assert(\"AA\" in possible_gts_AG)\n",
    "assert(\"GA\" in possible_gts_AG or \"AG\" in possible_gts_AG)\n",
    "assert(\"GG\" in possible_gts_AG)\n"
   ]
  },
  {
   "cell_type": "markdown",
   "metadata": {
    "deletable": false,
    "editable": false,
    "nbgrader": {
     "cell_type": "markdown",
     "checksum": "91f827d77ed609094f70ec7ff62d13da",
     "grade": false,
     "grade_id": "lab3ex1-introtext-3",
     "locked": true,
     "schema_version": 3,
     "solution": false
    }
   },
   "source": [
    "We can think of all of the copies of a chromosome in the population (2 per person) as deriving from some common ancestor a long time ago. The leaves of the tree below are all the present-day copies of the chromosome. Since humans are diploid, humans each have two copies (right).\n",
    "\n",
    "<img src=popgen_fig1.png width=800>\n",
    "\n",
    "Once a mutation arises on one copy of a chromosome, it can be passed on to future generations and can eventually spread throughout the population (see left figure above).\n",
    "\n",
    "We use **allele frequency** to refer to the frequency of a particular allele out of all the copies of the genome in population. \n",
    "\n",
    "We use **genotype frequency** to refer to the frequency of each of possible *genotype* (consisting of two alleles) in the population.\n",
    "\n",
    "Since we each have two copies of each chromosome, allele frequency is usually the number of times the allele was seen divided by two times the number of people we analyzed (ignoring sex chromosomes or mitochondria).\n",
    "\n",
    "For example, consider an \"A/T\" SNP that we are analyzing in a set of 1,000 people. We find that 40 people have genotype AA, 320 have genotype AT, and 640 have genotype TT:\n",
    "\n",
    "* The *genotype frequencies* are: AA=40/1000 = 4%, AT=320/1000 = 32%, and TT=640/1000 = 64%.\n",
    "* To find the *allele frequencies*:\n",
    "  * We have 2,000 (2*number of people) total copies of the chromosome\n",
    "  * For A, 40 people have two copies of A and 320 people have one copy of A, so there are $40*2+320 = 400$ total copies of A.\n",
    "  * Similarly, there are $640*2+320=1600$ copies of T\n",
    "  * So the allele frequencies are A=400/2000 = 20%, T=1600/2000 = 80%\n",
    "  \n",
    "We use **minor allele** to refer to the allele at a position that is least frequent in the population, and **major allele** to refer to the most common allele. (Note, in some cases the reference allele is actually the minor allele!). In the example above, A is the minor allele.\n",
    "\n",
    "We use **minor allele frequency (MAF)** to refer to the frequency of the minor allele. In the example above, the MAF is 0.2.\n",
    "\n",
    "**Question 2 (7 pts)**: Complete the function `ComputeMinorAlleleFrequency` to compute the minor allele frequency of a SNP, given the counts of all the possible genotypes observed in a dataset.\n",
    "\n",
    "The cell below tests your function on the example given above. Additional tests, some of which are hidden, check your answers for other examples."
   ]
  },
  {
   "cell_type": "code",
   "execution_count": 13,
   "metadata": {
    "deletable": false,
    "nbgrader": {
     "cell_type": "code",
     "checksum": "620e66fe654109f7195b55a2872ba532",
     "grade": false,
     "grade_id": "answer-freqs-v2",
     "locked": false,
     "schema_version": 3,
     "solution": true,
     "task": false
    }
   },
   "outputs": [
    {
     "name": "stdout",
     "output_type": "stream",
     "text": [
      "Genotype frequencies:\n",
      "AA: 0.04\n",
      "AT: 0.32\n",
      "TT: 0.64\n",
      "Possible alleles: {'T', 'A'}\n",
      "Expected MAF=0.20; Observed MAF=0.20\n"
     ]
    }
   ],
   "source": [
    "def ComputeMinorAlleleFrequency(gt_counts):\n",
    "    \"\"\"\n",
    "    Compute frequencies of each genotype\n",
    "    \n",
    "    Parameters\n",
    "    ----------\n",
    "    gt_counts : dict[str]->int\n",
    "       Count of how many times each genotype was seen\n",
    "       e.g. {\"AA\": 40, \"AT\": 320, \"TT\":\" 640\"}\n",
    "    Returns\n",
    "    -------\n",
    "    maf : float\n",
    "       Minor allele frequency\n",
    "       Return -1 if more than two alleles identified\n",
    "    \"\"\"\n",
    "    # Print out some basic stats about the\n",
    "    # genotypes and alleles\n",
    "    gts = gt_counts.keys()\n",
    "    print(\"Genotype frequencies:\")\n",
    "    for gt in gts:\n",
    "        print(\"%s: %.2f\"%(gt, gt_counts[gt]/sum(gt_counts.values())))\n",
    "    alleles = set(\"\".join(gts))\n",
    "    if len(alleles) > 2:\n",
    "        print(\"ERROR: more than 2 alleles identified\")\n",
    "        return -1\n",
    "    print(\"Possible alleles: %s\"%alleles)\n",
    "    # Compute minor allele frequency\n",
    "    maf = -1\n",
    "    # your code here\n",
    "    allele_counts = {}\n",
    "    total_alleles = sum(gt_counts.values())*2\n",
    "\n",
    "    for gt, count in gt_counts.items():\n",
    "        for allele in gt:\n",
    "            allele_counts[allele] = allele_counts.get(allele, 0) + count\n",
    "    allele_freqs = {allele: count / total_alleles for allele, count in allele_counts.items()}\n",
    "    maf = min(allele_freqs.values())\n",
    "    \n",
    "#     raise NotImplementedError\n",
    "    return maf\n",
    "    \n",
    "ex_gt_counts = {\n",
    "    \"AA\": 40,\n",
    "    \"AT\": 320,\n",
    "    \"TT\": 640\n",
    "}\n",
    "print(\"Expected MAF=0.20; Observed MAF=%.2f\"%ComputeMinorAlleleFrequency(ex_gt_counts))"
   ]
  },
  {
   "cell_type": "code",
   "execution_count": 14,
   "metadata": {
    "deletable": false,
    "editable": false,
    "nbgrader": {
     "cell_type": "code",
     "checksum": "9344735e4b15a8480f8b4b26d76e83af",
     "grade": true,
     "grade_id": "check-freqs-1",
     "locked": true,
     "points": 2,
     "schema_version": 3,
     "solution": false,
     "task": false
    }
   },
   "outputs": [
    {
     "name": "stdout",
     "output_type": "stream",
     "text": [
      "Genotype frequencies:\n",
      "AG: 0.20\n",
      "GG: 0.40\n",
      "AA: 0.40\n",
      "Possible alleles: {'A', 'G'}\n"
     ]
    }
   ],
   "source": [
    "\"\"\"Test results of ComputeMinorAlleleFrequency\"\"\"\n",
    "ex_gt_counts_2 = {\n",
    "    \"AG\": 10,\n",
    "    \"GG\": 20,\n",
    "    \"AA\": 20\n",
    "}\n",
    "assert(ComputeMinorAlleleFrequency(ex_gt_counts_2)==0.50)"
   ]
  },
  {
   "cell_type": "code",
   "execution_count": 15,
   "metadata": {
    "deletable": false,
    "editable": false,
    "nbgrader": {
     "cell_type": "code",
     "checksum": "7b8e65cf81b9ec149a4692d6bc401745",
     "grade": true,
     "grade_id": "check-freqs-2",
     "locked": true,
     "points": 2,
     "schema_version": 3,
     "solution": false,
     "task": false
    }
   },
   "outputs": [
    {
     "name": "stdout",
     "output_type": "stream",
     "text": [
      "Genotype frequencies:\n",
      "AC: 0.10\n",
      "CC: 0.20\n",
      "AA: 0.70\n",
      "Possible alleles: {'C', 'A'}\n"
     ]
    }
   ],
   "source": [
    "\"\"\"Test results of ComputeMinorAlleleFrequency\"\"\"\n",
    "ex_gt_counts_2 = {\n",
    "    \"AC\": 10,\n",
    "    \"CC\": 20,\n",
    "    \"AA\": 70\n",
    "}\n",
    "assert(ComputeMinorAlleleFrequency(ex_gt_counts_2)==0.25)"
   ]
  },
  {
   "cell_type": "code",
   "execution_count": 16,
   "metadata": {
    "deletable": false,
    "editable": false,
    "nbgrader": {
     "cell_type": "code",
     "checksum": "1ddc5dae232abf4b46729f7d6d6e204d",
     "grade": true,
     "grade_id": "check-freqs-3",
     "locked": true,
     "points": 1,
     "schema_version": 3,
     "solution": false,
     "task": false
    }
   },
   "outputs": [
    {
     "name": "stdout",
     "output_type": "stream",
     "text": [
      "Genotype frequencies:\n",
      "AC: 0.10\n",
      "CC: 0.70\n",
      "AA: 0.20\n",
      "Possible alleles: {'C', 'A'}\n"
     ]
    }
   ],
   "source": [
    "\"\"\"Test results of ComputeMinorAlleleFrequency\"\"\"\n",
    "ex_gt_counts_2 = {\n",
    "    \"AC\": 10,\n",
    "    \"CC\": 70,\n",
    "    \"AA\": 20\n",
    "}\n",
    "assert(ComputeMinorAlleleFrequency(ex_gt_counts_2)==0.25)"
   ]
  },
  {
   "cell_type": "code",
   "execution_count": 17,
   "metadata": {
    "deletable": false,
    "editable": false,
    "nbgrader": {
     "cell_type": "code",
     "checksum": "f81bd3496bb26a3eb0d34ea38cd3bdd1",
     "grade": true,
     "grade_id": "check-freqs-4",
     "locked": true,
     "points": 1,
     "schema_version": 3,
     "solution": false,
     "task": false
    }
   },
   "outputs": [
    {
     "name": "stdout",
     "output_type": "stream",
     "text": [
      "Genotype frequencies:\n",
      "AC: 0.00\n",
      "CC: 0.80\n",
      "AA: 0.20\n",
      "Possible alleles: {'C', 'A'}\n"
     ]
    }
   ],
   "source": [
    "\"\"\"Test results of ComputeMinorAlleleFrequency\"\"\"\n",
    "ex_gt_counts_2 = {\n",
    "    \"AC\": 0,\n",
    "    \"CC\": 40,\n",
    "    \"AA\": 10\n",
    "}\n",
    "assert(ComputeMinorAlleleFrequency(ex_gt_counts_2)==0.2)"
   ]
  },
  {
   "cell_type": "code",
   "execution_count": 18,
   "metadata": {
    "deletable": false,
    "editable": false,
    "nbgrader": {
     "cell_type": "code",
     "checksum": "8965deb4fed6ee6c942a8f99ad47d6f9",
     "grade": true,
     "grade_id": "check-freqs-5",
     "locked": true,
     "points": 1,
     "schema_version": 3,
     "solution": false,
     "task": false
    }
   },
   "outputs": [
    {
     "data": {
      "text/plain": [
       "'Test results of ComputeMinorAlleleFrequency'"
      ]
     },
     "execution_count": 18,
     "metadata": {},
     "output_type": "execute_result"
    }
   ],
   "source": [
    "\"\"\"Test results of ComputeMinorAlleleFrequency\"\"\"\n",
    "# Hidden test"
   ]
  },
  {
   "cell_type": "markdown",
   "metadata": {
    "deletable": false,
    "editable": false,
    "nbgrader": {
     "cell_type": "markdown",
     "checksum": "2814919bae7de43a95735e624f07bf21",
     "grade": false,
     "grade_id": "lab3ex1-introtext-4",
     "locked": true,
     "schema_version": 3,
     "solution": false
    }
   },
   "source": [
    "## 2. Mutations in populations\n",
    "\n",
    "Depending on when a mutation occurs, it can have very different frequency in the population. Consider a mutation that occurred thousands of years ago vs. a mutation that happened very recently:\n",
    "\n",
    "<img src=popgen_fig2.png width=800>\n",
    "\n",
    "Now think about different human populations in the world. At the highest level, we can think of the major population groups of the world as being related as depicted in the tree below:\n",
    "\n",
    "<img src=popgen_fig3.png width=400>\n",
    "\n",
    "(This is a major simplification, and ignores things like admixture between different populations)\n",
    "\n",
    "If a mutation occurred before these populations split, it might be pretty common all across the globe. On the other hand, if a mutation occurred after a population split, it may be common in one population but completely missing from another.\n",
    "\n",
    "<img src=popgen_fig4.png width=700>\n",
    "\n",
    "**Question 3 (1 pt)**: The ancestral copy of a chromosome has base \"T\" at a particular position. This \"T\" mutated to a \"C\" in an Asian individual thousands of years ago but after Asian populations had diverged from other populations. What do you expect the minor allele frequency (frequency of allele \"C\") of this SNP to be in Europeans? Set `expected_maf` to your answer below (ignoring new mutations at the same position, which are rare but can happen). "
   ]
  },
  {
   "cell_type": "code",
   "execution_count": 20,
   "metadata": {
    "deletable": false,
    "nbgrader": {
     "cell_type": "code",
     "checksum": "8e2e66239fc68cc17e8f1e82bef44852",
     "grade": false,
     "grade_id": "answer-maf",
     "locked": false,
     "schema_version": 3,
     "solution": true
    }
   },
   "outputs": [],
   "source": [
    "expected_maf = None\n",
    "# Set to your answer\n",
    "# your code here\n",
    "expected_maf = 0\n",
    "# raise NotImplementedError"
   ]
  },
  {
   "cell_type": "code",
   "execution_count": 21,
   "metadata": {
    "deletable": false,
    "editable": false,
    "nbgrader": {
     "cell_type": "code",
     "checksum": "c481cb9035c7ce62a44ee7976443873e",
     "grade": true,
     "grade_id": "test-maf",
     "locked": true,
     "points": 1,
     "schema_version": 3,
     "solution": false
    }
   },
   "outputs": [
    {
     "data": {
      "text/plain": [
       "'Test result of expected_maf'"
      ]
     },
     "execution_count": 21,
     "metadata": {},
     "output_type": "execute_result"
    }
   ],
   "source": [
    "\"\"\"Test result of expected_maf\"\"\""
   ]
  }
 ],
 "metadata": {
  "kernelspec": {
   "display_name": "Python 3 (ipykernel)",
   "language": "python",
   "name": "python3"
  },
  "language_info": {
   "codemirror_mode": {
    "name": "ipython",
    "version": 3
   },
   "file_extension": ".py",
   "mimetype": "text/x-python",
   "name": "python",
   "nbconvert_exporter": "python",
   "pygments_lexer": "ipython3",
   "version": "3.9.5"
  }
 },
 "nbformat": 4,
 "nbformat_minor": 2
}
