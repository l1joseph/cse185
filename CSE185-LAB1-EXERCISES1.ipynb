{
 "cells": [
  {
   "cell_type": "markdown",
   "metadata": {
    "deletable": false,
    "editable": false,
    "nbgrader": {
     "cell_type": "markdown",
     "checksum": "5d16d4b6b97c21972a39ff566b54977b",
     "grade": false,
     "grade_id": "text-intro-ex1",
     "locked": true,
     "schema_version": 3,
     "solution": false
    }
   },
   "source": [
    "# Lab 1: next generation sequencing and mutation hunting\n",
    "\n",
    "## Exercises 1 (10 pts)\n",
    "\n",
    "The following exercises will help prepare you to complete this week's lab.\n",
    "All lab assignments will be completed using Jupyter notebooks.\n",
    "For our first exercise, we'll focus primarily on making sure you have access to the lab resources on JupyterHub.\n",
    "\n",
    "Each week you will need to complete the following:\n",
    "* **Exercises** focus on more theoretical aspects of the topic we're studying. These will typically consist of 20 pts total. \n",
    "* **Lab assignments** contain the main data analysis assignment. These will typically consist of 80 pts total. In the first several labs, these will have many prompts and code examples. In later labs, you will be given less guidance on specific commands to run.\n",
    "\n",
    "All notebooks for each week are collected (virtually) on Mondays at 9:59am.\n",
    "Each lab assignment is worth 10% of your total grade, graded out of 100 points.\n",
    "Each notebook section will be clearly marked with the total number of possible points for that section.\n",
    "\n",
    "Some reminders on lab policies:\n",
    "* You are encouraged to work with a partner or group on the lab assignments! Although you must all complete your own Jupyter notebooks.\n",
    "* Google is your friend! This course is meant to expose you to what bioinformatics and research in the real life is like. You are allowed to, and encouraged to, google things as much as you like.\n",
    "\n",
    "Please keep in mind these reminders when working on Jupyter assignments:\n",
    "* Do not \"copy\" any cells! Instead, use \"Insert\" to make new cells to play around in. Copying cells creates notebook validation errors that are hard to fix.\n",
    "* You can remove the `raise NotImplementedError` messages. These are meant as placeholders until you have finished answering each question.\n",
    "* Once you are done, you must \"Submit\" your assignment before the deadline. This button should be visible on the \"Assignments\" tab on Jupyter."
   ]
  },
  {
   "cell_type": "markdown",
   "metadata": {
    "deletable": false,
    "editable": false,
    "nbgrader": {
     "cell_type": "markdown",
     "checksum": "9853a674c0060815911bc2958dc48947",
     "grade": false,
     "grade_id": "text-intro",
     "locked": true,
     "schema_version": 3,
     "solution": false
    }
   },
   "source": [
    "## 1. Jupyter Lab setup\n",
    "\n",
    "Navigate to [datahub.ucsd.edu](http://datahub.ucsd.edu) and spawn CSE185. \n",
    "\n",
    "First, we'll make sure you can run a Jupyter notebook.\n",
    "Click the \"Assignments\" tab. Then under released assignments, you should see \"lab1-spring24\".\n",
    "Fetch the assignment.\n",
    "You should now see it under \"downloaded assignments\".\n",
    "\n",
    "Click on a notebook to begin!\n",
    "We'll go over how to validate and submit assignments in lab this week.\n",
    "\n",
    "Now, edit the python code directly in the cell below to make the `HelloWorld` function return the string \"Hello world\"."
   ]
  },
  {
   "cell_type": "code",
   "execution_count": 1,
   "metadata": {
    "deletable": false,
    "nbgrader": {
     "cell_type": "code",
     "checksum": "a2b129222454a5e2b3c7fec34f8c28e8",
     "grade": false,
     "grade_id": "hello-world",
     "locked": false,
     "schema_version": 3,
     "solution": true
    }
   },
   "outputs": [],
   "source": [
    "# Write some python code to return the string \"Hello world\" (5pts)\n",
    "def HelloWorld():\n",
    "    \"\"\"Return the string Hello world\"\"\"\n",
    "    # your code here\n",
    "    x= \"Hello world\"\n",
    "    return str(x)\n"
   ]
  },
  {
   "cell_type": "code",
   "execution_count": 2,
   "metadata": {
    "deletable": false,
    "editable": false,
    "nbgrader": {
     "cell_type": "code",
     "checksum": "27332564a3efb267f7bd5a48eacbdaf4",
     "grade": true,
     "grade_id": "check-hello-world",
     "locked": true,
     "points": 5,
     "schema_version": 3,
     "solution": false
    }
   },
   "outputs": [],
   "source": [
    "\"\"\"Check that HelloWorld function works as planned\"\"\"\n",
    "assert(HelloWorld() == \"Hello world\")"
   ]
  },
  {
   "cell_type": "markdown",
   "metadata": {
    "deletable": false,
    "editable": false,
    "nbgrader": {
     "cell_type": "markdown",
     "checksum": "1b4691acb3bd8e6cda97011546b523ed",
     "grade": false,
     "grade_id": "text-UNIX-navigation",
     "locked": true,
     "schema_version": 3,
     "solution": false
    }
   },
   "source": [
    "## 2. Course server login and basic UNIX navigation\n",
    "\n",
    "Now we will access the terminal that our Jupyter notebook is running on top of.\n",
    "Throughout the lab assignments, we will be switching back and forth between the terminal (where you will run command line tools to perform data analysis) and Jupyter notebooks (where you will complete the assignments and visualize your analysis results).\n",
    "\n",
    "You can access the terminal in two ways:\n",
    "\n",
    "* On the upper right corner of the main Jupyter page (the one that led you to this notebook), click \"New\" then choose \"Terminal\". This will open a new window with a terminal screen.\n",
    "* Alternatively, edit your URL to be https://datahub.ucsd.edu/user/yourusername/lab (rather than /tree) to enter the JupyterLab environment. In the Launcher you should see an option to choose \"Terminal\". JupyterLab is also convenient for viewing the directory structure and files that are available.\n",
    "\n",
    "Both of these will launch a terminal and put you in your home directory. Use `pwd` to print the current working directory:\n",
    "\n",
    "```shell\n",
    "pwd\n",
    "```\n",
    "\n",
    "Use `ls` (list) to see what’s in your home directory (it should be empty). \n",
    "\n",
    "```shell\n",
    "ls\n",
    "```\n",
    "\n",
    "Besides your home directory, the other directory you need to know about is the `~/public/` directory which contains all datasets that will be needed for the assignments. To get to this directory, you can use the `cd` (change directory) command. The general format for this command is:\n",
    "\n",
    "```shell\n",
    "cd [directory]\n",
    "```\n",
    "\n",
    "To use the command, replace the part in brackets with the path to the directory that you’d like to change too. (We will use a similar format throughout the tutorials for code you will need to fill in.) If you just type `cd` alone, the shell will take you to your home directory. To specify relative paths in the [directory] part of the command, a single period refers to the current directory and a double period refers to its parent.\n",
    "\n",
    "From the `~/public` directory, when you type `ls`, you should see multiple directories, including a directory for each lab (e.g. `lab1`, `lab2`, etc. and a `genomes` directory with things like reference genomes. You only have access to read files from this directory. You have write access only to your home directory. We'll talk more about permissions later.\n",
    "\n",
    "<blockquote>\n",
    "**UNIX TIP**: Unix has an ‘autocomplete’ feature that will help you correctly type names and paths. If\n",
    "you start typing the command below and then press the tab key, unix will automatically fill in\n",
    "the rest of the directory name, and you can just hit enter. Try it. \n",
    "</blockquote>\n",
    "\n",
    "Go ahead and navigate to the `lab1` folder:\n",
    "\n",
    "```shell\n",
    "cd lab1/\n",
    "```\n",
    "\n",
    "<blockquote>\n",
    "**UNIX TIP CONTINUED**: If there are multiple options in a file that start with the same letters (ie `lab1`\n",
    "and `lab2`), when you press tab after you start typing, the shell will autocomplete the shared part,\n",
    "then beep (if the sound is on) and wait for you to specify the rest, then you can keep typing and\n",
    "tabbing. \n",
    "</blockquote>\n",
    "\n",
    "Use `ls` to see what’s in the lab1 folder, and `pwd` to get the absolute path to the public folder. Here you should see 6 files. Fastq files (`*.fq`) contain raw Illumina sequencing reads from our samples (1 and 2 refer to the first and second reads in each pair, this was a paired end run). \n",
    "\n",
    "While you are in the `lab1` folder, compare the size of each of these files with the disk usage `ls`\n",
    "command. The optional flag `-l` makes the output in \"long format\" and the `-h` makes the results human readable (*e.g.*, 1K 234M 2G instead of the number of bytes).\n",
    "\n",
    "```shell\n",
    "ls -lh\n",
    "```\n",
    "\n",
    "<blockquote>\n",
    "**IMPORTANT NOTE**: Data analysis you do in the class will often be done in your own home directory. **DO\n",
    "NOT COPY** the raw sequencing files from the public folder into your folder. This is because they are sometimes\n",
    "very large and the server space for each account and the course as a whole is limited, so we won’t make copies unless we have to.\n",
    "</blockquote>"
   ]
  },
  {
   "cell_type": "markdown",
   "metadata": {
    "deletable": false,
    "editable": false,
    "nbgrader": {
     "cell_type": "markdown",
     "checksum": "f8fa9be148d635161d6ade6932059200",
     "grade": false,
     "grade_id": "text-python",
     "locked": true,
     "schema_version": 3,
     "solution": false
    }
   },
   "source": [
    "## 3. Some Python intro\n",
    "\n",
    "While lab assignments will not require writing complex Python programs, we will be using some basic Python quite a bit. If you have not used Python before, we strongly recommend going through intro course through Stepik that was posted during week 1. We will also introduce some basic Python along the way.\n",
    "\n",
    "Many data types, such as strings, and ints, are similar to most other programming languages:\n",
    "\n",
    "```python\n",
    "string_variable = 'my string' # This is a string. It must be surrounded by quotes\n",
    "int_variable = 13 # This is an int\n",
    "```\n",
    "\n",
    "In the question below, we will use a Python data type called a dictionary. A dictionary is simply a map of one thing (key) to another (value). For example, the dictionary below maps numbers (ints) to colors (strings).\n",
    "\n",
    "```python\n",
    "colordict = {1: 'red', 2: 'green'} # Create a dictionary\n",
    "\n",
    "colordict[1] # This will return 'red'\n",
    "colordict[3] = 'purple' # This line adds a new item to the dictionary\n",
    "\n",
    "colordict[5] # This will return an error, since 5 is not a key in our dictionary.\n",
    "```\n",
    "\n",
    "You can try the code snippets above by opening the Terminal and typing \"Python\" to start a Python shell."
   ]
  },
  {
   "cell_type": "markdown",
   "metadata": {
    "deletable": false,
    "editable": false,
    "nbgrader": {
     "cell_type": "markdown",
     "checksum": "8e0be5cc3fe6bf32902b2f3ea4789614",
     "grade": false,
     "grade_id": "ex1-q2",
     "locked": true,
     "schema_version": 3,
     "solution": false
    }
   },
   "source": [
    "**Question 2 (5 pts):** Use the command `ls -lh` to see the human readable file sizes of the fastq files in the `lab1/` directory. In the cell below, add the sizes (in MB) of the rest of the fastq files to the python dictionary `filesizes`, which maps file names to their size (in MB)."
   ]
  },
  {
   "cell_type": "code",
   "execution_count": 3,
   "metadata": {
    "deletable": false,
    "nbgrader": {
     "cell_type": "code",
     "checksum": "069878edd6234aad91c5ae4dbde6cc65",
     "grade": false,
     "grade_id": "ex1-q2-answer",
     "locked": false,
     "schema_version": 3,
     "solution": true
    }
   },
   "outputs": [],
   "source": [
    "# Initialize a dictionary, called filesizes, mapping filename -> file size\n",
    "filesizes = {\n",
    "    'NA12878_child_1.fq': 13,\n",
    "    'NA12878_child_2.fq': 13,\n",
    "}\n",
    "# We can now add items to the dictionary using the syntax below:\n",
    "filesizes['NA12891_father_1.fq'] = 13\n",
    "\n",
    "# your code here\n",
    "filesizes['NA12891_father_2.fq'] = 13\n",
    "filesizes['NA12892_mother_1.fq'] = 14\n",
    "filesizes['NA12892_mother_2.fq'] = 14\n"
   ]
  },
  {
   "cell_type": "code",
   "execution_count": 4,
   "metadata": {
    "deletable": false,
    "editable": false,
    "nbgrader": {
     "cell_type": "code",
     "checksum": "bee12606a1ed4b75933b233aab137aff",
     "grade": true,
     "grade_id": "ex1-q2-check-part1",
     "locked": true,
     "points": 1,
     "schema_version": 3,
     "solution": false
    }
   },
   "outputs": [],
   "source": [
    "# Check that the entered file sizes are correct.\n",
    "# Hidden tests check the rest of the files.\n",
    "assert(filesizes['NA12892_mother_1.fq'] == 14)"
   ]
  },
  {
   "cell_type": "code",
   "execution_count": 5,
   "metadata": {
    "deletable": false,
    "editable": false,
    "nbgrader": {
     "cell_type": "code",
     "checksum": "52b0b35711bcdaddd6eb72fbe0a1f6ad",
     "grade": true,
     "grade_id": "ex1-q2-check-part2",
     "locked": true,
     "points": 1,
     "schema_version": 3,
     "solution": false,
     "task": false
    }
   },
   "outputs": [],
   "source": [
    "# Check that the completed dictionary has the expected number of keys and unique values\n",
    "assert(len(filesizes.keys())==6)\n",
    "assert(len(set(filesizes.values()))==2)\n",
    "\n",
    "# Check all keys are present\n",
    "keys = ['NA12878_child_1.fq', 'NA12878_child_2.fq', 'NA12891_father_1.fq', 'NA12891_father_2.fq', \n",
    "       'NA12892_mother_1.fq', 'NA12892_mother_2.fq']\n",
    "for i in range(len(keys)):\n",
    "    assert(keys[i] in filesizes.keys())"
   ]
  },
  {
   "cell_type": "code",
   "execution_count": 6,
   "metadata": {
    "deletable": false,
    "editable": false,
    "nbgrader": {
     "cell_type": "code",
     "checksum": "0ed58fc95c15047e1d714637bb3148ef",
     "grade": true,
     "grade_id": "ex1-q2-check-part3",
     "locked": true,
     "points": 3,
     "schema_version": 3,
     "solution": false,
     "task": false
    }
   },
   "outputs": [],
   "source": [
    "# Hidden tests to check dictionary values"
   ]
  },
  {
   "cell_type": "markdown",
   "metadata": {
    "deletable": false,
    "editable": false,
    "nbgrader": {
     "cell_type": "markdown",
     "checksum": "e11e927a4fc80e9840c98842991f6a13",
     "grade": false,
     "grade_id": "cell-3749a54203f7f8c8",
     "locked": true,
     "schema_version": 3,
     "solution": false
    }
   },
   "source": [
    "Before turning in your assignment, it is a good idea to click the \"Validate\" button at the top. This will make sure you have answered at least the autograded questions, and will run all visible tests. (Note some tests may be hidden to you, so just because the notebook validates doesn't mean all answers are correct.)"
   ]
  }
 ],
 "metadata": {
  "kernelspec": {
   "display_name": "Python 3 (ipykernel)",
   "language": "python",
   "name": "python3"
  },
  "language_info": {
   "codemirror_mode": {
    "name": "ipython",
    "version": 3
   },
   "file_extension": ".py",
   "mimetype": "text/x-python",
   "name": "python",
   "nbconvert_exporter": "python",
   "pygments_lexer": "ipython3",
   "version": "3.9.5"
  }
 },
 "nbformat": 4,
 "nbformat_minor": 2
}
