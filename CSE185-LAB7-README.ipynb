{
 "cells": [
  {
   "cell_type": "markdown",
   "id": "78936d81",
   "metadata": {},
   "source": [
    "# CSE185 Lab 7 Report - Code Documentation (10 pts)\n",
    "\n",
    "* Document any commands used or additional analysis steps below!\n",
    "* You should include enough detail that the instructors (or your future self) could come back to this several months from now and know exactly what you did and why you did it.\n",
    "* We will not run this notebook, but will look back to see what you did especially if you end up with different answers."
   ]
  },
  {
   "cell_type": "markdown",
   "id": "6ab9a682",
   "metadata": {
    "deletable": false,
    "editable": false,
    "nbgrader": {
     "cell_type": "markdown",
     "checksum": "2c021654f924f1a3bfeced693f0b8879",
     "grade": false,
     "grade_id": "lab4-docs",
     "locked": true,
     "points": 10,
     "schema_version": 3,
     "solution": false,
     "task": true
    }
   },
   "source": [
    "For grading purposes only - Do not copy or edit this cell!"
   ]
  },
  {
   "cell_type": "markdown",
   "id": "fc55e916",
   "metadata": {},
   "source": [
    "## Part 1"
   ]
  },
  {
   "cell_type": "code",
   "execution_count": 2,
   "id": "42eb81da",
   "metadata": {},
   "outputs": [],
   "source": [
    "# Copy file to working dir, lab7\n",
    "cp ~/public/lab7/lab7_accessions.txt .\n",
    "\n",
    "rm -f lab7_virus_genomes.fa\n",
    "cat lab7_accessions.txt | xargs -I{} wget -O - \"https://eutils.ncbi.nlm.nih.gov/entrez/eutils/efetch.fcgi?db=nuccore&id={}&rettype=fasta&retmode=text\" >> lab7_virus_genomes.fa\n",
    "sed -i '/^$/d' lab7_virus_genomes.fa"
   ]
  },
  {
   "cell_type": "markdown",
   "id": "186084c6",
   "metadata": {},
   "source": [
    "## Part 2"
   ]
  },
  {
   "cell_type": "code",
   "execution_count": 4,
   "id": "8f7e194a",
   "metadata": {},
   "outputs": [],
   "source": [
    "# Install mafft\n",
    "wget https://mafft.cbrc.jp/alignment/software/mafft-7.525-with-extensions-src.tgz\n",
    "tar xzvf mafft-7.525-with-extensions-src.tgz\n",
    "cd mafft-7.525-with-extensions/core\n",
    "nano Makefile # Make edits, change top line to PREFIX=$(HOME)/local\n",
    "make\n",
    "make install\n",
    "export PATH=$HOME/local/bin:$PATH\n",
    "    \n",
    "# Run mafft\n",
    "cd ~/lab7\n",
    "mafft --auto lab7_virus_genomes.fa > lab7_virus_genomes.aln"
   ]
  },
  {
   "cell_type": "markdown",
   "id": "35b4ca23",
   "metadata": {},
   "source": [
    "## Part 3"
   ]
  },
  {
   "cell_type": "code",
   "execution_count": null,
   "id": "4d866428",
   "metadata": {},
   "outputs": [],
   "source": [
    "# Install RaxML\n",
    "wget https://github.com/stamatak/standard-RAxML/archive/refs/tags/v8.2.12.tar.gz\n",
    "tar -xzvf v8.2.12.tar.gz\n",
    "cd standard-RAxML-8.2.12\n",
    "make -f Makefile.SSE3.PTHREADS.gcc\n",
    "ls -l raxmlHPC-PTHREADS-SSE3\n",
    "cp raxmlHPC-PTHREADS-SSE3 ~/local/bin/raxml\n",
    "export PATH=$HOME/local/bin:$PATH\n",
    "    \n",
    "#Run RaxML\n",
    "raxml -s lab7_virus_genomes.aln -n lab7_ml_tree -m GTRCAT -p 12345\n",
    "\n",
    "nohup raxml -s lab7_virus_genomes.aln -n lab7_raxml_bs -m GTRCAT -p 12345 -b 12345 -N 100 > bootstrap.log &\n",
    "\n",
    "raxml -f b -z RAxML_bootstrap.lab7_raxml_bs -t RAxML_bestTree.lab7_raxml -n lab7_raxml_support -m GTRCAT\n",
    "raxml -f b -m GTRCAT -t RAxML_bestTree.lab7_ml_tree -z RAxML_bootstrap.lab7_raxml_bs -n lab7_raxml_support"
   ]
  },
  {
   "cell_type": "markdown",
   "id": "ffc862dc",
   "metadata": {},
   "source": [
    "## Part 4 "
   ]
  },
  {
   "cell_type": "markdown",
   "id": "0b395069",
   "metadata": {},
   "source": [
    "Used Itol to create tree and changed labels manually and added bootstrap values."
   ]
  },
  {
   "cell_type": "code",
   "execution_count": null,
   "id": "4a88c5fc",
   "metadata": {},
   "outputs": [],
   "source": []
  },
  {
   "cell_type": "code",
   "execution_count": null,
   "id": "e854304a",
   "metadata": {},
   "outputs": [],
   "source": []
  }
 ],
 "metadata": {
  "kernelspec": {
   "display_name": "Python 3 (clean)",
   "language": "python",
   "name": "python3_clean"
  },
  "language_info": {
   "codemirror_mode": {
    "name": "ipython",
    "version": 3
   },
   "file_extension": ".py",
   "mimetype": "text/x-python",
   "name": "python",
   "nbconvert_exporter": "python",
   "pygments_lexer": "ipython3",
   "version": "3.9.5"
  }
 },
 "nbformat": 4,
 "nbformat_minor": 5
}
