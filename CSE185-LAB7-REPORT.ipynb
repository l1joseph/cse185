{
 "cells": [
  {
   "cell_type": "markdown",
   "metadata": {
    "deletable": false,
    "editable": false,
    "nbgrader": {
     "cell_type": "markdown",
     "checksum": "ec3e5f5ec80c5815a97bc9b3d901d3e6",
     "grade": false,
     "grade_id": "text-intro",
     "locked": true,
     "schema_version": 3,
     "solution": false,
     "task": false
    }
   },
   "source": [
    "# Lab 7: Phylogenetics and COVID-19\n",
    "\n",
    "Skills: Multiple sequence alignment, Phylogenetics, Installing tools, Finding data\n",
    "\n",
    "<font color=\"red\">This lab is optional, but you can earn extra credit (up to 2% of the final grade) by completing it. Note, there is one report notebook and the readme to fill out.</font>\n",
    "\n",
    "## Intro\n",
    "\n",
    "COVID-19 is caused by a novel type of coronavirus, a class of viruses that can cause disease ranging from the common cold to more severe conditions like MERS or SARS. In this lab, we'll analyze the genome multiple strains of the novel coronavirus (SARS-CoV-2), and use comparative genomics techniques to explore how the virus relates to other types of coronaviruses.\n",
    "\n",
    "Our primary goal will be to reconstruct the phylogenetics analysis from [A Novel Coronavirus from Patients with Pneumonia in China, 2019](https://www.nejm.org/doi/full/10.1056/NEJMoa2001017), one of the earliest reports of the full SARS-CoV-2 genome. Specifically, we'll be producing something like their [Figure 4b](https://www.nejm.org/doi/full/10.1056/NEJMoa2001017):\n",
    "\n",
    "<img width=60% src=\"COVID-19-tree-cropped.png\">\n",
    "\n",
    "This tree shows the relationship between multiple SARS-CoV-2 genomes and other coronavirus strains, including SARS, MERS, and coronavirus strains isolated from bats.\n",
    "\n",
    "Unfortunately, they don't give us a whole lot of methods info to go on. Here is a snippet from the relevant methods part: \"Multiple-sequence alignment of the 2019-nCoV and reference sequences was performed with the use of Muscle. Phylogenetic analysis of the complete genomes was performed with RAxML (13) with 1000 bootstrap replicates and a general time-reversible model used as the nucleotide substitution model.\" Not a whole lot of details, but with enough detective work we'll still be able to construct a similar tree!\n",
    "\n",
    "## Overview\n",
    "\n",
    "Our overall goal will be to compare genomes of different virus species. Whereas in previous labs, we usually started from raw reads (in fastq format), for this lab, we'll work with existing assemblies for the viral genomes of interest and skip doing the assembly ourselves. If you choose to do the extra credit part, you'll try your hand at starting from the raw reads and using your own assembly in the phylogenetics analysis.\n",
    "\n",
    "In this lab, we'll go through:\n",
    "1. Obtaining genome assemblies from NCBI and raw reads from SRA.\n",
    "2. Performing multiple sequence alignment.\n",
    "3. Building a phylogenetic tree to explore the evolutionary relationship between virus strains.\n",
    "4. Visualizing phylogenetic trees.\n",
    "\n",
    "### Summary of tools covered\n",
    "In this lab we'll be using or referring to the following tools:\n",
    "\n",
    "* [mafft](https://mafft.cbrc.jp/alignment/software/): for performing multiple sequence alignment\n",
    "* [RaxML](https://github.com/stamatak/standard-RAxML): for building phylogenetics trees"
   ]
  },
  {
   "cell_type": "markdown",
   "metadata": {
    "deletable": false,
    "editable": false,
    "nbgrader": {
     "cell_type": "markdown",
     "checksum": "fe6f6a0ee0c1f5d577b2d70eb531feb4",
     "grade": false,
     "grade_id": "text-part1",
     "locked": true,
     "schema_version": 3,
     "solution": false,
     "task": false
    }
   },
   "source": [
    "# 1. Downloading the data\n",
    "\n",
    "Our first step will be to download the assembled genomes for the viruses we'd like to compare. To help you get started, we've provided (based on manually copying from the figure above...) the NCBI accession numbers for the genomes to compare:\n",
    "\n",
    "```\n",
    "~/public/lab7/lab7_accessions.txt\n",
    "```\n",
    "\n",
    "This is just a text file, with one accession per line, where each accession is unique to a virus strain. These accessions, and brief descriptions, are also listed here: https://docs.google.com/spreadsheets/d/1p1JpKKj1lUmGqrq2fdnX-FHvv7wt-jIdyY4qrRXyT9I/edit?usp=sharing\n",
    "\n",
    "To see info about a certain accession, you can go to NCBI using a link like: https://www.ncbi.nlm.nih.gov/nuccore/AY508724.1\n",
    "\n",
    "You'll see for instance that this genome is from \"SARS coronavirus NS-1, complete genome\" (the original SARS from the early 2000s). You can also scroll through the entire genome sequence since it's so short!\n",
    "\n",
    "To see another accession, replace the last value after the \"/\" in the URL with the genome you're interested in.\n",
    "\n",
    "Our goal in this first section is to download the genomes for each of these accessions into one big fasta file, which we will need to input into the tools we use below. So you'd like to create a fasta file that looks something like this:\n",
    "\n",
    "\n",
    "```\n",
    ">AY508724.1 SARS coronavirus NS-1, complete genome\n",
    "TACCCAGGAAAAGCCAACCAACCTCGATCTCTTGTAGATCTGTTCTCTAAACGAACTTTAAAATCTGTGT...\n",
    ">AY485277.1 SARS coronavirus Sino1-11, complete genome\n",
    "ATATTAGGTTTTTACCTACCCAGGAAAAGCCAACCAACCTCGATCTCTTGTAGATCTGTTCTCTAAACG...\n",
    "```\n",
    "\n",
    "Put your fasta file in  `~/lab7/lab7_virus_genomes.fa`.\n",
    "\n",
    "Some things you might find helpful:\n",
    "* URLs of the form: https://eutils.ncbi.nlm.nih.gov/entrez/eutils/efetch.fcgi?db=nuccore&id=KC545386.1&rettype=fasta&retmode=text (similar for other accessions) will point you to the genome sequence for each accession (in fasta format)\n",
    "* You can use the commands `wget` or `curl` to directly download files from URLs.\n",
    "* Note: in some cases the downloaded sequences have extra empty lines at the end. You should remove empty lines in your final fasta file, either using UNIX or python (or any other method) before moving on.\n",
    "\n",
    "A good way to go about this would be to write a for loop or similar script that would loop through accessions, construct a URL to the fasta file for each, then use `wget` to download. Our solution is able to do all of this in just one line of UNIX commands. Although your solution doesn't have to."
   ]
  },
  {
   "cell_type": "markdown",
   "metadata": {
    "deletable": false,
    "editable": false,
    "nbgrader": {
     "cell_type": "markdown",
     "checksum": "00ab86f444f8d0da393474ee3270d9a4",
     "grade": false,
     "grade_id": "text-part2",
     "locked": true,
     "schema_version": 3,
     "solution": false,
     "task": false
    }
   },
   "source": [
    "# 2. Performing multiple sequence alignment\n",
    "\n",
    "Now that we've collected all the genome sequences we need in a single fasta file, we'll want to compare them to each other. A typical and critical step in order to do so is to create a \"multiple sequence alignment\" between them so we can compare nucleotides at specific bases across strains.\n",
    "\n",
    "The NEJM paper used a tool called [MUSCLE](https://www.ebi.ac.uk/jdispatcher/msa/muscle) for this. We'll deviate from their methods and use an alternative tool called [mafft](https://mafft.cbrc.jp/alignment/software/), since we found that it runs quite a bit faster. `mafft` (and `MUSCLE`) take as input a fasta file with multiple genomes, and outputs a new fasta-like file showing the alignment between those genomes.\n",
    "\n",
    "## 2.1 Install mafft\n",
    "You'll first need to install `mafft`. Since we don't have \"root\" permissions, you'll want to follow their instructions here: https://mafft.cbrc.jp/alignment/software/installation_without_root.html to install to your own home directory.\n",
    "\n",
    "Some notes that may be helpful:\n",
    "* If you change the top line of the Makefile to `PREFIX=$(HOME)/local`, it will install to your home directory\n",
    "* This will install `mafft` to `$HOME/local/bin`. You can run on the command line with the full path: `$HOME/local/bin/mafft`. \n",
    "* Alternatively, you can add this directory to your `$PATH`, which is where UNIX searches for tools. For instance if you do\n",
    "```\n",
    "export PATH=$PATH:$HOME/local/bin\n",
    "```\n",
    "You should then be able to just type `mafft` at the command line like you would for other tools. Before moving on make sure when you type `mafft` or `$HOME/local/bin/mafft` in the command line the mafft instructions come up.\n",
    "\n",
    "Note, if you close and reopen your terminal, you'll have to type this line again to reset the $PATH.\n",
    "\n",
    "## 2.2 Run mafft\n",
    "\n",
    "Once mafft is installed, you'll need to run it! If you type the `mafft` command, it will walk you through inputting the fasta file and ask a name for our output file. Run `mafft` and save the output to a file `lab7_virus_genomes.aln`. Look at the output file. It should have many gap \"-\" characters in addition to nucleotides in it. This so that all the comparable nucleotides are lined up in the final multiple sequence alignment."
   ]
  },
  {
   "cell_type": "markdown",
   "metadata": {
    "deletable": false,
    "editable": false,
    "nbgrader": {
     "cell_type": "markdown",
     "checksum": "eb7bf7e590e5c6845ab98106d4bf81d4",
     "grade": false,
     "grade_id": "text-part3",
     "locked": true,
     "schema_version": 3,
     "solution": false,
     "task": false
    }
   },
   "source": [
    "# 3. Building a tree\n",
    "\n",
    "Now, we're ready to build our tree. We'll use a tool called RaxML (the same one used in the NEJM paper). You can find the RaxML manual here: https://github.com/stamatak/standard-RAxML/blob/master/manual/NewManual.pdf. If the github page doesn't render the pdf properly in your web browser, you can download the pdf and view it locally. There is a lot of stuff in this manual, so please do not try to read the whole thing. We'll give some guidance in how to use this tool to build our tree. \n",
    "\n",
    "## 3.1 Install RaxML\n",
    "\n",
    "You'll first have to install RaxML. We downloaded the `.tar.gz` file for v8.2.12 from Github: https://github.com/stamatak/standard-RAxML/tags and followed the instructions on their Github home page (https://github.com/stamatak/standard-RAxML) for compiling the version \"SSE3.PTHREADS\". After it compiles, it should create a binary file ` raxmlHPC-PTHREADS-SSE3`. It is convenient to add to a location on your $PATH, e.g.:\n",
    "\n",
    "```\n",
    "cp raxmlHPC-PTHREADS-SSE3 ~/local/bin/raxml\n",
    "```\n",
    "\n",
    "Then you can just run the commands for the steps below by typing `raxml` at the command line. If you get an error that the command is not found, make sure the directory `~/local/bin` is included in your `$PATH` environment variable (which is where UNIX searches for tools):\n",
    "\n",
    "```\n",
    "export PATH=$PATH:$HOME/local/bin\n",
    "```\n",
    "\n",
    "## 3.2 Run RaxML\n",
    "\n",
    "Now, use RaxML to build a tree. We will first build a maximum likelihood tree, and annotate the branches with  confidence values, as was done in the NEJM figure. Even though they didn't give us much detail, we do know:\n",
    "* They used bootstrapping to annotate support for each split. Their methods say they did 1000 bootstraps. We'll do fewer to save time. Our solution used 100. But you might want to try with fewer to make sure things are working first.\n",
    "* They used a \"general time-reversible model\". (Hint look for \"GTRCAT\" in the RaxML manual).\n",
    "\n",
    "We'll actually need to use multiple RaxML commands:\n",
    "* The first will find the maximum likelihood tree based on our mafft alignment.\n",
    "* The second will perform the bootstrap search. This one can take a while. You might want to use `nohup`.\n",
    "* The third will draw the bipartitions (bootstrap values) on the best tree generated by the first command. This should be fast.\n",
    "\n",
    "Figure out from the RaxML manual, or from googling, how to do this. You might find Step 4 of this tutorial helpful: https://cme.h-its.org/exelixis/web/software/raxml/hands_on.html. \n",
    "\n",
    "You should end up with a file named something like `RAxML_bipartitionsBranchLabels.lab7_raxml_bs` with your final tree containing branch labels with the bootstrap values. This file is in [newick format](https://en.wikipedia.org/wiki/Newick_format), a common file format to describe trees."
   ]
  },
  {
   "cell_type": "markdown",
   "metadata": {
    "deletable": false,
    "editable": false,
    "nbgrader": {
     "cell_type": "markdown",
     "checksum": "f05f422669cb651b4691e31034a5e29f",
     "grade": false,
     "grade_id": "cell-16c8579bbd6580a0",
     "locked": true,
     "schema_version": 3,
     "solution": false,
     "task": false
    }
   },
   "source": [
    "# 4. Visualize the tree\n",
    "\n",
    "Finally, visualize your tree. We recommend you use one of multiple online tools for viewing trees from Newick files. e.g.:\n",
    "\n",
    "* [iTOL](https://itol.embl.de/upload.cgi)\n",
    "* [ETE Treeview](http://etetoolkit.org/treeview/)\n",
    "\n",
    "For both of these, you can directly copy the text of your newick file into the text box provided and visualize the output. You might want to improve on the intitial visualization they provide. e.g.:\n",
    "* Make sure bootstrap support values are displayed at the branchpoints.\n",
    "* You may want to change the node labels, either programmatically or manually, to make interpreting your tree easier. For instance, rather than display accessing codes like AY508724.1 you could label the nodes something like \"SARS coronavirus NS-1\" based on the annotations here: https://docs.google.com/spreadsheets/d/1p1JpKKj1lUmGqrq2fdnX-FHvv7wt-jIdyY4qrRXyT9I/edit?usp=sharing.\n",
    "* You'll want to at least be able to pick out which leaves correspond to COVID-19 samples, the original SARS, and MERS."
   ]
  },
  {
   "cell_type": "markdown",
   "metadata": {
    "deletable": false,
    "editable": false,
    "nbgrader": {
     "cell_type": "markdown",
     "checksum": "3c4f2f5a86c9156a0abea45459f2524f",
     "grade": false,
     "grade_id": "text-part5",
     "locked": true,
     "schema_version": 3,
     "solution": false,
     "task": false
    }
   },
   "source": [
    "# 5. Summarize your findings\n",
    "\n",
    "In the cell below:\n",
    "* Briefly summarize the methods you used\n",
    "* Include your tree\n",
    "* Summarize your main findings\n",
    "\n",
    "Remember to document your code in the README."
   ]
  },
  {
   "cell_type": "markdown",
   "metadata": {
    "deletable": false,
    "nbgrader": {
     "cell_type": "markdown",
     "checksum": "4203616603f0605986a06c4dd785eecd",
     "grade": true,
     "grade_id": "answer",
     "locked": false,
     "points": 70,
     "schema_version": 3,
     "solution": true,
     "task": false
    }
   },
   "source": [
    "![](covid_tree(185)_100.png)"
   ]
  },
  {
   "cell_type": "markdown",
   "metadata": {},
   "source": [
    "Methods:\n",
    "To investigate the evolutionary relationships between SARS-CoV-2 (the virus causing COVID-19), SARS-CoV (cause of the 2002-2004 SARS outbreak), MERS-CoV (cause of Middle East Respiratory Syndrome), and related coronaviruses, we constructed a phylogenetic tree. We first obtained the NCBI accession numbers for 32 coronavirus genomes, including SARS-CoV-2 isolates from Wuhan, China and Minnesota, USA, the original SARS-CoV strain from the 2003 outbreak, MERS-CoV, and closely related coronaviruses identified in bats. We then downloaded the complete genome sequences in FASTA format using the NCBI E-utilities API.\n",
    "To align the genomes, we performed a multiple sequence alignment using MAFFT with default parameters. From the alignment, we built a maximum likelihood phylogenetic tree using RAxML. Specifically, we used the GTRCAT model of nucleotide substitution and performed 100 bootstrap replicates to assess support for each node in the tree. Finally, we visualized and annotated the resulting tree using iTOL to produce the image included here.\n",
    "Main Findings:\n",
    "The phylogenetic tree provides several key insights into the origins and evolution of SARS-CoV-2 and its relationship to other concerning coronaviruses. Most notably, SARS-CoV-2 clusters closely with several bat SARS-like coronaviruses. This close evolutionary relationship shown in the tree can suggest that SARS-CoV-2 is similar to a version of Coronavirus found in bats.\n",
    "MERS-CoV clusters quite separately with bat coronaviruses HKU4 and HKU5, suggesting a distinct evolutionary origin from the SARS-related coronaviruses.\n",
    "The tree also highlights the global spread of SARS-CoV-2. The two included strains, one from Wuhan, China, where the pandemic originated, and one from Minnesota, USA, are nearly identical, reflecting the rapid global spread of a relatively uniform strain.\n",
    "Notably, the tree topology has high bootstrap support values for most key nodes, particularly those defining the major clades. This indicates the evolutionary relationships depicted, especially the separation of major coronavirus lineages and the clustering of SARS-CoV-2 with bat SARS-like viruses, are robust and well-supported by the underlying genetic data."
   ]
  },
  {
   "cell_type": "code",
   "execution_count": null,
   "metadata": {},
   "outputs": [],
   "source": []
  }
 ],
 "metadata": {
  "kernelspec": {
   "display_name": "Python 3 (ipykernel)",
   "language": "python",
   "name": "python3"
  },
  "language_info": {
   "codemirror_mode": {
    "name": "ipython",
    "version": 3
   },
   "file_extension": ".py",
   "mimetype": "text/x-python",
   "name": "python",
   "nbconvert_exporter": "python",
   "pygments_lexer": "ipython3",
   "version": "3.9.5"
  }
 },
 "nbformat": 4,
 "nbformat_minor": 2
}
